{
 "metadata": {
  "language_info": {
   "codemirror_mode": {
    "name": "ipython",
    "version": 3
   },
   "file_extension": ".py",
   "mimetype": "text/x-python",
   "name": "python",
   "nbconvert_exporter": "python",
   "pygments_lexer": "ipython3",
   "version": "3.7.7-final"
  },
  "orig_nbformat": 2,
  "kernelspec": {
   "name": "Python 3.7.7 64-bit",
   "display_name": "Python 3.7.7 64-bit",
   "metadata": {
    "interpreter": {
     "hash": "f15a31bade87f703e513ad3072b10c6f06d3ccd96b6d16858f67eed0f22e28ac"
    }
   }
  }
 },
 "nbformat": 4,
 "nbformat_minor": 2,
 "cells": [
  {
   "cell_type": "code",
   "execution_count": 1,
   "metadata": {},
   "outputs": [],
   "source": [
    "import numpy as np\n",
    "import pandas as pd\n",
    "from lightgbm import LGBMClassifier\n",
    "import gc\n",
    "from sklearn.model_selection import train_test_split\n",
    "from sklearn.metrics import roc_auc_score\n",
    "import optuna\n",
    "from optuna.samplers import TPESampler\n",
    "SEED = 0"
   ]
  },
  {
   "cell_type": "code",
   "execution_count": 2,
   "metadata": {},
   "outputs": [],
   "source": [
    "types_dict = {\n",
    "    'row_id': 'int64',\n",
    "    'timestamp': 'int64',\n",
    "    'user_id': 'int32',\n",
    "    'content_id': 'int16',\n",
    "    'answered_correctly': 'int8',\n",
    "    'prior_question_elapsed_time': 'float16',\n",
    "    'prior_question_had_explanation': 'boolean'\n",
    "}\n",
    "train_df = pd.read_csv(\n",
    "    'data/train.csv',\n",
    "    usecols=types_dict.keys(),\n",
    "    dtype=types_dict,\n",
    "    index_col=0\n",
    ")\n",
    "question_df = pd.read_csv('data/questions.csv')"
   ]
  },
  {
   "cell_type": "code",
   "execution_count": 3,
   "metadata": {},
   "outputs": [
    {
     "output_type": "stream",
     "name": "stdout",
     "text": [
      "(91107298, 6) (10123034, 6)\n"
     ]
    }
   ],
   "source": [
    "features_df = train_df.iloc[:int(9 /10 * len(train_df))]\n",
    "train_df = train_df.iloc[int(9 /10 * len(train_df)):]\n",
    "print(features_df.shape, train_df.shape)"
   ]
  },
  {
   "cell_type": "code",
   "execution_count": 4,
   "metadata": {},
   "outputs": [],
   "source": [
    "train_questions_only_df = features_df[features_df['answered_correctly']!=-1]"
   ]
  },
  {
   "cell_type": "code",
   "execution_count": 5,
   "metadata": {},
   "outputs": [],
   "source": [
    "new_column = list(question_df.columns)\n",
    "new_column[0] = 'content_id'\n",
    "question_df.columns = new_column\n",
    "question_df = question_df[['content_id', 'part']]"
   ]
  },
  {
   "cell_type": "code",
   "execution_count": 6,
   "metadata": {},
   "outputs": [],
   "source": [
    "train_questions_only_df = train_questions_only_df.merge(question_df, how='left', on='content_id')"
   ]
  },
  {
   "cell_type": "code",
   "execution_count": 7,
   "metadata": {},
   "outputs": [
    {
     "output_type": "execute_result",
     "data": {
      "text/plain": [
       "   timestamp  user_id  content_id  answered_correctly  \\\n",
       "0          0      115        5692                   1   \n",
       "1      56943      115        5716                   1   \n",
       "2     118363      115         128                   1   \n",
       "3     131167      115        7860                   1   \n",
       "4     137965      115        7922                   1   \n",
       "\n",
       "   prior_question_elapsed_time  prior_question_had_explanation  part  \n",
       "0                          NaN                            <NA>     5  \n",
       "1                      36992.0                           False     5  \n",
       "2                      55008.0                           False     1  \n",
       "3                      19008.0                           False     1  \n",
       "4                      11000.0                           False     1  "
      ],
      "text/html": "<div>\n<style scoped>\n    .dataframe tbody tr th:only-of-type {\n        vertical-align: middle;\n    }\n\n    .dataframe tbody tr th {\n        vertical-align: top;\n    }\n\n    .dataframe thead th {\n        text-align: right;\n    }\n</style>\n<table border=\"1\" class=\"dataframe\">\n  <thead>\n    <tr style=\"text-align: right;\">\n      <th></th>\n      <th>timestamp</th>\n      <th>user_id</th>\n      <th>content_id</th>\n      <th>answered_correctly</th>\n      <th>prior_question_elapsed_time</th>\n      <th>prior_question_had_explanation</th>\n      <th>part</th>\n    </tr>\n  </thead>\n  <tbody>\n    <tr>\n      <th>0</th>\n      <td>0</td>\n      <td>115</td>\n      <td>5692</td>\n      <td>1</td>\n      <td>NaN</td>\n      <td>&lt;NA&gt;</td>\n      <td>5</td>\n    </tr>\n    <tr>\n      <th>1</th>\n      <td>56943</td>\n      <td>115</td>\n      <td>5716</td>\n      <td>1</td>\n      <td>36992.0</td>\n      <td>False</td>\n      <td>5</td>\n    </tr>\n    <tr>\n      <th>2</th>\n      <td>118363</td>\n      <td>115</td>\n      <td>128</td>\n      <td>1</td>\n      <td>55008.0</td>\n      <td>False</td>\n      <td>1</td>\n    </tr>\n    <tr>\n      <th>3</th>\n      <td>131167</td>\n      <td>115</td>\n      <td>7860</td>\n      <td>1</td>\n      <td>19008.0</td>\n      <td>False</td>\n      <td>1</td>\n    </tr>\n    <tr>\n      <th>4</th>\n      <td>137965</td>\n      <td>115</td>\n      <td>7922</td>\n      <td>1</td>\n      <td>11000.0</td>\n      <td>False</td>\n      <td>1</td>\n    </tr>\n  </tbody>\n</table>\n</div>"
     },
     "metadata": {},
     "execution_count": 7
    }
   ],
   "source": [
    "train_questions_only_df.head()"
   ]
  },
  {
   "cell_type": "code",
   "execution_count": 8,
   "metadata": {},
   "outputs": [],
   "source": [
    "grouped_by_user_df = train_questions_only_df.groupby('user_id')\n",
    "user_answers_df = grouped_by_user_df.agg({'answered_correctly': ['mean', 'count', 'std', 'median', 'skew']}).copy()\n",
    "user_answers_df.columns = ['mean_user_accuracy', 'questions_answered', 'std_user_accuracy', 'median_user_accuracy', 'skew_user_accuracy']\n",
    "user_question_part_df = grouped_by_user_df.agg({'part': ['mean', 'count', 'std']}).copy()\n",
    "user_question_part_df.columns = ['mean_user_question_part', 'count_question_part', 'std_question_part']\n",
    "\n",
    "grouped_by_content_df = train_questions_only_df.groupby('content_id')\n",
    "content_answers_df = grouped_by_content_df.agg({'answered_correctly': ['mean', 'count', 'std', 'median', 'skew'] }).copy()\n",
    "content_answers_df.columns = ['mean_accuracy', 'question_asked', 'std_accuracy', 'median_accuracy', 'skew_accuracy']\n",
    "\n",
    "grouped_by_part_df = train_questions_only_df.groupby('part')\n",
    "part_answers_df = grouped_by_part_df.agg({'answered_correctly': ['mean', 'count', 'std', 'median', 'skew'] }).copy()\n",
    "part_answers_df.columns = ['mean_part_accuracy', 'question_part_answered', 'std_part_accuracy', 'median_part_accuracy', 'skew_part_accuracy']"
   ]
  },
  {
   "cell_type": "code",
   "execution_count": 9,
   "metadata": {},
   "outputs": [
    {
     "output_type": "execute_result",
     "data": {
      "text/plain": [
       "         mean_user_accuracy  questions_answered  std_user_accuracy  \\\n",
       "user_id                                                              \n",
       "115                0.695652                  46           0.465215   \n",
       "124                0.233333                  30           0.430183   \n",
       "2746               0.578947                  19           0.507257   \n",
       "5382               0.672000                 125           0.471374   \n",
       "8623               0.642202                 109           0.481566   \n",
       "\n",
       "         median_user_accuracy  skew_user_accuracy  \n",
       "user_id                                            \n",
       "115                       1.0           -0.879359  \n",
       "124                       0.0            1.328338  \n",
       "2746                      1.0           -0.347892  \n",
       "5382                      1.0           -0.741648  \n",
       "8623                      1.0           -0.601619  "
      ],
      "text/html": "<div>\n<style scoped>\n    .dataframe tbody tr th:only-of-type {\n        vertical-align: middle;\n    }\n\n    .dataframe tbody tr th {\n        vertical-align: top;\n    }\n\n    .dataframe thead th {\n        text-align: right;\n    }\n</style>\n<table border=\"1\" class=\"dataframe\">\n  <thead>\n    <tr style=\"text-align: right;\">\n      <th></th>\n      <th>mean_user_accuracy</th>\n      <th>questions_answered</th>\n      <th>std_user_accuracy</th>\n      <th>median_user_accuracy</th>\n      <th>skew_user_accuracy</th>\n    </tr>\n    <tr>\n      <th>user_id</th>\n      <th></th>\n      <th></th>\n      <th></th>\n      <th></th>\n      <th></th>\n    </tr>\n  </thead>\n  <tbody>\n    <tr>\n      <th>115</th>\n      <td>0.695652</td>\n      <td>46</td>\n      <td>0.465215</td>\n      <td>1.0</td>\n      <td>-0.879359</td>\n    </tr>\n    <tr>\n      <th>124</th>\n      <td>0.233333</td>\n      <td>30</td>\n      <td>0.430183</td>\n      <td>0.0</td>\n      <td>1.328338</td>\n    </tr>\n    <tr>\n      <th>2746</th>\n      <td>0.578947</td>\n      <td>19</td>\n      <td>0.507257</td>\n      <td>1.0</td>\n      <td>-0.347892</td>\n    </tr>\n    <tr>\n      <th>5382</th>\n      <td>0.672000</td>\n      <td>125</td>\n      <td>0.471374</td>\n      <td>1.0</td>\n      <td>-0.741648</td>\n    </tr>\n    <tr>\n      <th>8623</th>\n      <td>0.642202</td>\n      <td>109</td>\n      <td>0.481566</td>\n      <td>1.0</td>\n      <td>-0.601619</td>\n    </tr>\n  </tbody>\n</table>\n</div>"
     },
     "metadata": {},
     "execution_count": 9
    }
   ],
   "source": [
    "user_answers_df.head()"
   ]
  },
  {
   "cell_type": "code",
   "execution_count": 10,
   "metadata": {},
   "outputs": [
    {
     "output_type": "execute_result",
     "data": {
      "text/plain": [
       "         mean_user_question_part  count_question_part  std_question_part\n",
       "user_id                                                                 \n",
       "115                     1.521739                   46           1.149669\n",
       "124                     4.400000                   30           1.734041\n",
       "2746                    2.315789                   19           0.945905\n",
       "5382                    3.816000                  125           1.608365\n",
       "8623                    3.366972                  109           2.084602"
      ],
      "text/html": "<div>\n<style scoped>\n    .dataframe tbody tr th:only-of-type {\n        vertical-align: middle;\n    }\n\n    .dataframe tbody tr th {\n        vertical-align: top;\n    }\n\n    .dataframe thead th {\n        text-align: right;\n    }\n</style>\n<table border=\"1\" class=\"dataframe\">\n  <thead>\n    <tr style=\"text-align: right;\">\n      <th></th>\n      <th>mean_user_question_part</th>\n      <th>count_question_part</th>\n      <th>std_question_part</th>\n    </tr>\n    <tr>\n      <th>user_id</th>\n      <th></th>\n      <th></th>\n      <th></th>\n    </tr>\n  </thead>\n  <tbody>\n    <tr>\n      <th>115</th>\n      <td>1.521739</td>\n      <td>46</td>\n      <td>1.149669</td>\n    </tr>\n    <tr>\n      <th>124</th>\n      <td>4.400000</td>\n      <td>30</td>\n      <td>1.734041</td>\n    </tr>\n    <tr>\n      <th>2746</th>\n      <td>2.315789</td>\n      <td>19</td>\n      <td>0.945905</td>\n    </tr>\n    <tr>\n      <th>5382</th>\n      <td>3.816000</td>\n      <td>125</td>\n      <td>1.608365</td>\n    </tr>\n    <tr>\n      <th>8623</th>\n      <td>3.366972</td>\n      <td>109</td>\n      <td>2.084602</td>\n    </tr>\n  </tbody>\n</table>\n</div>"
     },
     "metadata": {},
     "execution_count": 10
    }
   ],
   "source": [
    "user_question_part_df.head()"
   ]
  },
  {
   "cell_type": "code",
   "execution_count": 11,
   "metadata": {},
   "outputs": [
    {
     "output_type": "execute_result",
     "data": {
      "text/plain": [
       "            mean_accuracy  question_asked  std_accuracy  median_accuracy  \\\n",
       "content_id                                                                 \n",
       "0                0.908595            6236      0.288207              1.0   \n",
       "1                0.891682            6684      0.310805              1.0   \n",
       "2                0.554656           40499      0.497010              1.0   \n",
       "3                0.779348           20734      0.414696              1.0   \n",
       "4                0.613226           28549      0.487020              1.0   \n",
       "\n",
       "            skew_accuracy  \n",
       "content_id                 \n",
       "0               -2.836339  \n",
       "1               -2.521185  \n",
       "2               -0.219949  \n",
       "3               -1.347371  \n",
       "4               -0.465009  "
      ],
      "text/html": "<div>\n<style scoped>\n    .dataframe tbody tr th:only-of-type {\n        vertical-align: middle;\n    }\n\n    .dataframe tbody tr th {\n        vertical-align: top;\n    }\n\n    .dataframe thead th {\n        text-align: right;\n    }\n</style>\n<table border=\"1\" class=\"dataframe\">\n  <thead>\n    <tr style=\"text-align: right;\">\n      <th></th>\n      <th>mean_accuracy</th>\n      <th>question_asked</th>\n      <th>std_accuracy</th>\n      <th>median_accuracy</th>\n      <th>skew_accuracy</th>\n    </tr>\n    <tr>\n      <th>content_id</th>\n      <th></th>\n      <th></th>\n      <th></th>\n      <th></th>\n      <th></th>\n    </tr>\n  </thead>\n  <tbody>\n    <tr>\n      <th>0</th>\n      <td>0.908595</td>\n      <td>6236</td>\n      <td>0.288207</td>\n      <td>1.0</td>\n      <td>-2.836339</td>\n    </tr>\n    <tr>\n      <th>1</th>\n      <td>0.891682</td>\n      <td>6684</td>\n      <td>0.310805</td>\n      <td>1.0</td>\n      <td>-2.521185</td>\n    </tr>\n    <tr>\n      <th>2</th>\n      <td>0.554656</td>\n      <td>40499</td>\n      <td>0.497010</td>\n      <td>1.0</td>\n      <td>-0.219949</td>\n    </tr>\n    <tr>\n      <th>3</th>\n      <td>0.779348</td>\n      <td>20734</td>\n      <td>0.414696</td>\n      <td>1.0</td>\n      <td>-1.347371</td>\n    </tr>\n    <tr>\n      <th>4</th>\n      <td>0.613226</td>\n      <td>28549</td>\n      <td>0.487020</td>\n      <td>1.0</td>\n      <td>-0.465009</td>\n    </tr>\n  </tbody>\n</table>\n</div>"
     },
     "metadata": {},
     "execution_count": 11
    }
   ],
   "source": [
    "content_answers_df.head()"
   ]
  },
  {
   "cell_type": "code",
   "execution_count": 12,
   "metadata": {},
   "outputs": [
    {
     "output_type": "execute_result",
     "data": {
      "text/plain": [
       "      mean_part_accuracy  question_part_answered  std_part_accuracy  \\\n",
       "part                                                                  \n",
       "1               0.745481                 6726438           0.435591   \n",
       "2               0.708740                16884487           0.454343   \n",
       "3               0.701916                 7763910           0.457416   \n",
       "4               0.631078                 7270010           0.482513   \n",
       "5               0.610045                36815816           0.487740   \n",
       "\n",
       "      median_part_accuracy  skew_part_accuracy  \n",
       "part                                            \n",
       "1                        1           -1.127118  \n",
       "2                        1           -0.918864  \n",
       "3                        1           -0.882856  \n",
       "4                        1           -0.543316  \n",
       "5                        1           -0.451246  "
      ],
      "text/html": "<div>\n<style scoped>\n    .dataframe tbody tr th:only-of-type {\n        vertical-align: middle;\n    }\n\n    .dataframe tbody tr th {\n        vertical-align: top;\n    }\n\n    .dataframe thead th {\n        text-align: right;\n    }\n</style>\n<table border=\"1\" class=\"dataframe\">\n  <thead>\n    <tr style=\"text-align: right;\">\n      <th></th>\n      <th>mean_part_accuracy</th>\n      <th>question_part_answered</th>\n      <th>std_part_accuracy</th>\n      <th>median_part_accuracy</th>\n      <th>skew_part_accuracy</th>\n    </tr>\n    <tr>\n      <th>part</th>\n      <th></th>\n      <th></th>\n      <th></th>\n      <th></th>\n      <th></th>\n    </tr>\n  </thead>\n  <tbody>\n    <tr>\n      <th>1</th>\n      <td>0.745481</td>\n      <td>6726438</td>\n      <td>0.435591</td>\n      <td>1</td>\n      <td>-1.127118</td>\n    </tr>\n    <tr>\n      <th>2</th>\n      <td>0.708740</td>\n      <td>16884487</td>\n      <td>0.454343</td>\n      <td>1</td>\n      <td>-0.918864</td>\n    </tr>\n    <tr>\n      <th>3</th>\n      <td>0.701916</td>\n      <td>7763910</td>\n      <td>0.457416</td>\n      <td>1</td>\n      <td>-0.882856</td>\n    </tr>\n    <tr>\n      <th>4</th>\n      <td>0.631078</td>\n      <td>7270010</td>\n      <td>0.482513</td>\n      <td>1</td>\n      <td>-0.543316</td>\n    </tr>\n    <tr>\n      <th>5</th>\n      <td>0.610045</td>\n      <td>36815816</td>\n      <td>0.487740</td>\n      <td>1</td>\n      <td>-0.451246</td>\n    </tr>\n  </tbody>\n</table>\n</div>"
     },
     "metadata": {},
     "execution_count": 12
    }
   ],
   "source": [
    "part_answers_df.head()"
   ]
  },
  {
   "cell_type": "code",
   "execution_count": 13,
   "metadata": {},
   "outputs": [
    {
     "output_type": "execute_result",
     "data": {
      "text/plain": [
       "177"
      ]
     },
     "metadata": {},
     "execution_count": 13
    }
   ],
   "source": [
    "del features_df\n",
    "del grouped_by_user_df\n",
    "del grouped_by_content_df\n",
    "del grouped_by_part_df\n",
    "\n",
    "gc.collect()"
   ]
  },
  {
   "cell_type": "code",
   "execution_count": 14,
   "metadata": {},
   "outputs": [],
   "source": [
    "features = [\n",
    "    'mean_user_accuracy', \n",
    "    'questions_answered',\n",
    "    'std_user_accuracy', \n",
    "    'median_user_accuracy',\n",
    "    'skew_user_accuracy',\n",
    "    'mean_accuracy', \n",
    "    'question_asked',\n",
    "    'std_accuracy', \n",
    "    'median_accuracy',\n",
    "    'skew_accuracy',\n",
    "    'mean_part_accuracy',\n",
    "    'question_part_answered',\n",
    "    'std_part_accuracy',\n",
    "    'median_part_accuracy',\n",
    "    'skew_part_accuracy',\n",
    "    'mean_user_question_part',\n",
    "    'count_question_part',\n",
    "    'std_question_part',\n",
    "    'prior_question_elapsed_time', \n",
    "    'prior_question_had_explanation'\n",
    "]\n",
    "target = 'answered_correctly'\n",
    "train_df = train_df[train_df[target] != -1]"
   ]
  },
  {
   "cell_type": "code",
   "execution_count": 15,
   "metadata": {},
   "outputs": [],
   "source": [
    "train_df = train_df.merge(question_df, how='left', on='content_id')\n",
    "train_df = train_df.merge(user_answers_df, how='left', on='user_id')\n",
    "train_df = train_df.merge(user_question_part_df, how='left', on='user_id')\n",
    "train_df = train_df.merge(content_answers_df, how='left', on='content_id')\n",
    "train_df = train_df.merge(part_answers_df, how='left', on='part')"
   ]
  },
  {
   "cell_type": "code",
   "execution_count": 16,
   "metadata": {},
   "outputs": [
    {
     "output_type": "execute_result",
     "data": {
      "text/plain": [
       "    timestamp     user_id  content_id  answered_correctly  \\\n",
       "0  8231964660  1933715875       11259                   0   \n",
       "1  8232002976  1933715875        4957                   1   \n",
       "2  8232096407  1933715875        5113                   1   \n",
       "3  8232119872  1933715875        4699                   1   \n",
       "4  8232142930  1933715875       11430                   1   \n",
       "\n",
       "   prior_question_elapsed_time  prior_question_had_explanation  part  \\\n",
       "0                      13000.0                            True     5   \n",
       "1                      44000.0                            True     5   \n",
       "2                      22000.0                            True     5   \n",
       "3                          inf                            True     5   \n",
       "4                       9000.0                            True     5   \n",
       "\n",
       "   mean_user_accuracy  questions_answered  std_user_accuracy  ...  \\\n",
       "0            0.779843              5219.0           0.414392  ...   \n",
       "1            0.779843              5219.0           0.414392  ...   \n",
       "2            0.779843              5219.0           0.414392  ...   \n",
       "3            0.779843              5219.0           0.414392  ...   \n",
       "4            0.779843              5219.0           0.414392  ...   \n",
       "\n",
       "   mean_accuracy  question_asked  std_accuracy  median_accuracy  \\\n",
       "0       0.532146          1291.0      0.499159              1.0   \n",
       "1       0.584772          2548.0      0.492858              1.0   \n",
       "2       0.603571          1960.0      0.489280              1.0   \n",
       "3       0.694888          2504.0      0.460547              1.0   \n",
       "4       0.765869          1922.0      0.423565              1.0   \n",
       "\n",
       "   skew_accuracy  mean_part_accuracy  question_part_answered  \\\n",
       "0      -0.128999            0.610045                36815816   \n",
       "1      -0.344273            0.610045                36815816   \n",
       "2      -0.423795            0.610045                36815816   \n",
       "3      -0.847011            0.610045                36815816   \n",
       "4      -1.256695            0.610045                36815816   \n",
       "\n",
       "   std_part_accuracy  median_part_accuracy  skew_part_accuracy  \n",
       "0            0.48774                     1           -0.451246  \n",
       "1            0.48774                     1           -0.451246  \n",
       "2            0.48774                     1           -0.451246  \n",
       "3            0.48774                     1           -0.451246  \n",
       "4            0.48774                     1           -0.451246  \n",
       "\n",
       "[5 rows x 25 columns]"
      ],
      "text/html": "<div>\n<style scoped>\n    .dataframe tbody tr th:only-of-type {\n        vertical-align: middle;\n    }\n\n    .dataframe tbody tr th {\n        vertical-align: top;\n    }\n\n    .dataframe thead th {\n        text-align: right;\n    }\n</style>\n<table border=\"1\" class=\"dataframe\">\n  <thead>\n    <tr style=\"text-align: right;\">\n      <th></th>\n      <th>timestamp</th>\n      <th>user_id</th>\n      <th>content_id</th>\n      <th>answered_correctly</th>\n      <th>prior_question_elapsed_time</th>\n      <th>prior_question_had_explanation</th>\n      <th>part</th>\n      <th>mean_user_accuracy</th>\n      <th>questions_answered</th>\n      <th>std_user_accuracy</th>\n      <th>...</th>\n      <th>mean_accuracy</th>\n      <th>question_asked</th>\n      <th>std_accuracy</th>\n      <th>median_accuracy</th>\n      <th>skew_accuracy</th>\n      <th>mean_part_accuracy</th>\n      <th>question_part_answered</th>\n      <th>std_part_accuracy</th>\n      <th>median_part_accuracy</th>\n      <th>skew_part_accuracy</th>\n    </tr>\n  </thead>\n  <tbody>\n    <tr>\n      <th>0</th>\n      <td>8231964660</td>\n      <td>1933715875</td>\n      <td>11259</td>\n      <td>0</td>\n      <td>13000.0</td>\n      <td>True</td>\n      <td>5</td>\n      <td>0.779843</td>\n      <td>5219.0</td>\n      <td>0.414392</td>\n      <td>...</td>\n      <td>0.532146</td>\n      <td>1291.0</td>\n      <td>0.499159</td>\n      <td>1.0</td>\n      <td>-0.128999</td>\n      <td>0.610045</td>\n      <td>36815816</td>\n      <td>0.48774</td>\n      <td>1</td>\n      <td>-0.451246</td>\n    </tr>\n    <tr>\n      <th>1</th>\n      <td>8232002976</td>\n      <td>1933715875</td>\n      <td>4957</td>\n      <td>1</td>\n      <td>44000.0</td>\n      <td>True</td>\n      <td>5</td>\n      <td>0.779843</td>\n      <td>5219.0</td>\n      <td>0.414392</td>\n      <td>...</td>\n      <td>0.584772</td>\n      <td>2548.0</td>\n      <td>0.492858</td>\n      <td>1.0</td>\n      <td>-0.344273</td>\n      <td>0.610045</td>\n      <td>36815816</td>\n      <td>0.48774</td>\n      <td>1</td>\n      <td>-0.451246</td>\n    </tr>\n    <tr>\n      <th>2</th>\n      <td>8232096407</td>\n      <td>1933715875</td>\n      <td>5113</td>\n      <td>1</td>\n      <td>22000.0</td>\n      <td>True</td>\n      <td>5</td>\n      <td>0.779843</td>\n      <td>5219.0</td>\n      <td>0.414392</td>\n      <td>...</td>\n      <td>0.603571</td>\n      <td>1960.0</td>\n      <td>0.489280</td>\n      <td>1.0</td>\n      <td>-0.423795</td>\n      <td>0.610045</td>\n      <td>36815816</td>\n      <td>0.48774</td>\n      <td>1</td>\n      <td>-0.451246</td>\n    </tr>\n    <tr>\n      <th>3</th>\n      <td>8232119872</td>\n      <td>1933715875</td>\n      <td>4699</td>\n      <td>1</td>\n      <td>inf</td>\n      <td>True</td>\n      <td>5</td>\n      <td>0.779843</td>\n      <td>5219.0</td>\n      <td>0.414392</td>\n      <td>...</td>\n      <td>0.694888</td>\n      <td>2504.0</td>\n      <td>0.460547</td>\n      <td>1.0</td>\n      <td>-0.847011</td>\n      <td>0.610045</td>\n      <td>36815816</td>\n      <td>0.48774</td>\n      <td>1</td>\n      <td>-0.451246</td>\n    </tr>\n    <tr>\n      <th>4</th>\n      <td>8232142930</td>\n      <td>1933715875</td>\n      <td>11430</td>\n      <td>1</td>\n      <td>9000.0</td>\n      <td>True</td>\n      <td>5</td>\n      <td>0.779843</td>\n      <td>5219.0</td>\n      <td>0.414392</td>\n      <td>...</td>\n      <td>0.765869</td>\n      <td>1922.0</td>\n      <td>0.423565</td>\n      <td>1.0</td>\n      <td>-1.256695</td>\n      <td>0.610045</td>\n      <td>36815816</td>\n      <td>0.48774</td>\n      <td>1</td>\n      <td>-0.451246</td>\n    </tr>\n  </tbody>\n</table>\n<p>5 rows × 25 columns</p>\n</div>"
     },
     "metadata": {},
     "execution_count": 16
    }
   ],
   "source": [
    "train_df.head()"
   ]
  },
  {
   "cell_type": "code",
   "execution_count": 17,
   "metadata": {},
   "outputs": [],
   "source": [
    "train_df['prior_question_had_explanation'] = train_df['prior_question_had_explanation'].fillna(value = False).astype(bool)\n",
    "train_df = train_df.fillna(value = -1)\n",
    "train_df = train_df[features + [target]]\n",
    "train_df = train_df.replace([np.inf, -np.inf], np.nan)\n",
    "train_df = train_df.fillna(0)"
   ]
  },
  {
   "cell_type": "code",
   "execution_count": 18,
   "metadata": {},
   "outputs": [
    {
     "output_type": "execute_result",
     "data": {
      "text/plain": [
       "   mean_user_accuracy  questions_answered  std_user_accuracy  \\\n",
       "0            0.779843              5219.0           0.414392   \n",
       "1            0.779843              5219.0           0.414392   \n",
       "2            0.779843              5219.0           0.414392   \n",
       "3            0.779843              5219.0           0.414392   \n",
       "4            0.779843              5219.0           0.414392   \n",
       "\n",
       "   median_user_accuracy  skew_user_accuracy  mean_accuracy  question_asked  \\\n",
       "0                   1.0           -1.351136       0.532146          1291.0   \n",
       "1                   1.0           -1.351136       0.584772          2548.0   \n",
       "2                   1.0           -1.351136       0.603571          1960.0   \n",
       "3                   1.0           -1.351136       0.694888          2504.0   \n",
       "4                   1.0           -1.351136       0.765869          1922.0   \n",
       "\n",
       "   std_accuracy  median_accuracy  skew_accuracy  ...  question_part_answered  \\\n",
       "0      0.499159              1.0      -0.128999  ...                36815816   \n",
       "1      0.492858              1.0      -0.344273  ...                36815816   \n",
       "2      0.489280              1.0      -0.423795  ...                36815816   \n",
       "3      0.460547              1.0      -0.847011  ...                36815816   \n",
       "4      0.423565              1.0      -1.256695  ...                36815816   \n",
       "\n",
       "   std_part_accuracy  median_part_accuracy  skew_part_accuracy  \\\n",
       "0            0.48774                     1           -0.451246   \n",
       "1            0.48774                     1           -0.451246   \n",
       "2            0.48774                     1           -0.451246   \n",
       "3            0.48774                     1           -0.451246   \n",
       "4            0.48774                     1           -0.451246   \n",
       "\n",
       "   mean_user_question_part  count_question_part  std_question_part  \\\n",
       "0                 4.290094               5219.0           1.675174   \n",
       "1                 4.290094               5219.0           1.675174   \n",
       "2                 4.290094               5219.0           1.675174   \n",
       "3                 4.290094               5219.0           1.675174   \n",
       "4                 4.290094               5219.0           1.675174   \n",
       "\n",
       "   prior_question_elapsed_time  prior_question_had_explanation  \\\n",
       "0                      13000.0                            True   \n",
       "1                      44000.0                            True   \n",
       "2                      22000.0                            True   \n",
       "3                          0.0                            True   \n",
       "4                       9000.0                            True   \n",
       "\n",
       "   answered_correctly  \n",
       "0                   0  \n",
       "1                   1  \n",
       "2                   1  \n",
       "3                   1  \n",
       "4                   1  \n",
       "\n",
       "[5 rows x 21 columns]"
      ],
      "text/html": "<div>\n<style scoped>\n    .dataframe tbody tr th:only-of-type {\n        vertical-align: middle;\n    }\n\n    .dataframe tbody tr th {\n        vertical-align: top;\n    }\n\n    .dataframe thead th {\n        text-align: right;\n    }\n</style>\n<table border=\"1\" class=\"dataframe\">\n  <thead>\n    <tr style=\"text-align: right;\">\n      <th></th>\n      <th>mean_user_accuracy</th>\n      <th>questions_answered</th>\n      <th>std_user_accuracy</th>\n      <th>median_user_accuracy</th>\n      <th>skew_user_accuracy</th>\n      <th>mean_accuracy</th>\n      <th>question_asked</th>\n      <th>std_accuracy</th>\n      <th>median_accuracy</th>\n      <th>skew_accuracy</th>\n      <th>...</th>\n      <th>question_part_answered</th>\n      <th>std_part_accuracy</th>\n      <th>median_part_accuracy</th>\n      <th>skew_part_accuracy</th>\n      <th>mean_user_question_part</th>\n      <th>count_question_part</th>\n      <th>std_question_part</th>\n      <th>prior_question_elapsed_time</th>\n      <th>prior_question_had_explanation</th>\n      <th>answered_correctly</th>\n    </tr>\n  </thead>\n  <tbody>\n    <tr>\n      <th>0</th>\n      <td>0.779843</td>\n      <td>5219.0</td>\n      <td>0.414392</td>\n      <td>1.0</td>\n      <td>-1.351136</td>\n      <td>0.532146</td>\n      <td>1291.0</td>\n      <td>0.499159</td>\n      <td>1.0</td>\n      <td>-0.128999</td>\n      <td>...</td>\n      <td>36815816</td>\n      <td>0.48774</td>\n      <td>1</td>\n      <td>-0.451246</td>\n      <td>4.290094</td>\n      <td>5219.0</td>\n      <td>1.675174</td>\n      <td>13000.0</td>\n      <td>True</td>\n      <td>0</td>\n    </tr>\n    <tr>\n      <th>1</th>\n      <td>0.779843</td>\n      <td>5219.0</td>\n      <td>0.414392</td>\n      <td>1.0</td>\n      <td>-1.351136</td>\n      <td>0.584772</td>\n      <td>2548.0</td>\n      <td>0.492858</td>\n      <td>1.0</td>\n      <td>-0.344273</td>\n      <td>...</td>\n      <td>36815816</td>\n      <td>0.48774</td>\n      <td>1</td>\n      <td>-0.451246</td>\n      <td>4.290094</td>\n      <td>5219.0</td>\n      <td>1.675174</td>\n      <td>44000.0</td>\n      <td>True</td>\n      <td>1</td>\n    </tr>\n    <tr>\n      <th>2</th>\n      <td>0.779843</td>\n      <td>5219.0</td>\n      <td>0.414392</td>\n      <td>1.0</td>\n      <td>-1.351136</td>\n      <td>0.603571</td>\n      <td>1960.0</td>\n      <td>0.489280</td>\n      <td>1.0</td>\n      <td>-0.423795</td>\n      <td>...</td>\n      <td>36815816</td>\n      <td>0.48774</td>\n      <td>1</td>\n      <td>-0.451246</td>\n      <td>4.290094</td>\n      <td>5219.0</td>\n      <td>1.675174</td>\n      <td>22000.0</td>\n      <td>True</td>\n      <td>1</td>\n    </tr>\n    <tr>\n      <th>3</th>\n      <td>0.779843</td>\n      <td>5219.0</td>\n      <td>0.414392</td>\n      <td>1.0</td>\n      <td>-1.351136</td>\n      <td>0.694888</td>\n      <td>2504.0</td>\n      <td>0.460547</td>\n      <td>1.0</td>\n      <td>-0.847011</td>\n      <td>...</td>\n      <td>36815816</td>\n      <td>0.48774</td>\n      <td>1</td>\n      <td>-0.451246</td>\n      <td>4.290094</td>\n      <td>5219.0</td>\n      <td>1.675174</td>\n      <td>0.0</td>\n      <td>True</td>\n      <td>1</td>\n    </tr>\n    <tr>\n      <th>4</th>\n      <td>0.779843</td>\n      <td>5219.0</td>\n      <td>0.414392</td>\n      <td>1.0</td>\n      <td>-1.351136</td>\n      <td>0.765869</td>\n      <td>1922.0</td>\n      <td>0.423565</td>\n      <td>1.0</td>\n      <td>-1.256695</td>\n      <td>...</td>\n      <td>36815816</td>\n      <td>0.48774</td>\n      <td>1</td>\n      <td>-0.451246</td>\n      <td>4.290094</td>\n      <td>5219.0</td>\n      <td>1.675174</td>\n      <td>9000.0</td>\n      <td>True</td>\n      <td>1</td>\n    </tr>\n  </tbody>\n</table>\n<p>5 rows × 21 columns</p>\n</div>"
     },
     "metadata": {},
     "execution_count": 18
    }
   ],
   "source": [
    "train_df.head()"
   ]
  },
  {
   "cell_type": "code",
   "execution_count": 19,
   "metadata": {},
   "outputs": [],
   "source": [
    "train_df, test_df = train_test_split(train_df, random_state=SEED, test_size=0.2)"
   ]
  },
  {
   "cell_type": "code",
   "execution_count": 20,
   "metadata": {
    "tags": [
     "outputPrepend"
    ]
   },
   "outputs": [
    {
     "output_type": "stream",
     "name": "stderr",
     "text": [
      "ignored. Current value: feature_fraction=0.9222006560140852\n",
      "[LightGBM] [Warning] min_data_in_leaf is set=11, min_child_samples=926 will be ignored. Current value: min_data_in_leaf=11\n",
      "\u001b[32m[I 2020-10-25 16:47:56,104]\u001b[0m Trial 40 finished with value: 0.7218473766323035 and parameters: {'num_leaves': 17, 'n_estimators': 192, 'max_depth': 8, 'min_child_samples': 926, 'learning_rate': 0.7354475480981951, 'min_data_in_leaf': 11, 'bagging_fraction': 0.18097265067756166, 'feature_fraction': 0.9222006560140852}. Best is trial 1 with value: 0.7221725183566224.\u001b[0m\n",
      "[LightGBM] [Warning] feature_fraction is set=0.6755495477788396, colsample_bytree=1.0 will be ignored. Current value: feature_fraction=0.6755495477788396\n",
      "[LightGBM] [Warning] min_data_in_leaf is set=71, min_child_samples=1107 will be ignored. Current value: min_data_in_leaf=71\n",
      "\u001b[32m[I 2020-10-25 16:48:24,083]\u001b[0m Trial 41 finished with value: 0.7220979457686002 and parameters: {'num_leaves': 19, 'n_estimators': 167, 'max_depth': 8, 'min_child_samples': 1107, 'learning_rate': 0.5039955607375821, 'min_data_in_leaf': 71, 'bagging_fraction': 0.7842262715305603, 'feature_fraction': 0.6755495477788396}. Best is trial 1 with value: 0.7221725183566224.\u001b[0m\n",
      "[LightGBM] [Warning] feature_fraction is set=0.7809295963348561, colsample_bytree=1.0 will be ignored. Current value: feature_fraction=0.7809295963348561\n",
      "[LightGBM] [Warning] min_data_in_leaf is set=75, min_child_samples=1053 will be ignored. Current value: min_data_in_leaf=75\n",
      "\u001b[32m[I 2020-10-25 16:48:50,364]\u001b[0m Trial 42 finished with value: 0.7221228829146913 and parameters: {'num_leaves': 19, 'n_estimators': 146, 'max_depth': 8, 'min_child_samples': 1053, 'learning_rate': 0.4648576217641107, 'min_data_in_leaf': 75, 'bagging_fraction': 0.793453528962801, 'feature_fraction': 0.7809295963348561}. Best is trial 1 with value: 0.7221725183566224.\u001b[0m\n",
      "[LightGBM] [Warning] feature_fraction is set=0.7430545116700223, colsample_bytree=1.0 will be ignored. Current value: feature_fraction=0.7430545116700223\n",
      "[LightGBM] [Warning] min_data_in_leaf is set=80, min_child_samples=1142 will be ignored. Current value: min_data_in_leaf=80\n",
      "\u001b[32m[I 2020-10-25 16:49:17,774]\u001b[0m Trial 43 finished with value: 0.7221015090648183 and parameters: {'num_leaves': 23, 'n_estimators': 152, 'max_depth': 7, 'min_child_samples': 1142, 'learning_rate': 0.5246691292872596, 'min_data_in_leaf': 80, 'bagging_fraction': 0.9730234857260411, 'feature_fraction': 0.7430545116700223}. Best is trial 1 with value: 0.7221725183566224.\u001b[0m\n",
      "[LightGBM] [Warning] feature_fraction is set=0.8711353398339422, colsample_bytree=1.0 will be ignored. Current value: feature_fraction=0.8711353398339422\n",
      "[LightGBM] [Warning] min_data_in_leaf is set=87, min_child_samples=986 will be ignored. Current value: min_data_in_leaf=87\n",
      "\u001b[32m[I 2020-10-25 16:49:45,954]\u001b[0m Trial 44 finished with value: 0.7219950740119274 and parameters: {'num_leaves': 20, 'n_estimators': 180, 'max_depth': 8, 'min_child_samples': 986, 'learning_rate': 0.5622278349390742, 'min_data_in_leaf': 87, 'bagging_fraction': 0.9140308930451011, 'feature_fraction': 0.8711353398339422}. Best is trial 1 with value: 0.7221725183566224.\u001b[0m\n",
      "[LightGBM] [Warning] feature_fraction is set=0.7133796120076988, colsample_bytree=1.0 will be ignored. Current value: feature_fraction=0.7133796120076988\n",
      "[LightGBM] [Warning] min_data_in_leaf is set=57, min_child_samples=1073 will be ignored. Current value: min_data_in_leaf=57\n",
      "\u001b[32m[I 2020-10-25 16:50:10,329]\u001b[0m Trial 45 finished with value: 0.7193626885757731 and parameters: {'num_leaves': 2, 'n_estimators': 214, 'max_depth': 7, 'min_child_samples': 1073, 'learning_rate': 0.3820384700103261, 'min_data_in_leaf': 57, 'bagging_fraction': 0.9988493524107904, 'feature_fraction': 0.7133796120076988}. Best is trial 1 with value: 0.7221725183566224.\u001b[0m\n",
      "[LightGBM] [Warning] feature_fraction is set=0.5848744366154371, colsample_bytree=1.0 will be ignored. Current value: feature_fraction=0.5848744366154371\n",
      "[LightGBM] [Warning] min_data_in_leaf is set=68, min_child_samples=844 will be ignored. Current value: min_data_in_leaf=68\n",
      "\u001b[32m[I 2020-10-25 16:50:39,633]\u001b[0m Trial 46 finished with value: 0.7221380934748817 and parameters: {'num_leaves': 15, 'n_estimators': 164, 'max_depth': 8, 'min_child_samples': 844, 'learning_rate': 0.28769759625723784, 'min_data_in_leaf': 68, 'bagging_fraction': 0.29807993535195576, 'feature_fraction': 0.5848744366154371}. Best is trial 1 with value: 0.7221725183566224.\u001b[0m\n",
      "[LightGBM] [Warning] feature_fraction is set=0.9999768478843554, colsample_bytree=1.0 will be ignored. Current value: feature_fraction=0.9999768478843554\n",
      "[LightGBM] [Warning] min_data_in_leaf is set=28, min_child_samples=593 will be ignored. Current value: min_data_in_leaf=28\n",
      "\u001b[32m[I 2020-10-25 16:51:09,817]\u001b[0m Trial 47 finished with value: 0.722136004945929 and parameters: {'num_leaves': 18, 'n_estimators': 178, 'max_depth': 5, 'min_child_samples': 593, 'learning_rate': 0.4439178120856342, 'min_data_in_leaf': 28, 'bagging_fraction': 0.8305138461749559, 'feature_fraction': 0.9999768478843554}. Best is trial 1 with value: 0.7221725183566224.\u001b[0m\n",
      "[LightGBM] [Warning] feature_fraction is set=0.7039601304966634, colsample_bytree=1.0 will be ignored. Current value: feature_fraction=0.7039601304966634\n",
      "[LightGBM] [Warning] min_data_in_leaf is set=47, min_child_samples=1197 will be ignored. Current value: min_data_in_leaf=47\n",
      "\u001b[32m[I 2020-10-25 16:51:35,406]\u001b[0m Trial 48 finished with value: 0.7220318799385397 and parameters: {'num_leaves': 22, 'n_estimators': 129, 'max_depth': 6, 'min_child_samples': 1197, 'learning_rate': 0.625101471943108, 'min_data_in_leaf': 47, 'bagging_fraction': 0.3820025181364538, 'feature_fraction': 0.7039601304966634}. Best is trial 1 with value: 0.7221725183566224.\u001b[0m\n",
      "[LightGBM] [Warning] feature_fraction is set=0.8207623237690814, colsample_bytree=1.0 will be ignored. Current value: feature_fraction=0.8207623237690814\n",
      "[LightGBM] [Warning] min_data_in_leaf is set=80, min_child_samples=770 will be ignored. Current value: min_data_in_leaf=80\n",
      "\u001b[32m[I 2020-10-25 16:51:57,377]\u001b[0m Trial 49 finished with value: 0.7220168557822625 and parameters: {'num_leaves': 17, 'n_estimators': 102, 'max_depth': 7, 'min_child_samples': 770, 'learning_rate': 0.6665776971940848, 'min_data_in_leaf': 80, 'bagging_fraction': 0.05682354933767125, 'feature_fraction': 0.8207623237690814}. Best is trial 1 with value: 0.7221725183566224.\u001b[0m\n",
      "[LightGBM] [Warning] feature_fraction is set=0.8914037228150474, colsample_bytree=1.0 will be ignored. Current value: feature_fraction=0.8914037228150474\n",
      "[LightGBM] [Warning] min_data_in_leaf is set=72, min_child_samples=1024 will be ignored. Current value: min_data_in_leaf=72\n",
      "\u001b[32m[I 2020-10-25 16:52:25,670]\u001b[0m Trial 50 finished with value: 0.7220557229358695 and parameters: {'num_leaves': 24, 'n_estimators': 142, 'max_depth': 4, 'min_child_samples': 1024, 'learning_rate': 0.3416740367330036, 'min_data_in_leaf': 72, 'bagging_fraction': 0.6901476871222156, 'feature_fraction': 0.8914037228150474}. Best is trial 1 with value: 0.7221725183566224.\u001b[0m\n",
      "[LightGBM] [Warning] feature_fraction is set=0.5940240520204818, colsample_bytree=1.0 will be ignored. Current value: feature_fraction=0.5940240520204818\n",
      "[LightGBM] [Warning] min_data_in_leaf is set=74, min_child_samples=856 will be ignored. Current value: min_data_in_leaf=74\n",
      "\u001b[32m[I 2020-10-25 16:52:55,635]\u001b[0m Trial 51 finished with value: 0.7221681854235722 and parameters: {'num_leaves': 16, 'n_estimators': 165, 'max_depth': 8, 'min_child_samples': 856, 'learning_rate': 0.3122164640103825, 'min_data_in_leaf': 74, 'bagging_fraction': 0.28934757235269054, 'feature_fraction': 0.5940240520204818}. Best is trial 1 with value: 0.7221725183566224.\u001b[0m\n",
      "[LightGBM] [Warning] feature_fraction is set=0.522856013959217, colsample_bytree=1.0 will be ignored. Current value: feature_fraction=0.522856013959217\n",
      "[LightGBM] [Warning] min_data_in_leaf is set=76, min_child_samples=961 will be ignored. Current value: min_data_in_leaf=76\n",
      "\u001b[32m[I 2020-10-25 16:53:28,953]\u001b[0m Trial 52 finished with value: 0.72218121348494 and parameters: {'num_leaves': 16, 'n_estimators': 193, 'max_depth': 8, 'min_child_samples': 961, 'learning_rate': 0.4125200745377106, 'min_data_in_leaf': 76, 'bagging_fraction': 0.17487873005617166, 'feature_fraction': 0.522856013959217}. Best is trial 52 with value: 0.72218121348494.\u001b[0m\n",
      "[LightGBM] [Warning] feature_fraction is set=0.531941606878576, colsample_bytree=1.0 will be ignored. Current value: feature_fraction=0.531941606878576\n",
      "[LightGBM] [Warning] min_data_in_leaf is set=68, min_child_samples=939 will be ignored. Current value: min_data_in_leaf=68\n",
      "\u001b[32m[I 2020-10-25 16:54:03,875]\u001b[0m Trial 53 finished with value: 0.7221432382873008 and parameters: {'num_leaves': 13, 'n_estimators': 213, 'max_depth': 8, 'min_child_samples': 939, 'learning_rate': 0.39839127322554435, 'min_data_in_leaf': 68, 'bagging_fraction': 0.1864556445871533, 'feature_fraction': 0.531941606878576}. Best is trial 52 with value: 0.72218121348494.\u001b[0m\n",
      "[LightGBM] [Warning] feature_fraction is set=0.4758137691974895, colsample_bytree=1.0 will be ignored. Current value: feature_fraction=0.4758137691974895\n",
      "[LightGBM] [Warning] min_data_in_leaf is set=85, min_child_samples=858 will be ignored. Current value: min_data_in_leaf=85\n",
      "\u001b[32m[I 2020-10-25 16:54:39,758]\u001b[0m Trial 54 finished with value: 0.7221423394105572 and parameters: {'num_leaves': 16, 'n_estimators': 190, 'max_depth': 7, 'min_child_samples': 858, 'learning_rate': 0.2650332446442235, 'min_data_in_leaf': 85, 'bagging_fraction': 0.11266919990485655, 'feature_fraction': 0.4758137691974895}. Best is trial 52 with value: 0.72218121348494.\u001b[0m\n",
      "[LightGBM] [Warning] feature_fraction is set=0.4373532982235838, colsample_bytree=1.0 will be ignored. Current value: feature_fraction=0.4373532982235838\n",
      "[LightGBM] [Warning] min_data_in_leaf is set=76, min_child_samples=799 will be ignored. Current value: min_data_in_leaf=76\n",
      "\u001b[32m[I 2020-10-25 16:55:16,098]\u001b[0m Trial 55 finished with value: 0.7220832420238427 and parameters: {'num_leaves': 15, 'n_estimators': 195, 'max_depth': 8, 'min_child_samples': 799, 'learning_rate': 0.33939757962983375, 'min_data_in_leaf': 76, 'bagging_fraction': 0.28498369215589314, 'feature_fraction': 0.4373532982235838}. Best is trial 52 with value: 0.72218121348494.\u001b[0m\n",
      "[LightGBM] [Warning] feature_fraction is set=0.5976098097717318, colsample_bytree=1.0 will be ignored. Current value: feature_fraction=0.5976098097717318\n",
      "[LightGBM] [Warning] min_data_in_leaf is set=80, min_child_samples=901 will be ignored. Current value: min_data_in_leaf=80\n",
      "\u001b[32m[I 2020-10-25 16:55:48,601]\u001b[0m Trial 56 finished with value: 0.7221486670291768 and parameters: {'num_leaves': 11, 'n_estimators': 204, 'max_depth': 8, 'min_child_samples': 901, 'learning_rate': 0.42755911224809867, 'min_data_in_leaf': 80, 'bagging_fraction': 0.20614841962812464, 'feature_fraction': 0.5976098097717318}. Best is trial 52 with value: 0.72218121348494.\u001b[0m\n",
      "[LightGBM] [Warning] feature_fraction is set=0.6053846980080324, colsample_bytree=1.0 will be ignored. Current value: feature_fraction=0.6053846980080324\n",
      "[LightGBM] [Warning] min_data_in_leaf is set=88, min_child_samples=914 will be ignored. Current value: min_data_in_leaf=88\n",
      "\u001b[32m[I 2020-10-25 16:56:19,861]\u001b[0m Trial 57 finished with value: 0.7219629737064505 and parameters: {'num_leaves': 8, 'n_estimators': 205, 'max_depth': 8, 'min_child_samples': 914, 'learning_rate': 0.2001500144302018, 'min_data_in_leaf': 88, 'bagging_fraction': 0.08838904907377093, 'feature_fraction': 0.6053846980080324}. Best is trial 52 with value: 0.72218121348494.\u001b[0m\n",
      "[LightGBM] [Warning] feature_fraction is set=0.45761098503199943, colsample_bytree=1.0 will be ignored. Current value: feature_fraction=0.45761098503199943\n",
      "[LightGBM] [Warning] min_data_in_leaf is set=83, min_child_samples=727 will be ignored. Current value: min_data_in_leaf=83\n",
      "\u001b[32m[I 2020-10-25 16:56:56,393]\u001b[0m Trial 58 finished with value: 0.72214815797128 and parameters: {'num_leaves': 11, 'n_estimators': 224, 'max_depth': 8, 'min_child_samples': 727, 'learning_rate': 0.4432821107459433, 'min_data_in_leaf': 83, 'bagging_fraction': 0.19651081916087398, 'feature_fraction': 0.45761098503199943}. Best is trial 52 with value: 0.72218121348494.\u001b[0m\n",
      "[LightGBM] [Warning] feature_fraction is set=0.610508128518927, colsample_bytree=1.0 will be ignored. Current value: feature_fraction=0.610508128518927\n",
      "[LightGBM] [Warning] min_data_in_leaf is set=23, min_child_samples=689 will be ignored. Current value: min_data_in_leaf=23\n",
      "\u001b[32m[I 2020-10-25 16:57:32,108]\u001b[0m Trial 59 finished with value: 0.722179799057329 and parameters: {'num_leaves': 10, 'n_estimators': 244, 'max_depth': 8, 'min_child_samples': 689, 'learning_rate': 0.31776435852557106, 'min_data_in_leaf': 23, 'bagging_fraction': 0.016641599818056407, 'feature_fraction': 0.610508128518927}. Best is trial 52 with value: 0.72218121348494.\u001b[0m\n",
      "[LightGBM] [Warning] feature_fraction is set=0.5404316968236896, colsample_bytree=1.0 will be ignored. Current value: feature_fraction=0.5404316968236896\n",
      "[LightGBM] [Warning] min_data_in_leaf is set=20, min_child_samples=671 will be ignored. Current value: min_data_in_leaf=20\n",
      "\u001b[32m[I 2020-10-25 16:58:12,311]\u001b[0m Trial 60 finished with value: 0.7220153035625703 and parameters: {'num_leaves': 9, 'n_estimators': 272, 'max_depth': 8, 'min_child_samples': 671, 'learning_rate': 0.16393790253979382, 'min_data_in_leaf': 20, 'bagging_fraction': 0.01077749125276195, 'feature_fraction': 0.5404316968236896}. Best is trial 52 with value: 0.72218121348494.\u001b[0m\n",
      "[LightGBM] [Warning] feature_fraction is set=0.6052719355680438, colsample_bytree=1.0 will be ignored. Current value: feature_fraction=0.6052719355680438\n",
      "[LightGBM] [Warning] min_data_in_leaf is set=10, min_child_samples=412 will be ignored. Current value: min_data_in_leaf=10\n",
      "\u001b[32m[I 2020-10-25 16:58:45,782]\u001b[0m Trial 61 finished with value: 0.7219560427823565 and parameters: {'num_leaves': 5, 'n_estimators': 251, 'max_depth': 8, 'min_child_samples': 412, 'learning_rate': 0.36679717765470493, 'min_data_in_leaf': 10, 'bagging_fraction': 0.14417874582124252, 'feature_fraction': 0.6052719355680438}. Best is trial 52 with value: 0.72218121348494.\u001b[0m\n",
      "[LightGBM] [Warning] feature_fraction is set=0.6190288539861338, colsample_bytree=1.0 will be ignored. Current value: feature_fraction=0.6190288539861338\n",
      "[LightGBM] [Warning] min_data_in_leaf is set=22, min_child_samples=777 will be ignored. Current value: min_data_in_leaf=22\n",
      "\u001b[32m[I 2020-10-25 16:59:21,423]\u001b[0m Trial 62 finished with value: 0.7221898809256565 and parameters: {'num_leaves': 12, 'n_estimators': 238, 'max_depth': 8, 'min_child_samples': 777, 'learning_rate': 0.3162665371374413, 'min_data_in_leaf': 22, 'bagging_fraction': 0.23529811563727743, 'feature_fraction': 0.6190288539861338}. Best is trial 62 with value: 0.7221898809256565.\u001b[0m\n",
      "[LightGBM] [Warning] feature_fraction is set=0.6545924926019573, colsample_bytree=1.0 will be ignored. Current value: feature_fraction=0.6545924926019573\n",
      "[LightGBM] [Warning] min_data_in_leaf is set=24, min_child_samples=616 will be ignored. Current value: min_data_in_leaf=24\n",
      "\u001b[32m[I 2020-10-25 16:59:56,520]\u001b[0m Trial 63 finished with value: 0.7221927483260759 and parameters: {'num_leaves': 13, 'n_estimators': 239, 'max_depth': 8, 'min_child_samples': 616, 'learning_rate': 0.29256890360605836, 'min_data_in_leaf': 24, 'bagging_fraction': 0.24134720406381818, 'feature_fraction': 0.6545924926019573}. Best is trial 63 with value: 0.7221927483260759.\u001b[0m\n",
      "[LightGBM] [Warning] feature_fraction is set=0.6720097399150006, colsample_bytree=1.0 will be ignored. Current value: feature_fraction=0.6720097399150006\n",
      "[LightGBM] [Warning] min_data_in_leaf is set=23, min_child_samples=648 will be ignored. Current value: min_data_in_leaf=23\n",
      "\u001b[32m[I 2020-10-25 17:00:30,129]\u001b[0m Trial 64 finished with value: 0.7221824520739104 and parameters: {'num_leaves': 10, 'n_estimators': 235, 'max_depth': 8, 'min_child_samples': 648, 'learning_rate': 0.312769072338013, 'min_data_in_leaf': 23, 'bagging_fraction': 0.24444375887139902, 'feature_fraction': 0.6720097399150006}. Best is trial 63 with value: 0.7221927483260759.\u001b[0m\n",
      "[LightGBM] [Warning] feature_fraction is set=0.644420857382802, colsample_bytree=1.0 will be ignored. Current value: feature_fraction=0.644420857382802\n",
      "[LightGBM] [Warning] min_data_in_leaf is set=25, min_child_samples=632 will be ignored. Current value: min_data_in_leaf=25\n",
      "\u001b[32m[I 2020-10-25 17:01:06,437]\u001b[0m Trial 65 finished with value: 0.7221519957323962 and parameters: {'num_leaves': 10, 'n_estimators': 264, 'max_depth': 7, 'min_child_samples': 632, 'learning_rate': 0.2996174583805758, 'min_data_in_leaf': 25, 'bagging_fraction': 0.2543807169781992, 'feature_fraction': 0.644420857382802}. Best is trial 63 with value: 0.7221927483260759.\u001b[0m\n",
      "[LightGBM] [Warning] feature_fraction is set=0.6771698608139726, colsample_bytree=1.0 will be ignored. Current value: feature_fraction=0.6771698608139726\n",
      "[LightGBM] [Warning] min_data_in_leaf is set=23, min_child_samples=560 will be ignored. Current value: min_data_in_leaf=23\n",
      "\u001b[32m[I 2020-10-25 17:01:38,876]\u001b[0m Trial 66 finished with value: 0.7220275513667419 and parameters: {'num_leaves': 7, 'n_estimators': 240, 'max_depth': 8, 'min_child_samples': 560, 'learning_rate': 0.2545552123877024, 'min_data_in_leaf': 23, 'bagging_fraction': 0.22961758464953375, 'feature_fraction': 0.6771698608139726}. Best is trial 63 with value: 0.7221927483260759.\u001b[0m\n",
      "[LightGBM] [Warning] feature_fraction is set=0.7192650047521456, colsample_bytree=1.0 will be ignored. Current value: feature_fraction=0.7192650047521456\n",
      "[LightGBM] [Warning] min_data_in_leaf is set=31, min_child_samples=695 will be ignored. Current value: min_data_in_leaf=31\n",
      "\u001b[32m[I 2020-10-25 17:02:15,618]\u001b[0m Trial 67 finished with value: 0.7222313798427497 and parameters: {'num_leaves': 13, 'n_estimators': 244, 'max_depth': 7, 'min_child_samples': 695, 'learning_rate': 0.3152716923851695, 'min_data_in_leaf': 31, 'bagging_fraction': 0.15974843888522386, 'feature_fraction': 0.7192650047521456}. Best is trial 67 with value: 0.7222313798427497.\u001b[0m\n",
      "[LightGBM] [Warning] feature_fraction is set=0.7146552022934021, colsample_bytree=1.0 will be ignored. Current value: feature_fraction=0.7146552022934021\n",
      "[LightGBM] [Warning] min_data_in_leaf is set=32, min_child_samples=614 will be ignored. Current value: min_data_in_leaf=32\n",
      "\u001b[32m[I 2020-10-25 17:02:52,616]\u001b[0m Trial 68 finished with value: 0.7221661605470945 and parameters: {'num_leaves': 13, 'n_estimators': 263, 'max_depth': 7, 'min_child_samples': 614, 'learning_rate': 0.22358077087174827, 'min_data_in_leaf': 32, 'bagging_fraction': 0.15889559708612802, 'feature_fraction': 0.7146552022934021}. Best is trial 67 with value: 0.7222313798427497.\u001b[0m\n",
      "[LightGBM] [Warning] feature_fraction is set=0.6628988055941312, colsample_bytree=1.0 will be ignored. Current value: feature_fraction=0.6628988055941312\n",
      "[LightGBM] [Warning] min_data_in_leaf is set=17, min_child_samples=692 will be ignored. Current value: min_data_in_leaf=17\n",
      "\u001b[32m[I 2020-10-25 17:03:32,173]\u001b[0m Trial 69 finished with value: 0.7222088586304256 and parameters: {'num_leaves': 12, 'n_estimators': 293, 'max_depth': 7, 'min_child_samples': 692, 'learning_rate': 0.2723562627527774, 'min_data_in_leaf': 17, 'bagging_fraction': 0.046771511346165154, 'feature_fraction': 0.6628988055941312}. Best is trial 67 with value: 0.7222313798427497.\u001b[0m\n",
      "[LightGBM] [Warning] feature_fraction is set=0.7192650047521456, colsample_bytree=1.0 will be ignored. Current value: feature_fraction=0.7192650047521456\n",
      "[LightGBM] [Warning] min_data_in_leaf is set=31, min_child_samples=695 will be ignored. Current value: min_data_in_leaf=31\n",
      "[LightGBM] [Warning] bagging_fraction is set=0.15974843888522386, subsample=1.0 will be ignored. Current value: bagging_fraction=0.15974843888522386\n"
     ]
    },
    {
     "output_type": "execute_result",
     "data": {
      "text/plain": [
       "LGBMClassifier(bagging_fraction=0.15974843888522386,\n",
       "               feature_fraction=0.7192650047521456,\n",
       "               learning_rate=0.3152716923851695, max_depth=7,\n",
       "               min_child_samples=695, min_data_in_leaf=31, n_estimators=244,\n",
       "               num_leaves=13, random_state=0)"
      ]
     },
     "metadata": {},
     "execution_count": 20
    }
   ],
   "source": [
    "sampler = TPESampler(seed=666)\n",
    "\n",
    "def create_model(trial):\n",
    "    num_leaves = trial.suggest_int(\"num_leaves\", 2, 31)\n",
    "    n_estimators = trial.suggest_int(\"n_estimators\", 50, 300)\n",
    "    max_depth = trial.suggest_int('max_depth', 3, 8)\n",
    "    min_child_samples = trial.suggest_int('min_child_samples', 100, 1200)\n",
    "    learning_rate = trial.suggest_uniform('learning_rate', 0.0001, 0.99)\n",
    "    min_data_in_leaf = trial.suggest_int('min_data_in_leaf', 5, 90)\n",
    "    bagging_fraction = trial.suggest_uniform('bagging_fraction', 0.0001, 1.0)\n",
    "    feature_fraction = trial.suggest_uniform('feature_fraction', 0.0001, 1.0)\n",
    "    model = LGBMClassifier(\n",
    "        num_leaves=num_leaves,\n",
    "        n_estimators=n_estimators, \n",
    "        max_depth=max_depth, \n",
    "        min_child_samples=min_child_samples, \n",
    "        min_data_in_leaf=min_data_in_leaf,\n",
    "        learning_rate=learning_rate,\n",
    "        feature_fraction=feature_fraction,\n",
    "        random_state=SEED\n",
    "    )\n",
    "    return model\n",
    "\n",
    "def objective(trial):\n",
    "    model = create_model(trial)\n",
    "    model.fit(train_df[features], train_df[target])\n",
    "    score = roc_auc_score(test_df[target].values, model.predict_proba(test_df[features])[:,1])\n",
    "    return score\n",
    "\n",
    "# uncomment to use optuna\n",
    "study = optuna.create_study(direction=\"maximize\", sampler=sampler)\n",
    "study.optimize(objective, n_trials=70)\n",
    "\n",
    "params = study.best_params\n",
    "params['random_state'] = SEED\n",
    "# params = {\n",
    "#     bagging_fraction=0.15974843888522386,\n",
    "#     feature_fraction=0.7192650047521456,\n",
    "#     learning_rate=0.3152716923851695, \n",
    "#     max_depth=7,\n",
    "#     min_child_samples=695, \n",
    "#     min_data_in_leaf=31, \n",
    "#     n_estimators=244,\n",
    "#     num_leaves=13, \n",
    "#     random_state=0\n",
    "# }\n",
    "model = LGBMClassifier(**params)\n",
    "model.fit(train_df[features], train_df[target])"
   ]
  },
  {
   "cell_type": "code",
   "execution_count": 21,
   "metadata": {},
   "outputs": [
    {
     "output_type": "stream",
     "name": "stdout",
     "text": [
      "LGB score:  0.7222313798427497\n"
     ]
    }
   ],
   "source": [
    "print('LGB score: ', roc_auc_score(test_df[target].values, model.predict_proba(test_df[features])[:,1]))"
   ]
  },
  {
   "cell_type": "code",
   "execution_count": null,
   "metadata": {},
   "outputs": [],
   "source": [
    "'''\n",
    "import riiideducation\n",
    "env = riiideducation.make_env()\n",
    "iter_test = env.iter_test()\n",
    "for (test_df, sample_prediction_df) in iter_test:\n",
    "    test_df = test_df.merge(question_df, how='left', on='content_id')\n",
    "    test_df = test_df.merge(user_answers_df, how = 'left', on = 'user_id')\n",
    "    test_df = test_df.merge(user_question_part_df, how='left', on='user_id')\n",
    "    test_df = test_df.merge(content_answers_df, how = 'left', on = 'content_id')\n",
    "    test_df = test_df.merge(part_answers_df, how='left', on='part')\n",
    "    test_df = test_df.merge(user_lecture_part_df, how='left', on='user_id')\n",
    "    test_df['prior_question_had_explanation'] = test_df['prior_question_had_explanation'].fillna(value = False).astype(bool)\n",
    "    test_df.fillna(value = -1, inplace = True)\n",
    "\n",
    "    test_df['answered_correctly'] = model.predict_proba(test_df[features])[:,1]\n",
    "    env.predict(test_df.loc[test_df['content_type_id'] == 0, ['row_id', 'answered_correctly']])\n",
    "'''"
   ]
  }
 ]
}