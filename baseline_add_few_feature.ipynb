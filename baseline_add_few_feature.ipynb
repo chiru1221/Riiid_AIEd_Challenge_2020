{
 "metadata": {
  "language_info": {
   "codemirror_mode": {
    "name": "ipython",
    "version": 3
   },
   "file_extension": ".py",
   "mimetype": "text/x-python",
   "name": "python",
   "nbconvert_exporter": "python",
   "pygments_lexer": "ipython3",
   "version": "3.7.7-final"
  },
  "orig_nbformat": 2,
  "kernelspec": {
   "name": "Python 3.7.7 64-bit ('kaggle': conda)",
   "display_name": "Python 3.7.7 64-bit ('kaggle': conda)",
   "metadata": {
    "interpreter": {
     "hash": "f15a31bade87f703e513ad3072b10c6f06d3ccd96b6d16858f67eed0f22e28ac"
    }
   }
  }
 },
 "nbformat": 4,
 "nbformat_minor": 2,
 "cells": [
  {
   "cell_type": "code",
   "execution_count": 1,
   "metadata": {},
   "outputs": [],
   "source": [
    "import numpy as np\n",
    "import pandas as pd\n",
    "from lightgbm import LGBMClassifier\n",
    "import gc\n",
    "from sklearn.model_selection import train_test_split\n",
    "from sklearn.metrics import roc_auc_score\n",
    "import optuna\n",
    "from optuna.samplers import TPESampler\n",
    "SEED = 0"
   ]
  },
  {
   "cell_type": "code",
   "execution_count": 2,
   "metadata": {},
   "outputs": [],
   "source": [
    "types_dict = {\n",
    "    'row_id': 'int64',\n",
    "    'timestamp': 'int64',\n",
    "    'user_id': 'int32',\n",
    "    'content_id': 'int16',\n",
    "    'answered_correctly': 'int8',\n",
    "    'prior_question_elapsed_time': 'float16',\n",
    "    'prior_question_had_explanation': 'boolean'\n",
    "}\n",
    "train_df = pd.read_csv(\n",
    "    'data/train.csv',\n",
    "    usecols=types_dict.keys(),\n",
    "    dtype=types_dict,\n",
    "    index_col=0\n",
    ")\n",
    "question_df = pd.read_csv('data/questions.csv')\n",
    "lecture_df = pd.read_csv('data/lectures.csv')"
   ]
  },
  {
   "cell_type": "code",
   "execution_count": 4,
   "metadata": {},
   "outputs": [
    {
     "output_type": "stream",
     "name": "stdout",
     "text": [
      "(9110730, 6) (1012304, 6)\n"
     ]
    }
   ],
   "source": [
    "features_df = train_df.iloc[:int(9 /10 * len(train_df))]\n",
    "train_df = train_df.iloc[int(9 /10 * len(train_df)):]\n",
    "print(features_df.shape, train_df.shape)"
   ]
  },
  {
   "cell_type": "code",
   "execution_count": 5,
   "metadata": {},
   "outputs": [],
   "source": [
    "train_questions_only_df = features_df[features_df['answered_correctly']!=-1]\n",
    "train_lectures_only_df = features_df[features_df['answered_correctly']==-1]"
   ]
  },
  {
   "cell_type": "code",
   "execution_count": 7,
   "metadata": {},
   "outputs": [],
   "source": [
    "new_column = list(question_df.columns)\n",
    "new_column[0] = 'content_id'\n",
    "question_df.columns = new_column\n",
    "question_df = question_df[['content_id', 'part']]\n",
    "new_column = list(lecture_df.columns)\n",
    "new_column[0] = 'content_id'\n",
    "lecture_df.columns = new_column\n",
    "lecture_df = lecture_df[['content_id', 'part']]"
   ]
  },
  {
   "cell_type": "code",
   "execution_count": 8,
   "metadata": {},
   "outputs": [],
   "source": [
    "train_questions_only_df = train_questions_only_df.merge(question_df, how='left', on='content_id')\n",
    "train_lectures_only_df = train_lectures_only_df.merge(lecture_df, how='left', on='content_id')"
   ]
  },
  {
   "cell_type": "code",
   "execution_count": 9,
   "metadata": {},
   "outputs": [
    {
     "output_type": "execute_result",
     "data": {
      "text/plain": [
       "    timestamp     user_id  content_id  answered_correctly  \\\n",
       "0  8231964660  1933715875       11259                   0   \n",
       "1  8232002976  1933715875        4957                   1   \n",
       "2  8232096407  1933715875        5113                   1   \n",
       "3  8232119872  1933715875        4699                   1   \n",
       "4  8232142930  1933715875       11430                   1   \n",
       "\n",
       "   prior_question_elapsed_time  prior_question_had_explanation  part  \n",
       "0                      13000.0                            True     5  \n",
       "1                      44000.0                            True     5  \n",
       "2                      22000.0                            True     5  \n",
       "3                          inf                            True     5  \n",
       "4                       9000.0                            True     5  "
      ],
      "text/html": "<div>\n<style scoped>\n    .dataframe tbody tr th:only-of-type {\n        vertical-align: middle;\n    }\n\n    .dataframe tbody tr th {\n        vertical-align: top;\n    }\n\n    .dataframe thead th {\n        text-align: right;\n    }\n</style>\n<table border=\"1\" class=\"dataframe\">\n  <thead>\n    <tr style=\"text-align: right;\">\n      <th></th>\n      <th>timestamp</th>\n      <th>user_id</th>\n      <th>content_id</th>\n      <th>answered_correctly</th>\n      <th>prior_question_elapsed_time</th>\n      <th>prior_question_had_explanation</th>\n      <th>part</th>\n    </tr>\n  </thead>\n  <tbody>\n    <tr>\n      <th>0</th>\n      <td>8231964660</td>\n      <td>1933715875</td>\n      <td>11259</td>\n      <td>0</td>\n      <td>13000.0</td>\n      <td>True</td>\n      <td>5</td>\n    </tr>\n    <tr>\n      <th>1</th>\n      <td>8232002976</td>\n      <td>1933715875</td>\n      <td>4957</td>\n      <td>1</td>\n      <td>44000.0</td>\n      <td>True</td>\n      <td>5</td>\n    </tr>\n    <tr>\n      <th>2</th>\n      <td>8232096407</td>\n      <td>1933715875</td>\n      <td>5113</td>\n      <td>1</td>\n      <td>22000.0</td>\n      <td>True</td>\n      <td>5</td>\n    </tr>\n    <tr>\n      <th>3</th>\n      <td>8232119872</td>\n      <td>1933715875</td>\n      <td>4699</td>\n      <td>1</td>\n      <td>inf</td>\n      <td>True</td>\n      <td>5</td>\n    </tr>\n    <tr>\n      <th>4</th>\n      <td>8232142930</td>\n      <td>1933715875</td>\n      <td>11430</td>\n      <td>1</td>\n      <td>9000.0</td>\n      <td>True</td>\n      <td>5</td>\n    </tr>\n  </tbody>\n</table>\n</div>"
     },
     "metadata": {},
     "execution_count": 9
    }
   ],
   "source": [
    "train_questions_only_df.head()"
   ]
  },
  {
   "cell_type": "code",
   "execution_count": 11,
   "metadata": {},
   "outputs": [
    {
     "output_type": "execute_result",
     "data": {
      "text/plain": [
       "   timestamp     user_id  content_id  answered_correctly  \\\n",
       "0  358247540  1933736600       18545                  -1   \n",
       "1  363108158  1933736600       21411                  -1   \n",
       "2  404110757  1933736600       18186                  -1   \n",
       "3  419176392  1933736600        3852                  -1   \n",
       "4  447039061  1933736600       10688                  -1   \n",
       "\n",
       "   prior_question_elapsed_time  prior_question_had_explanation  part  \n",
       "0                          NaN                           False     5  \n",
       "1                          NaN                           False     2  \n",
       "2                          NaN                           False     4  \n",
       "3                          NaN                           False     4  \n",
       "4                          NaN                           False     7  "
      ],
      "text/html": "<div>\n<style scoped>\n    .dataframe tbody tr th:only-of-type {\n        vertical-align: middle;\n    }\n\n    .dataframe tbody tr th {\n        vertical-align: top;\n    }\n\n    .dataframe thead th {\n        text-align: right;\n    }\n</style>\n<table border=\"1\" class=\"dataframe\">\n  <thead>\n    <tr style=\"text-align: right;\">\n      <th></th>\n      <th>timestamp</th>\n      <th>user_id</th>\n      <th>content_id</th>\n      <th>answered_correctly</th>\n      <th>prior_question_elapsed_time</th>\n      <th>prior_question_had_explanation</th>\n      <th>part</th>\n    </tr>\n  </thead>\n  <tbody>\n    <tr>\n      <th>0</th>\n      <td>358247540</td>\n      <td>1933736600</td>\n      <td>18545</td>\n      <td>-1</td>\n      <td>NaN</td>\n      <td>False</td>\n      <td>5</td>\n    </tr>\n    <tr>\n      <th>1</th>\n      <td>363108158</td>\n      <td>1933736600</td>\n      <td>21411</td>\n      <td>-1</td>\n      <td>NaN</td>\n      <td>False</td>\n      <td>2</td>\n    </tr>\n    <tr>\n      <th>2</th>\n      <td>404110757</td>\n      <td>1933736600</td>\n      <td>18186</td>\n      <td>-1</td>\n      <td>NaN</td>\n      <td>False</td>\n      <td>4</td>\n    </tr>\n    <tr>\n      <th>3</th>\n      <td>419176392</td>\n      <td>1933736600</td>\n      <td>3852</td>\n      <td>-1</td>\n      <td>NaN</td>\n      <td>False</td>\n      <td>4</td>\n    </tr>\n    <tr>\n      <th>4</th>\n      <td>447039061</td>\n      <td>1933736600</td>\n      <td>10688</td>\n      <td>-1</td>\n      <td>NaN</td>\n      <td>False</td>\n      <td>7</td>\n    </tr>\n  </tbody>\n</table>\n</div>"
     },
     "metadata": {},
     "execution_count": 11
    }
   ],
   "source": [
    "train_lectures_only_df.head()"
   ]
  },
  {
   "cell_type": "code",
   "execution_count": 16,
   "metadata": {},
   "outputs": [],
   "source": [
    "grouped_by_user_df = train_questions_only_df.groupby('user_id')\n",
    "user_answers_df = grouped_by_user_df.agg({'answered_correctly': ['mean', 'count', 'std', 'median', 'skew']}).copy()\n",
    "user_answers_df.columns = ['mean_user_accuracy', 'questions_answered', 'std_user_accuracy', 'median_user_accuracy', 'skew_user_accuracy']\n",
    "user_question_part_df = grouped_by_user_df.agg({'part': ['mean', 'count', 'std']}).copy()\n",
    "user_question_part_df.columns = ['mean_user_question_part', 'count_question_part', 'std_question_part']\n",
    "\n",
    "grouped_by_content_df = train_questions_only_df.groupby('content_id')\n",
    "content_answers_df = grouped_by_content_df.agg({'answered_correctly': ['mean', 'count', 'std', 'median', 'skew'] }).copy()\n",
    "content_answers_df.columns = ['mean_accuracy', 'question_asked', 'std_accuracy', 'median_accuracy', 'skew_accuracy']\n",
    "\n",
    "grouped_by_part_df = train_questions_only_df.groupby('part')\n",
    "part_answers_df = grouped_by_part_df.agg({'answered_correctly': ['mean', 'count', 'std', 'median', 'skew'] }).copy()\n",
    "part_answers_df.columns = ['mean_part_accuracy', 'question_part_answered', 'std_part_accuracy', 'median_part_accuracy', 'skew_part_accuracy']\n",
    "\n",
    "grouped_by_user_df = train_lectures_only_df.groupby('user_id')\n",
    "user_lecture_part_df = grouped_by_user_df.agg({'part': ['mean', 'count', 'std']}).copy()\n",
    "user_lecture_part_df.columns = ['mean_user_lecture_part', 'count_lecture_part', 'std_lecture_part']"
   ]
  },
  {
   "cell_type": "code",
   "execution_count": 17,
   "metadata": {},
   "outputs": [
    {
     "output_type": "execute_result",
     "data": {
      "text/plain": [
       "            mean_user_accuracy  questions_answered  std_user_accuracy  \\\n",
       "user_id                                                                 \n",
       "1933715875            0.742857                 665           0.437388   \n",
       "1933716138            0.428571                  42           0.500870   \n",
       "1933722593            0.571429                   7           0.534522   \n",
       "1933732537            0.421053                  19           0.507257   \n",
       "1933736600            0.732727                1100           0.442737   \n",
       "\n",
       "            median_user_accuracy  skew_user_accuracy  \n",
       "user_id                                               \n",
       "1933715875                   1.0           -1.113839  \n",
       "1933716138                   0.0            0.299479  \n",
       "1933722593                   1.0           -0.374166  \n",
       "1933732537                   0.0            0.347892  \n",
       "1933736600                   1.0           -1.053226  "
      ],
      "text/html": "<div>\n<style scoped>\n    .dataframe tbody tr th:only-of-type {\n        vertical-align: middle;\n    }\n\n    .dataframe tbody tr th {\n        vertical-align: top;\n    }\n\n    .dataframe thead th {\n        text-align: right;\n    }\n</style>\n<table border=\"1\" class=\"dataframe\">\n  <thead>\n    <tr style=\"text-align: right;\">\n      <th></th>\n      <th>mean_user_accuracy</th>\n      <th>questions_answered</th>\n      <th>std_user_accuracy</th>\n      <th>median_user_accuracy</th>\n      <th>skew_user_accuracy</th>\n    </tr>\n    <tr>\n      <th>user_id</th>\n      <th></th>\n      <th></th>\n      <th></th>\n      <th></th>\n      <th></th>\n    </tr>\n  </thead>\n  <tbody>\n    <tr>\n      <th>1933715875</th>\n      <td>0.742857</td>\n      <td>665</td>\n      <td>0.437388</td>\n      <td>1.0</td>\n      <td>-1.113839</td>\n    </tr>\n    <tr>\n      <th>1933716138</th>\n      <td>0.428571</td>\n      <td>42</td>\n      <td>0.500870</td>\n      <td>0.0</td>\n      <td>0.299479</td>\n    </tr>\n    <tr>\n      <th>1933722593</th>\n      <td>0.571429</td>\n      <td>7</td>\n      <td>0.534522</td>\n      <td>1.0</td>\n      <td>-0.374166</td>\n    </tr>\n    <tr>\n      <th>1933732537</th>\n      <td>0.421053</td>\n      <td>19</td>\n      <td>0.507257</td>\n      <td>0.0</td>\n      <td>0.347892</td>\n    </tr>\n    <tr>\n      <th>1933736600</th>\n      <td>0.732727</td>\n      <td>1100</td>\n      <td>0.442737</td>\n      <td>1.0</td>\n      <td>-1.053226</td>\n    </tr>\n  </tbody>\n</table>\n</div>"
     },
     "metadata": {},
     "execution_count": 17
    }
   ],
   "source": [
    "user_answers_df.head()"
   ]
  },
  {
   "cell_type": "code",
   "execution_count": 18,
   "metadata": {},
   "outputs": [
    {
     "output_type": "execute_result",
     "data": {
      "text/plain": [
       "            mean_user_question_part  count_question_part  std_question_part\n",
       "user_id                                                                    \n",
       "1933715875                 4.915789                  665           0.794640\n",
       "1933716138                 4.095238                   42           1.461865\n",
       "1933722593                 5.000000                    7           0.000000\n",
       "1933732537                 3.421053                   19           1.304513\n",
       "1933736600                 4.709091                 1100           1.400932"
      ],
      "text/html": "<div>\n<style scoped>\n    .dataframe tbody tr th:only-of-type {\n        vertical-align: middle;\n    }\n\n    .dataframe tbody tr th {\n        vertical-align: top;\n    }\n\n    .dataframe thead th {\n        text-align: right;\n    }\n</style>\n<table border=\"1\" class=\"dataframe\">\n  <thead>\n    <tr style=\"text-align: right;\">\n      <th></th>\n      <th>mean_user_question_part</th>\n      <th>count_question_part</th>\n      <th>std_question_part</th>\n    </tr>\n    <tr>\n      <th>user_id</th>\n      <th></th>\n      <th></th>\n      <th></th>\n    </tr>\n  </thead>\n  <tbody>\n    <tr>\n      <th>1933715875</th>\n      <td>4.915789</td>\n      <td>665</td>\n      <td>0.794640</td>\n    </tr>\n    <tr>\n      <th>1933716138</th>\n      <td>4.095238</td>\n      <td>42</td>\n      <td>1.461865</td>\n    </tr>\n    <tr>\n      <th>1933722593</th>\n      <td>5.000000</td>\n      <td>7</td>\n      <td>0.000000</td>\n    </tr>\n    <tr>\n      <th>1933732537</th>\n      <td>3.421053</td>\n      <td>19</td>\n      <td>1.304513</td>\n    </tr>\n    <tr>\n      <th>1933736600</th>\n      <td>4.709091</td>\n      <td>1100</td>\n      <td>1.400932</td>\n    </tr>\n  </tbody>\n</table>\n</div>"
     },
     "metadata": {},
     "execution_count": 18
    }
   ],
   "source": [
    "user_question_part_df.head()"
   ]
  },
  {
   "cell_type": "code",
   "execution_count": 19,
   "metadata": {},
   "outputs": [
    {
     "output_type": "execute_result",
     "data": {
      "text/plain": [
       "            mean_accuracy  question_asked  std_accuracy  median_accuracy  \\\n",
       "content_id                                                                 \n",
       "0                0.898858             613      0.301763              1.0   \n",
       "1                0.876755             641      0.328975              1.0   \n",
       "2                0.553811            3949      0.497159              1.0   \n",
       "3                0.783056            2042      0.412265              1.0   \n",
       "4                0.606820            2874      0.488541              1.0   \n",
       "\n",
       "            skew_accuracy  \n",
       "content_id                 \n",
       "0               -2.652174  \n",
       "1               -2.297648  \n",
       "2               -0.216584  \n",
       "3               -1.374520  \n",
       "4               -0.437605  "
      ],
      "text/html": "<div>\n<style scoped>\n    .dataframe tbody tr th:only-of-type {\n        vertical-align: middle;\n    }\n\n    .dataframe tbody tr th {\n        vertical-align: top;\n    }\n\n    .dataframe thead th {\n        text-align: right;\n    }\n</style>\n<table border=\"1\" class=\"dataframe\">\n  <thead>\n    <tr style=\"text-align: right;\">\n      <th></th>\n      <th>mean_accuracy</th>\n      <th>question_asked</th>\n      <th>std_accuracy</th>\n      <th>median_accuracy</th>\n      <th>skew_accuracy</th>\n    </tr>\n    <tr>\n      <th>content_id</th>\n      <th></th>\n      <th></th>\n      <th></th>\n      <th></th>\n      <th></th>\n    </tr>\n  </thead>\n  <tbody>\n    <tr>\n      <th>0</th>\n      <td>0.898858</td>\n      <td>613</td>\n      <td>0.301763</td>\n      <td>1.0</td>\n      <td>-2.652174</td>\n    </tr>\n    <tr>\n      <th>1</th>\n      <td>0.876755</td>\n      <td>641</td>\n      <td>0.328975</td>\n      <td>1.0</td>\n      <td>-2.297648</td>\n    </tr>\n    <tr>\n      <th>2</th>\n      <td>0.553811</td>\n      <td>3949</td>\n      <td>0.497159</td>\n      <td>1.0</td>\n      <td>-0.216584</td>\n    </tr>\n    <tr>\n      <th>3</th>\n      <td>0.783056</td>\n      <td>2042</td>\n      <td>0.412265</td>\n      <td>1.0</td>\n      <td>-1.374520</td>\n    </tr>\n    <tr>\n      <th>4</th>\n      <td>0.606820</td>\n      <td>2874</td>\n      <td>0.488541</td>\n      <td>1.0</td>\n      <td>-0.437605</td>\n    </tr>\n  </tbody>\n</table>\n</div>"
     },
     "metadata": {},
     "execution_count": 19
    }
   ],
   "source": [
    "content_answers_df.head()"
   ]
  },
  {
   "cell_type": "code",
   "execution_count": 20,
   "metadata": {},
   "outputs": [
    {
     "output_type": "execute_result",
     "data": {
      "text/plain": [
       "      mean_part_accuracy  question_part_answered  std_part_accuracy  \\\n",
       "part                                                                  \n",
       "1               0.741056                  659491           0.438055   \n",
       "2               0.707604                 1675773           0.454864   \n",
       "3               0.694886                  779845           0.460456   \n",
       "4               0.627016                  714779           0.483598   \n",
       "5               0.610643                 3692143           0.487605   \n",
       "\n",
       "      median_part_accuracy  skew_part_accuracy  \n",
       "part                                            \n",
       "1                        1           -1.100579  \n",
       "2                        1           -0.912818  \n",
       "3                        1           -0.846491  \n",
       "4                        1           -0.525298  \n",
       "5                        1           -0.453823  "
      ],
      "text/html": "<div>\n<style scoped>\n    .dataframe tbody tr th:only-of-type {\n        vertical-align: middle;\n    }\n\n    .dataframe tbody tr th {\n        vertical-align: top;\n    }\n\n    .dataframe thead th {\n        text-align: right;\n    }\n</style>\n<table border=\"1\" class=\"dataframe\">\n  <thead>\n    <tr style=\"text-align: right;\">\n      <th></th>\n      <th>mean_part_accuracy</th>\n      <th>question_part_answered</th>\n      <th>std_part_accuracy</th>\n      <th>median_part_accuracy</th>\n      <th>skew_part_accuracy</th>\n    </tr>\n    <tr>\n      <th>part</th>\n      <th></th>\n      <th></th>\n      <th></th>\n      <th></th>\n      <th></th>\n    </tr>\n  </thead>\n  <tbody>\n    <tr>\n      <th>1</th>\n      <td>0.741056</td>\n      <td>659491</td>\n      <td>0.438055</td>\n      <td>1</td>\n      <td>-1.100579</td>\n    </tr>\n    <tr>\n      <th>2</th>\n      <td>0.707604</td>\n      <td>1675773</td>\n      <td>0.454864</td>\n      <td>1</td>\n      <td>-0.912818</td>\n    </tr>\n    <tr>\n      <th>3</th>\n      <td>0.694886</td>\n      <td>779845</td>\n      <td>0.460456</td>\n      <td>1</td>\n      <td>-0.846491</td>\n    </tr>\n    <tr>\n      <th>4</th>\n      <td>0.627016</td>\n      <td>714779</td>\n      <td>0.483598</td>\n      <td>1</td>\n      <td>-0.525298</td>\n    </tr>\n    <tr>\n      <th>5</th>\n      <td>0.610643</td>\n      <td>3692143</td>\n      <td>0.487605</td>\n      <td>1</td>\n      <td>-0.453823</td>\n    </tr>\n  </tbody>\n</table>\n</div>"
     },
     "metadata": {},
     "execution_count": 20
    }
   ],
   "source": [
    "part_answers_df.head()"
   ]
  },
  {
   "cell_type": "code",
   "execution_count": 21,
   "metadata": {},
   "outputs": [
    {
     "output_type": "execute_result",
     "data": {
      "text/plain": [
       "            mean_user_lecture_part  count_lecture_part  std_lecture_part\n",
       "user_id                                                                 \n",
       "1933736600                4.931818                  44          1.387615\n",
       "1933758283                4.388889                  18          1.719743\n",
       "1933782835                3.666667                   6          2.065591\n",
       "1933797058                1.000000                   1               NaN\n",
       "1933804373                3.000000                   2          2.828427"
      ],
      "text/html": "<div>\n<style scoped>\n    .dataframe tbody tr th:only-of-type {\n        vertical-align: middle;\n    }\n\n    .dataframe tbody tr th {\n        vertical-align: top;\n    }\n\n    .dataframe thead th {\n        text-align: right;\n    }\n</style>\n<table border=\"1\" class=\"dataframe\">\n  <thead>\n    <tr style=\"text-align: right;\">\n      <th></th>\n      <th>mean_user_lecture_part</th>\n      <th>count_lecture_part</th>\n      <th>std_lecture_part</th>\n    </tr>\n    <tr>\n      <th>user_id</th>\n      <th></th>\n      <th></th>\n      <th></th>\n    </tr>\n  </thead>\n  <tbody>\n    <tr>\n      <th>1933736600</th>\n      <td>4.931818</td>\n      <td>44</td>\n      <td>1.387615</td>\n    </tr>\n    <tr>\n      <th>1933758283</th>\n      <td>4.388889</td>\n      <td>18</td>\n      <td>1.719743</td>\n    </tr>\n    <tr>\n      <th>1933782835</th>\n      <td>3.666667</td>\n      <td>6</td>\n      <td>2.065591</td>\n    </tr>\n    <tr>\n      <th>1933797058</th>\n      <td>1.000000</td>\n      <td>1</td>\n      <td>NaN</td>\n    </tr>\n    <tr>\n      <th>1933804373</th>\n      <td>3.000000</td>\n      <td>2</td>\n      <td>2.828427</td>\n    </tr>\n  </tbody>\n</table>\n</div>"
     },
     "metadata": {},
     "execution_count": 21
    }
   ],
   "source": [
    "user_lecture_part_df.head()"
   ]
  },
  {
   "cell_type": "code",
   "execution_count": 22,
   "metadata": {},
   "outputs": [
    {
     "output_type": "execute_result",
     "data": {
      "text/plain": [
       "46846"
      ]
     },
     "metadata": {},
     "execution_count": 22
    }
   ],
   "source": [
    "del features_df\n",
    "del grouped_by_user_df\n",
    "del grouped_by_content_df\n",
    "del grouped_by_part_df\n",
    "\n",
    "gc.collect()"
   ]
  },
  {
   "cell_type": "code",
   "execution_count": 23,
   "metadata": {},
   "outputs": [],
   "source": [
    "features = [\n",
    "    'mean_user_accuracy', \n",
    "    'questions_answered',\n",
    "    'std_user_accuracy', \n",
    "    'median_user_accuracy',\n",
    "    'skew_user_accuracy',\n",
    "    'mean_accuracy', \n",
    "    'question_asked',\n",
    "    'std_accuracy', \n",
    "    'median_accuracy',\n",
    "    'skew_accuracy',\n",
    "    'mean_part_accuracy',\n",
    "    'question_part_answered',\n",
    "    'std_part_accuracy',\n",
    "    'median_part_accuracy',\n",
    "    'skew_part_accuracy',\n",
    "    'mean_user_question_part',\n",
    "    'count_question_part',\n",
    "    'std_question_part',\n",
    "    'mean_user_lecture_part',\n",
    "    'count_lecture_part',\n",
    "    'std_lecture_part',\n",
    "    'prior_question_elapsed_time', \n",
    "    'prior_question_had_explanation'\n",
    "]\n",
    "target = 'answered_correctly'\n",
    "train_df = train_df[train_df[target] != -1]"
   ]
  },
  {
   "cell_type": "code",
   "execution_count": 24,
   "metadata": {},
   "outputs": [],
   "source": [
    "train_df = train_df.merge(question_df, how='left', on='content_id')\n",
    "train_df = train_df.merge(user_answers_df, how='left', on='user_id')\n",
    "train_df = train_df.merge(user_question_part_df, how='left', on='user_id')\n",
    "train_df = train_df.merge(content_answers_df, how='left', on='content_id')\n",
    "train_df = train_df.merge(part_answers_df, how='left', on='part')\n",
    "train_df = train_df.merge(user_lecture_part_df, how='left', on='user_id')"
   ]
  },
  {
   "cell_type": "code",
   "execution_count": 25,
   "metadata": {},
   "outputs": [
    {
     "output_type": "execute_result",
     "data": {
      "text/plain": [
       "     timestamp     user_id  content_id  answered_correctly  \\\n",
       "0  19868244269  2127040843        1172                   0   \n",
       "1  19868267527  2127040843        1273                   1   \n",
       "2  19868474994  2127040843        1379                   1   \n",
       "3  19868496155  2127040843         883                   1   \n",
       "4  19868522403  2127040843         429                   0   \n",
       "\n",
       "   prior_question_elapsed_time  prior_question_had_explanation  part  \\\n",
       "0                      13000.0                            True     2   \n",
       "1                      16992.0                            True     2   \n",
       "2                      16000.0                            True     2   \n",
       "3                      13000.0                            True     2   \n",
       "4                      15000.0                            True     2   \n",
       "\n",
       "   mean_user_accuracy  questions_answered  std_user_accuracy  ...  \\\n",
       "0            0.702234              3805.0           0.457336  ...   \n",
       "1            0.702234              3805.0           0.457336  ...   \n",
       "2            0.702234              3805.0           0.457336  ...   \n",
       "3            0.702234              3805.0           0.457336  ...   \n",
       "4            0.702234              3805.0           0.457336  ...   \n",
       "\n",
       "   median_accuracy  skew_accuracy  mean_part_accuracy  question_part_answered  \\\n",
       "0              1.0      -1.872550            0.707604                 1675773   \n",
       "1              1.0      -1.003488            0.707604                 1675773   \n",
       "2              1.0      -1.357657            0.707604                 1675773   \n",
       "3              1.0      -0.560770            0.707604                 1675773   \n",
       "4              1.0      -0.987585            0.707604                 1675773   \n",
       "\n",
       "   std_part_accuracy  median_part_accuracy  skew_part_accuracy  \\\n",
       "0           0.454864                     1           -0.912818   \n",
       "1           0.454864                     1           -0.912818   \n",
       "2           0.454864                     1           -0.912818   \n",
       "3           0.454864                     1           -0.912818   \n",
       "4           0.454864                     1           -0.912818   \n",
       "\n",
       "   mean_user_lecture_part  count_lecture_part  std_lecture_part  \n",
       "0                4.272727               110.0          1.305662  \n",
       "1                4.272727               110.0          1.305662  \n",
       "2                4.272727               110.0          1.305662  \n",
       "3                4.272727               110.0          1.305662  \n",
       "4                4.272727               110.0          1.305662  \n",
       "\n",
       "[5 rows x 28 columns]"
      ],
      "text/html": "<div>\n<style scoped>\n    .dataframe tbody tr th:only-of-type {\n        vertical-align: middle;\n    }\n\n    .dataframe tbody tr th {\n        vertical-align: top;\n    }\n\n    .dataframe thead th {\n        text-align: right;\n    }\n</style>\n<table border=\"1\" class=\"dataframe\">\n  <thead>\n    <tr style=\"text-align: right;\">\n      <th></th>\n      <th>timestamp</th>\n      <th>user_id</th>\n      <th>content_id</th>\n      <th>answered_correctly</th>\n      <th>prior_question_elapsed_time</th>\n      <th>prior_question_had_explanation</th>\n      <th>part</th>\n      <th>mean_user_accuracy</th>\n      <th>questions_answered</th>\n      <th>std_user_accuracy</th>\n      <th>...</th>\n      <th>median_accuracy</th>\n      <th>skew_accuracy</th>\n      <th>mean_part_accuracy</th>\n      <th>question_part_answered</th>\n      <th>std_part_accuracy</th>\n      <th>median_part_accuracy</th>\n      <th>skew_part_accuracy</th>\n      <th>mean_user_lecture_part</th>\n      <th>count_lecture_part</th>\n      <th>std_lecture_part</th>\n    </tr>\n  </thead>\n  <tbody>\n    <tr>\n      <th>0</th>\n      <td>19868244269</td>\n      <td>2127040843</td>\n      <td>1172</td>\n      <td>0</td>\n      <td>13000.0</td>\n      <td>True</td>\n      <td>2</td>\n      <td>0.702234</td>\n      <td>3805.0</td>\n      <td>0.457336</td>\n      <td>...</td>\n      <td>1.0</td>\n      <td>-1.872550</td>\n      <td>0.707604</td>\n      <td>1675773</td>\n      <td>0.454864</td>\n      <td>1</td>\n      <td>-0.912818</td>\n      <td>4.272727</td>\n      <td>110.0</td>\n      <td>1.305662</td>\n    </tr>\n    <tr>\n      <th>1</th>\n      <td>19868267527</td>\n      <td>2127040843</td>\n      <td>1273</td>\n      <td>1</td>\n      <td>16992.0</td>\n      <td>True</td>\n      <td>2</td>\n      <td>0.702234</td>\n      <td>3805.0</td>\n      <td>0.457336</td>\n      <td>...</td>\n      <td>1.0</td>\n      <td>-1.003488</td>\n      <td>0.707604</td>\n      <td>1675773</td>\n      <td>0.454864</td>\n      <td>1</td>\n      <td>-0.912818</td>\n      <td>4.272727</td>\n      <td>110.0</td>\n      <td>1.305662</td>\n    </tr>\n    <tr>\n      <th>2</th>\n      <td>19868474994</td>\n      <td>2127040843</td>\n      <td>1379</td>\n      <td>1</td>\n      <td>16000.0</td>\n      <td>True</td>\n      <td>2</td>\n      <td>0.702234</td>\n      <td>3805.0</td>\n      <td>0.457336</td>\n      <td>...</td>\n      <td>1.0</td>\n      <td>-1.357657</td>\n      <td>0.707604</td>\n      <td>1675773</td>\n      <td>0.454864</td>\n      <td>1</td>\n      <td>-0.912818</td>\n      <td>4.272727</td>\n      <td>110.0</td>\n      <td>1.305662</td>\n    </tr>\n    <tr>\n      <th>3</th>\n      <td>19868496155</td>\n      <td>2127040843</td>\n      <td>883</td>\n      <td>1</td>\n      <td>13000.0</td>\n      <td>True</td>\n      <td>2</td>\n      <td>0.702234</td>\n      <td>3805.0</td>\n      <td>0.457336</td>\n      <td>...</td>\n      <td>1.0</td>\n      <td>-0.560770</td>\n      <td>0.707604</td>\n      <td>1675773</td>\n      <td>0.454864</td>\n      <td>1</td>\n      <td>-0.912818</td>\n      <td>4.272727</td>\n      <td>110.0</td>\n      <td>1.305662</td>\n    </tr>\n    <tr>\n      <th>4</th>\n      <td>19868522403</td>\n      <td>2127040843</td>\n      <td>429</td>\n      <td>0</td>\n      <td>15000.0</td>\n      <td>True</td>\n      <td>2</td>\n      <td>0.702234</td>\n      <td>3805.0</td>\n      <td>0.457336</td>\n      <td>...</td>\n      <td>1.0</td>\n      <td>-0.987585</td>\n      <td>0.707604</td>\n      <td>1675773</td>\n      <td>0.454864</td>\n      <td>1</td>\n      <td>-0.912818</td>\n      <td>4.272727</td>\n      <td>110.0</td>\n      <td>1.305662</td>\n    </tr>\n  </tbody>\n</table>\n<p>5 rows × 28 columns</p>\n</div>"
     },
     "metadata": {},
     "execution_count": 25
    }
   ],
   "source": [
    "train_df.head()"
   ]
  },
  {
   "cell_type": "code",
   "execution_count": 26,
   "metadata": {},
   "outputs": [],
   "source": [
    "train_df['prior_question_had_explanation'] = train_df['prior_question_had_explanation'].fillna(value = False).astype(bool)\n",
    "train_df = train_df.fillna(value = -1)\n",
    "train_df = train_df[features + [target]]\n",
    "train_df = train_df.replace([np.inf, -np.inf], np.nan)\n",
    "train_df = train_df.fillna(0)"
   ]
  },
  {
   "cell_type": "code",
   "execution_count": 27,
   "metadata": {},
   "outputs": [
    {
     "output_type": "execute_result",
     "data": {
      "text/plain": [
       "   mean_user_accuracy  questions_answered  std_user_accuracy  \\\n",
       "0            0.702234              3805.0           0.457336   \n",
       "1            0.702234              3805.0           0.457336   \n",
       "2            0.702234              3805.0           0.457336   \n",
       "3            0.702234              3805.0           0.457336   \n",
       "4            0.702234              3805.0           0.457336   \n",
       "\n",
       "   median_user_accuracy  skew_user_accuracy  mean_accuracy  question_asked  \\\n",
       "0                   1.0           -0.884864       0.841512            1243   \n",
       "1                   1.0           -0.884864       0.723973            1047   \n",
       "2                   1.0           -0.884864       0.780420             715   \n",
       "3                   1.0           -0.884864       0.634783             920   \n",
       "4                   1.0           -0.884864       0.721127            1065   \n",
       "\n",
       "   std_accuracy  median_accuracy  skew_accuracy  ...  skew_part_accuracy  \\\n",
       "0      0.365345              1.0      -1.872550  ...           -0.912818   \n",
       "1      0.447244              1.0      -1.003488  ...           -0.912818   \n",
       "2      0.414252              1.0      -1.357657  ...           -0.912818   \n",
       "3      0.481753              1.0      -0.560770  ...           -0.912818   \n",
       "4      0.448656              1.0      -0.987585  ...           -0.912818   \n",
       "\n",
       "   mean_user_question_part  count_question_part  std_question_part  \\\n",
       "0                 3.748752               3805.0           1.505144   \n",
       "1                 3.748752               3805.0           1.505144   \n",
       "2                 3.748752               3805.0           1.505144   \n",
       "3                 3.748752               3805.0           1.505144   \n",
       "4                 3.748752               3805.0           1.505144   \n",
       "\n",
       "   mean_user_lecture_part  count_lecture_part  std_lecture_part  \\\n",
       "0                4.272727               110.0          1.305662   \n",
       "1                4.272727               110.0          1.305662   \n",
       "2                4.272727               110.0          1.305662   \n",
       "3                4.272727               110.0          1.305662   \n",
       "4                4.272727               110.0          1.305662   \n",
       "\n",
       "   prior_question_elapsed_time  prior_question_had_explanation  \\\n",
       "0                      13000.0                            True   \n",
       "1                      16992.0                            True   \n",
       "2                      16000.0                            True   \n",
       "3                      13000.0                            True   \n",
       "4                      15000.0                            True   \n",
       "\n",
       "   answered_correctly  \n",
       "0                   0  \n",
       "1                   1  \n",
       "2                   1  \n",
       "3                   1  \n",
       "4                   0  \n",
       "\n",
       "[5 rows x 24 columns]"
      ],
      "text/html": "<div>\n<style scoped>\n    .dataframe tbody tr th:only-of-type {\n        vertical-align: middle;\n    }\n\n    .dataframe tbody tr th {\n        vertical-align: top;\n    }\n\n    .dataframe thead th {\n        text-align: right;\n    }\n</style>\n<table border=\"1\" class=\"dataframe\">\n  <thead>\n    <tr style=\"text-align: right;\">\n      <th></th>\n      <th>mean_user_accuracy</th>\n      <th>questions_answered</th>\n      <th>std_user_accuracy</th>\n      <th>median_user_accuracy</th>\n      <th>skew_user_accuracy</th>\n      <th>mean_accuracy</th>\n      <th>question_asked</th>\n      <th>std_accuracy</th>\n      <th>median_accuracy</th>\n      <th>skew_accuracy</th>\n      <th>...</th>\n      <th>skew_part_accuracy</th>\n      <th>mean_user_question_part</th>\n      <th>count_question_part</th>\n      <th>std_question_part</th>\n      <th>mean_user_lecture_part</th>\n      <th>count_lecture_part</th>\n      <th>std_lecture_part</th>\n      <th>prior_question_elapsed_time</th>\n      <th>prior_question_had_explanation</th>\n      <th>answered_correctly</th>\n    </tr>\n  </thead>\n  <tbody>\n    <tr>\n      <th>0</th>\n      <td>0.702234</td>\n      <td>3805.0</td>\n      <td>0.457336</td>\n      <td>1.0</td>\n      <td>-0.884864</td>\n      <td>0.841512</td>\n      <td>1243</td>\n      <td>0.365345</td>\n      <td>1.0</td>\n      <td>-1.872550</td>\n      <td>...</td>\n      <td>-0.912818</td>\n      <td>3.748752</td>\n      <td>3805.0</td>\n      <td>1.505144</td>\n      <td>4.272727</td>\n      <td>110.0</td>\n      <td>1.305662</td>\n      <td>13000.0</td>\n      <td>True</td>\n      <td>0</td>\n    </tr>\n    <tr>\n      <th>1</th>\n      <td>0.702234</td>\n      <td>3805.0</td>\n      <td>0.457336</td>\n      <td>1.0</td>\n      <td>-0.884864</td>\n      <td>0.723973</td>\n      <td>1047</td>\n      <td>0.447244</td>\n      <td>1.0</td>\n      <td>-1.003488</td>\n      <td>...</td>\n      <td>-0.912818</td>\n      <td>3.748752</td>\n      <td>3805.0</td>\n      <td>1.505144</td>\n      <td>4.272727</td>\n      <td>110.0</td>\n      <td>1.305662</td>\n      <td>16992.0</td>\n      <td>True</td>\n      <td>1</td>\n    </tr>\n    <tr>\n      <th>2</th>\n      <td>0.702234</td>\n      <td>3805.0</td>\n      <td>0.457336</td>\n      <td>1.0</td>\n      <td>-0.884864</td>\n      <td>0.780420</td>\n      <td>715</td>\n      <td>0.414252</td>\n      <td>1.0</td>\n      <td>-1.357657</td>\n      <td>...</td>\n      <td>-0.912818</td>\n      <td>3.748752</td>\n      <td>3805.0</td>\n      <td>1.505144</td>\n      <td>4.272727</td>\n      <td>110.0</td>\n      <td>1.305662</td>\n      <td>16000.0</td>\n      <td>True</td>\n      <td>1</td>\n    </tr>\n    <tr>\n      <th>3</th>\n      <td>0.702234</td>\n      <td>3805.0</td>\n      <td>0.457336</td>\n      <td>1.0</td>\n      <td>-0.884864</td>\n      <td>0.634783</td>\n      <td>920</td>\n      <td>0.481753</td>\n      <td>1.0</td>\n      <td>-0.560770</td>\n      <td>...</td>\n      <td>-0.912818</td>\n      <td>3.748752</td>\n      <td>3805.0</td>\n      <td>1.505144</td>\n      <td>4.272727</td>\n      <td>110.0</td>\n      <td>1.305662</td>\n      <td>13000.0</td>\n      <td>True</td>\n      <td>1</td>\n    </tr>\n    <tr>\n      <th>4</th>\n      <td>0.702234</td>\n      <td>3805.0</td>\n      <td>0.457336</td>\n      <td>1.0</td>\n      <td>-0.884864</td>\n      <td>0.721127</td>\n      <td>1065</td>\n      <td>0.448656</td>\n      <td>1.0</td>\n      <td>-0.987585</td>\n      <td>...</td>\n      <td>-0.912818</td>\n      <td>3.748752</td>\n      <td>3805.0</td>\n      <td>1.505144</td>\n      <td>4.272727</td>\n      <td>110.0</td>\n      <td>1.305662</td>\n      <td>15000.0</td>\n      <td>True</td>\n      <td>0</td>\n    </tr>\n  </tbody>\n</table>\n<p>5 rows × 24 columns</p>\n</div>"
     },
     "metadata": {},
     "execution_count": 27
    }
   ],
   "source": [
    "train_df.head()"
   ]
  },
  {
   "cell_type": "code",
   "execution_count": 28,
   "metadata": {},
   "outputs": [],
   "source": [
    "train_df, test_df = train_test_split(train_df, random_state=SEED, test_size=0.2)"
   ]
  },
  {
   "cell_type": "code",
   "execution_count": 29,
   "metadata": {
    "tags": [
     "outputPrepend"
    ]
   },
   "outputs": [
    {
     "output_type": "stream",
     "name": "stderr",
     "text": [
      "1413156, colsample_bytree=1.0 will be ignored. Current value: feature_fraction=0.7322400881413156\n",
      "[LightGBM] [Warning] min_data_in_leaf is set=40, min_child_samples=162 will be ignored. Current value: min_data_in_leaf=40\n",
      "\u001b[32m[I 2020-10-18 21:09:37,697]\u001b[0m Trial 40 finished with value: 0.7199881269516397 and parameters: {'num_leaves': 22, 'n_estimators': 192, 'max_depth': 7, 'min_child_samples': 162, 'learning_rate': 0.6071687887764963, 'min_data_in_leaf': 40, 'bagging_fraction': 0.8893285835948712, 'feature_fraction': 0.7322400881413156}. Best is trial 36 with value: 0.7235875612146813.\u001b[0m\n",
      "[LightGBM] [Warning] feature_fraction is set=0.7610912808728623, colsample_bytree=1.0 will be ignored. Current value: feature_fraction=0.7610912808728623\n",
      "[LightGBM] [Warning] min_data_in_leaf is set=40, min_child_samples=283 will be ignored. Current value: min_data_in_leaf=40\n",
      "\u001b[32m[I 2020-10-18 21:09:41,001]\u001b[0m Trial 41 finished with value: 0.7235228042989454 and parameters: {'num_leaves': 15, 'n_estimators': 182, 'max_depth': 8, 'min_child_samples': 283, 'learning_rate': 0.07661416200532031, 'min_data_in_leaf': 40, 'bagging_fraction': 0.9330239589037268, 'feature_fraction': 0.7610912808728623}. Best is trial 36 with value: 0.7235875612146813.\u001b[0m\n",
      "[LightGBM] [Warning] feature_fraction is set=0.820669839991336, colsample_bytree=1.0 will be ignored. Current value: feature_fraction=0.820669839991336\n",
      "[LightGBM] [Warning] min_data_in_leaf is set=38, min_child_samples=221 will be ignored. Current value: min_data_in_leaf=38\n",
      "\u001b[32m[I 2020-10-18 21:09:44,587]\u001b[0m Trial 42 finished with value: 0.72364968433117 and parameters: {'num_leaves': 18, 'n_estimators': 223, 'max_depth': 8, 'min_child_samples': 221, 'learning_rate': 0.09355696690242987, 'min_data_in_leaf': 38, 'bagging_fraction': 0.7463373281938641, 'feature_fraction': 0.820669839991336}. Best is trial 42 with value: 0.72364968433117.\u001b[0m\n",
      "[LightGBM] [Warning] feature_fraction is set=0.8288989114448255, colsample_bytree=1.0 will be ignored. Current value: feature_fraction=0.8288989114448255\n",
      "[LightGBM] [Warning] min_data_in_leaf is set=25, min_child_samples=367 will be ignored. Current value: min_data_in_leaf=25\n",
      "\u001b[32m[I 2020-10-18 21:09:48,400]\u001b[0m Trial 43 finished with value: 0.7235430726488721 and parameters: {'num_leaves': 20, 'n_estimators': 223, 'max_depth': 7, 'min_child_samples': 367, 'learning_rate': 0.10850316115128046, 'min_data_in_leaf': 25, 'bagging_fraction': 0.7530288215874877, 'feature_fraction': 0.8288989114448255}. Best is trial 42 with value: 0.72364968433117.\u001b[0m\n",
      "[LightGBM] [Warning] feature_fraction is set=0.6819272340320814, colsample_bytree=1.0 will be ignored. Current value: feature_fraction=0.6819272340320814\n",
      "[LightGBM] [Warning] min_data_in_leaf is set=33, min_child_samples=101 will be ignored. Current value: min_data_in_leaf=33\n",
      "\u001b[32m[I 2020-10-18 21:09:52,311]\u001b[0m Trial 44 finished with value: 0.7229221743595908 and parameters: {'num_leaves': 18, 'n_estimators': 243, 'max_depth': 8, 'min_child_samples': 101, 'learning_rate': 0.27638942619829315, 'min_data_in_leaf': 33, 'bagging_fraction': 0.8553619604048284, 'feature_fraction': 0.6819272340320814}. Best is trial 42 with value: 0.72364968433117.\u001b[0m\n",
      "[LightGBM] [Warning] feature_fraction is set=0.8861567615636627, colsample_bytree=1.0 will be ignored. Current value: feature_fraction=0.8861567615636627\n",
      "[LightGBM] [Warning] min_data_in_leaf is set=16, min_child_samples=458 will be ignored. Current value: min_data_in_leaf=16\n",
      "\u001b[32m[I 2020-10-18 21:09:57,645]\u001b[0m Trial 45 finished with value: 0.7198934734568868 and parameters: {'num_leaves': 22, 'n_estimators': 220, 'max_depth': 7, 'min_child_samples': 458, 'learning_rate': 0.004684556778040472, 'min_data_in_leaf': 16, 'bagging_fraction': 0.2520308022479931, 'feature_fraction': 0.8861567615636627}. Best is trial 42 with value: 0.72364968433117.\u001b[0m\n",
      "[LightGBM] [Warning] feature_fraction is set=0.641029804348911, colsample_bytree=1.0 will be ignored. Current value: feature_fraction=0.641029804348911\n",
      "[LightGBM] [Warning] min_data_in_leaf is set=26, min_child_samples=257 will be ignored. Current value: min_data_in_leaf=26\n",
      "\u001b[32m[I 2020-10-18 21:10:01,414]\u001b[0m Trial 46 finished with value: 0.7234245994478817 and parameters: {'num_leaves': 15, 'n_estimators': 175, 'max_depth': 8, 'min_child_samples': 257, 'learning_rate': 0.05715721808331873, 'min_data_in_leaf': 26, 'bagging_fraction': 0.9644516318433494, 'feature_fraction': 0.641029804348911}. Best is trial 42 with value: 0.72364968433117.\u001b[0m\n",
      "[LightGBM] [Warning] feature_fraction is set=0.8226867636229352, colsample_bytree=1.0 will be ignored. Current value: feature_fraction=0.8226867636229352\n",
      "[LightGBM] [Warning] min_data_in_leaf is set=47, min_child_samples=309 will be ignored. Current value: min_data_in_leaf=47\n",
      "\u001b[32m[I 2020-10-18 21:10:04,590]\u001b[0m Trial 47 finished with value: 0.7229469516453916 and parameters: {'num_leaves': 19, 'n_estimators': 195, 'max_depth': 8, 'min_child_samples': 309, 'learning_rate': 0.3148257097205871, 'min_data_in_leaf': 47, 'bagging_fraction': 0.769096378753398, 'feature_fraction': 0.8226867636229352}. Best is trial 42 with value: 0.72364968433117.\u001b[0m\n",
      "[LightGBM] [Warning] feature_fraction is set=0.9375300956859605, colsample_bytree=1.0 will be ignored. Current value: feature_fraction=0.9375300956859605\n",
      "[LightGBM] [Warning] min_data_in_leaf is set=43, min_child_samples=274 will be ignored. Current value: min_data_in_leaf=43\n",
      "\u001b[32m[I 2020-10-18 21:10:07,193]\u001b[0m Trial 48 finished with value: 0.7192230468411989 and parameters: {'num_leaves': 18, 'n_estimators': 146, 'max_depth': 7, 'min_child_samples': 274, 'learning_rate': 0.9099926296766112, 'min_data_in_leaf': 43, 'bagging_fraction': 0.83501839217199, 'feature_fraction': 0.9375300956859605}. Best is trial 42 with value: 0.72364968433117.\u001b[0m\n",
      "[LightGBM] [Warning] feature_fraction is set=0.7130886702538262, colsample_bytree=1.0 will be ignored. Current value: feature_fraction=0.7130886702538262\n",
      "[LightGBM] [Warning] min_data_in_leaf is set=39, min_child_samples=151 will be ignored. Current value: min_data_in_leaf=39\n",
      "\u001b[32m[I 2020-10-18 21:10:10,821]\u001b[0m Trial 49 finished with value: 0.7231726839481086 and parameters: {'num_leaves': 24, 'n_estimators': 225, 'max_depth': 8, 'min_child_samples': 151, 'learning_rate': 0.2277401535634856, 'min_data_in_leaf': 39, 'bagging_fraction': 0.8928585199335239, 'feature_fraction': 0.7130886702538262}. Best is trial 42 with value: 0.72364968433117.\u001b[0m\n",
      "[LightGBM] [Warning] feature_fraction is set=0.8857654814993338, colsample_bytree=1.0 will be ignored. Current value: feature_fraction=0.8857654814993338\n",
      "[LightGBM] [Warning] min_data_in_leaf is set=18, min_child_samples=374 will be ignored. Current value: min_data_in_leaf=18\n",
      "\u001b[32m[I 2020-10-18 21:10:14,227]\u001b[0m Trial 50 finished with value: 0.723193946598099 and parameters: {'num_leaves': 16, 'n_estimators': 154, 'max_depth': 7, 'min_child_samples': 374, 'learning_rate': 0.037240742610491206, 'min_data_in_leaf': 18, 'bagging_fraction': 0.9957463028902236, 'feature_fraction': 0.8857654814993338}. Best is trial 42 with value: 0.72364968433117.\u001b[0m\n",
      "[LightGBM] [Warning] feature_fraction is set=0.7929900216014257, colsample_bytree=1.0 will be ignored. Current value: feature_fraction=0.7929900216014257\n",
      "[LightGBM] [Warning] min_data_in_leaf is set=37, min_child_samples=193 will be ignored. Current value: min_data_in_leaf=37\n",
      "\u001b[32m[I 2020-10-18 21:10:17,681]\u001b[0m Trial 51 finished with value: 0.7235749026049385 and parameters: {'num_leaves': 14, 'n_estimators': 187, 'max_depth': 8, 'min_child_samples': 193, 'learning_rate': 0.09897783138812773, 'min_data_in_leaf': 37, 'bagging_fraction': 0.017379924052053797, 'feature_fraction': 0.7929900216014257}. Best is trial 42 with value: 0.72364968433117.\u001b[0m\n",
      "[LightGBM] [Warning] feature_fraction is set=0.7949416854730932, colsample_bytree=1.0 will be ignored. Current value: feature_fraction=0.7949416854730932\n",
      "[LightGBM] [Warning] min_data_in_leaf is set=43, min_child_samples=172 will be ignored. Current value: min_data_in_leaf=43\n",
      "\u001b[32m[I 2020-10-18 21:10:20,867]\u001b[0m Trial 52 finished with value: 0.7232899701945027 and parameters: {'num_leaves': 8, 'n_estimators': 182, 'max_depth': 8, 'min_child_samples': 172, 'learning_rate': 0.10142233456654332, 'min_data_in_leaf': 43, 'bagging_fraction': 0.0701643926205072, 'feature_fraction': 0.7949416854730932}. Best is trial 42 with value: 0.72364968433117.\u001b[0m\n",
      "[LightGBM] [Warning] feature_fraction is set=0.8548246781023198, colsample_bytree=1.0 will be ignored. Current value: feature_fraction=0.8548246781023198\n",
      "[LightGBM] [Warning] min_data_in_leaf is set=31, min_child_samples=239 will be ignored. Current value: min_data_in_leaf=31\n",
      "\u001b[32m[I 2020-10-18 21:10:24,703]\u001b[0m Trial 53 finished with value: 0.7234316787618593 and parameters: {'num_leaves': 21, 'n_estimators': 200, 'max_depth': 7, 'min_child_samples': 239, 'learning_rate': 0.15767337221725947, 'min_data_in_leaf': 31, 'bagging_fraction': 0.023489569636389495, 'feature_fraction': 0.8548246781023198}. Best is trial 42 with value: 0.72364968433117.\u001b[0m\n",
      "[LightGBM] [Warning] feature_fraction is set=0.7542202276414736, colsample_bytree=1.0 will be ignored. Current value: feature_fraction=0.7542202276414736\n",
      "[LightGBM] [Warning] min_data_in_leaf is set=50, min_child_samples=316 will be ignored. Current value: min_data_in_leaf=50\n",
      "\u001b[32m[I 2020-10-18 21:10:28,183]\u001b[0m Trial 54 finished with value: 0.7234795789752845 and parameters: {'num_leaves': 14, 'n_estimators': 214, 'max_depth': 8, 'min_child_samples': 316, 'learning_rate': 0.20653101082076963, 'min_data_in_leaf': 50, 'bagging_fraction': 0.21986103594784784, 'feature_fraction': 0.7542202276414736}. Best is trial 42 with value: 0.72364968433117.\u001b[0m\n",
      "[LightGBM] [Warning] feature_fraction is set=0.6396282199116556, colsample_bytree=1.0 will be ignored. Current value: feature_fraction=0.6396282199116556\n",
      "[LightGBM] [Warning] min_data_in_leaf is set=36, min_child_samples=204 will be ignored. Current value: min_data_in_leaf=36\n",
      "\u001b[32m[I 2020-10-18 21:10:33,328]\u001b[0m Trial 55 finished with value: 0.7233283744865009 and parameters: {'num_leaves': 19, 'n_estimators': 232, 'max_depth': 8, 'min_child_samples': 204, 'learning_rate': 0.028905849236986157, 'min_data_in_leaf': 36, 'bagging_fraction': 0.9545158807536184, 'feature_fraction': 0.6396282199116556}. Best is trial 42 with value: 0.72364968433117.\u001b[0m\n",
      "[LightGBM] [Warning] feature_fraction is set=0.9695873256716628, colsample_bytree=1.0 will be ignored. Current value: feature_fraction=0.9695873256716628\n",
      "[LightGBM] [Warning] min_data_in_leaf is set=29, min_child_samples=120 will be ignored. Current value: min_data_in_leaf=29\n",
      "\u001b[32m[I 2020-10-18 21:10:36,392]\u001b[0m Trial 56 finished with value: 0.7235990342931027 and parameters: {'num_leaves': 17, 'n_estimators': 168, 'max_depth': 7, 'min_child_samples': 120, 'learning_rate': 0.1503352624409241, 'min_data_in_leaf': 29, 'bagging_fraction': 0.8786066814414636, 'feature_fraction': 0.9695873256716628}. Best is trial 42 with value: 0.72364968433117.\u001b[0m\n",
      "[LightGBM] [Warning] feature_fraction is set=0.9618332299218761, colsample_bytree=1.0 will be ignored. Current value: feature_fraction=0.9618332299218761\n",
      "[LightGBM] [Warning] min_data_in_leaf is set=12, min_child_samples=136 will be ignored. Current value: min_data_in_leaf=12\n",
      "\u001b[32m[I 2020-10-18 21:10:40,027]\u001b[0m Trial 57 finished with value: 0.7234310858254056 and parameters: {'num_leaves': 18, 'n_estimators': 166, 'max_depth': 7, 'min_child_samples': 136, 'learning_rate': 0.0522849575147342, 'min_data_in_leaf': 12, 'bagging_fraction': 0.8103095897273372, 'feature_fraction': 0.9618332299218761}. Best is trial 42 with value: 0.72364968433117.\u001b[0m\n",
      "[LightGBM] [Warning] feature_fraction is set=0.9003821760548316, colsample_bytree=1.0 will be ignored. Current value: feature_fraction=0.9003821760548316\n",
      "[LightGBM] [Warning] min_data_in_leaf is set=27, min_child_samples=180 will be ignored. Current value: min_data_in_leaf=27\n",
      "\u001b[32m[I 2020-10-18 21:10:42,568]\u001b[0m Trial 58 finished with value: 0.7233824100977825 and parameters: {'num_leaves': 17, 'n_estimators': 122, 'max_depth': 8, 'min_child_samples': 180, 'learning_rate': 0.2533039767323635, 'min_data_in_leaf': 27, 'bagging_fraction': 0.8763449999895874, 'feature_fraction': 0.9003821760548316}. Best is trial 42 with value: 0.72364968433117.\u001b[0m\n",
      "[LightGBM] [Warning] feature_fraction is set=0.9898086529325901, colsample_bytree=1.0 will be ignored. Current value: feature_fraction=0.9898086529325901\n",
      "[LightGBM] [Warning] min_data_in_leaf is set=32, min_child_samples=108 will be ignored. Current value: min_data_in_leaf=32\n",
      "\u001b[32m[I 2020-10-18 21:10:45,222]\u001b[0m Trial 59 finished with value: 0.7225884053914329 and parameters: {'num_leaves': 15, 'n_estimators': 146, 'max_depth': 7, 'min_child_samples': 108, 'learning_rate': 0.460681157465805, 'min_data_in_leaf': 32, 'bagging_fraction': 0.4424979757023588, 'feature_fraction': 0.9898086529325901}. Best is trial 42 with value: 0.72364968433117.\u001b[0m\n",
      "[LightGBM] [Warning] feature_fraction is set=0.7086682207300893, colsample_bytree=1.0 will be ignored. Current value: feature_fraction=0.7086682207300893\n",
      "[LightGBM] [Warning] min_data_in_leaf is set=43, min_child_samples=1171 will be ignored. Current value: min_data_in_leaf=43\n",
      "\u001b[32m[I 2020-10-18 21:10:48,514]\u001b[0m Trial 60 finished with value: 0.7223733920020675 and parameters: {'num_leaves': 21, 'n_estimators': 187, 'max_depth': 8, 'min_child_samples': 1171, 'learning_rate': 0.36070744910122854, 'min_data_in_leaf': 43, 'bagging_fraction': 0.837799713184086, 'feature_fraction': 0.7086682207300893}. Best is trial 42 with value: 0.72364968433117.\u001b[0m\n",
      "[LightGBM] [Warning] feature_fraction is set=0.8058189211288435, colsample_bytree=1.0 will be ignored. Current value: feature_fraction=0.8058189211288435\n",
      "[LightGBM] [Warning] min_data_in_leaf is set=37, min_child_samples=248 will be ignored. Current value: min_data_in_leaf=37\n",
      "\u001b[32m[I 2020-10-18 21:10:51,499]\u001b[0m Trial 61 finished with value: 0.7235037254085799 and parameters: {'num_leaves': 11, 'n_estimators': 175, 'max_depth': 7, 'min_child_samples': 248, 'learning_rate': 0.14934491695126573, 'min_data_in_leaf': 37, 'bagging_fraction': 0.9047435341970139, 'feature_fraction': 0.8058189211288435}. Best is trial 42 with value: 0.72364968433117.\u001b[0m\n",
      "[LightGBM] [Warning] feature_fraction is set=0.8599158061363175, colsample_bytree=1.0 will be ignored. Current value: feature_fraction=0.8599158061363175\n",
      "[LightGBM] [Warning] min_data_in_leaf is set=29, min_child_samples=448 will be ignored. Current value: min_data_in_leaf=29\n",
      "\u001b[32m[I 2020-10-18 21:10:54,999]\u001b[0m Trial 62 finished with value: 0.7235531066252604 and parameters: {'num_leaves': 13, 'n_estimators': 211, 'max_depth': 6, 'min_child_samples': 448, 'learning_rate': 0.0957942165864835, 'min_data_in_leaf': 29, 'bagging_fraction': 0.9529499600045606, 'feature_fraction': 0.8599158061363175}. Best is trial 42 with value: 0.72364968433117.\u001b[0m\n",
      "[LightGBM] [Warning] feature_fraction is set=0.763812698756838, colsample_bytree=1.0 will be ignored. Current value: feature_fraction=0.763812698756838\n",
      "[LightGBM] [Warning] min_data_in_leaf is set=49, min_child_samples=292 will be ignored. Current value: min_data_in_leaf=49\n",
      "\u001b[32m[I 2020-10-18 21:10:58,421]\u001b[0m Trial 63 finished with value: 0.7234014180521117 and parameters: {'num_leaves': 20, 'n_estimators': 199, 'max_depth': 8, 'min_child_samples': 292, 'learning_rate': 0.19471566941271853, 'min_data_in_leaf': 49, 'bagging_fraction': 0.7341164693396358, 'feature_fraction': 0.763812698756838}. Best is trial 42 with value: 0.72364968433117.\u001b[0m\n",
      "[LightGBM] [Warning] feature_fraction is set=0.6913837521406848, colsample_bytree=1.0 will be ignored. Current value: feature_fraction=0.6913837521406848\n",
      "[LightGBM] [Warning] min_data_in_leaf is set=38, min_child_samples=196 will be ignored. Current value: min_data_in_leaf=38\n",
      "\u001b[32m[I 2020-10-18 21:11:01,578]\u001b[0m Trial 64 finished with value: 0.7235463867167397 and parameters: {'num_leaves': 15, 'n_estimators': 158, 'max_depth': 7, 'min_child_samples': 196, 'learning_rate': 0.14796870889310595, 'min_data_in_leaf': 38, 'bagging_fraction': 0.995101200270537, 'feature_fraction': 0.6913837521406848}. Best is trial 42 with value: 0.72364968433117.\u001b[0m\n",
      "[LightGBM] [Warning] feature_fraction is set=0.7328758283606763, colsample_bytree=1.0 will be ignored. Current value: feature_fraction=0.7328758283606763\n",
      "[LightGBM] [Warning] min_data_in_leaf is set=34, min_child_samples=330 will be ignored. Current value: min_data_in_leaf=34\n",
      "\u001b[32m[I 2020-10-18 21:11:05,562]\u001b[0m Trial 65 finished with value: 0.723647196673822 and parameters: {'num_leaves': 11, 'n_estimators': 257, 'max_depth': 8, 'min_child_samples': 330, 'learning_rate': 0.11221575868296008, 'min_data_in_leaf': 34, 'bagging_fraction': 0.8722697504344527, 'feature_fraction': 0.7328758283606763}. Best is trial 42 with value: 0.72364968433117.\u001b[0m\n",
      "[LightGBM] [Warning] feature_fraction is set=0.7390816407498992, colsample_bytree=1.0 will be ignored. Current value: feature_fraction=0.7390816407498992\n",
      "[LightGBM] [Warning] min_data_in_leaf is set=33, min_child_samples=105 will be ignored. Current value: min_data_in_leaf=33\n",
      "\u001b[32m[I 2020-10-18 21:11:09,906]\u001b[0m Trial 66 finished with value: 0.7233687955594758 and parameters: {'num_leaves': 11, 'n_estimators': 264, 'max_depth': 8, 'min_child_samples': 105, 'learning_rate': 0.050027518276530694, 'min_data_in_leaf': 33, 'bagging_fraction': 0.8627638425879214, 'feature_fraction': 0.7390816407498992}. Best is trial 42 with value: 0.72364968433117.\u001b[0m\n",
      "[LightGBM] [Warning] feature_fraction is set=0.9095653774655159, colsample_bytree=1.0 will be ignored. Current value: feature_fraction=0.9095653774655159\n",
      "[LightGBM] [Warning] min_data_in_leaf is set=20, min_child_samples=324 will be ignored. Current value: min_data_in_leaf=20\n",
      "\u001b[32m[I 2020-10-18 21:11:13,621]\u001b[0m Trial 67 finished with value: 0.7232911157033249 and parameters: {'num_leaves': 9, 'n_estimators': 170, 'max_depth': 8, 'min_child_samples': 324, 'learning_rate': 0.08007229821419556, 'min_data_in_leaf': 20, 'bagging_fraction': 0.7867153086915691, 'feature_fraction': 0.9095653774655159}. Best is trial 42 with value: 0.72364968433117.\u001b[0m\n",
      "[LightGBM] [Warning] feature_fraction is set=0.8508203285639994, colsample_bytree=1.0 will be ignored. Current value: feature_fraction=0.8508203285639994\n",
      "[LightGBM] [Warning] min_data_in_leaf is set=42, min_child_samples=970 will be ignored. Current value: min_data_in_leaf=42\n",
      "\u001b[32m[I 2020-10-18 21:11:17,327]\u001b[0m Trial 68 finished with value: 0.723448021946473 and parameters: {'num_leaves': 19, 'n_estimators': 245, 'max_depth': 8, 'min_child_samples': 970, 'learning_rate': 0.16532144165029325, 'min_data_in_leaf': 42, 'bagging_fraction': 0.6599638099293939, 'feature_fraction': 0.8508203285639994}. Best is trial 42 with value: 0.72364968433117.\u001b[0m\n",
      "[LightGBM] [Warning] feature_fraction is set=0.6514125708282675, colsample_bytree=1.0 will be ignored. Current value: feature_fraction=0.6514125708282675\n",
      "[LightGBM] [Warning] min_data_in_leaf is set=35, min_child_samples=152 will be ignored. Current value: min_data_in_leaf=35\n",
      "\u001b[32m[I 2020-10-18 21:11:21,157]\u001b[0m Trial 69 finished with value: 0.7229992881507241 and parameters: {'num_leaves': 5, 'n_estimators': 255, 'max_depth': 8, 'min_child_samples': 152, 'learning_rate': 0.10981444485778014, 'min_data_in_leaf': 35, 'bagging_fraction': 0.14296458593713554, 'feature_fraction': 0.6514125708282675}. Best is trial 42 with value: 0.72364968433117.\u001b[0m\n",
      "[LightGBM] [Warning] feature_fraction is set=0.820669839991336, colsample_bytree=1.0 will be ignored. Current value: feature_fraction=0.820669839991336\n",
      "[LightGBM] [Warning] min_data_in_leaf is set=38, min_child_samples=221 will be ignored. Current value: min_data_in_leaf=38\n",
      "[LightGBM] [Warning] bagging_fraction is set=0.7463373281938641, subsample=1.0 will be ignored. Current value: bagging_fraction=0.7463373281938641\n"
     ]
    },
    {
     "output_type": "execute_result",
     "data": {
      "text/plain": [
       "LGBMClassifier(bagging_fraction=0.7463373281938641,\n",
       "               feature_fraction=0.820669839991336,\n",
       "               learning_rate=0.09355696690242987, max_depth=8,\n",
       "               min_child_samples=221, min_data_in_leaf=38, n_estimators=223,\n",
       "               num_leaves=18, random_state=0)"
      ]
     },
     "metadata": {},
     "execution_count": 29
    }
   ],
   "source": [
    "sampler = TPESampler(seed=666)\n",
    "\n",
    "def create_model(trial):\n",
    "    num_leaves = trial.suggest_int(\"num_leaves\", 2, 31)\n",
    "    n_estimators = trial.suggest_int(\"n_estimators\", 50, 300)\n",
    "    max_depth = trial.suggest_int('max_depth', 3, 8)\n",
    "    min_child_samples = trial.suggest_int('min_child_samples', 100, 1200)\n",
    "    learning_rate = trial.suggest_uniform('learning_rate', 0.0001, 0.99)\n",
    "    min_data_in_leaf = trial.suggest_int('min_data_in_leaf', 5, 90)\n",
    "    bagging_fraction = trial.suggest_uniform('bagging_fraction', 0.0001, 1.0)\n",
    "    feature_fraction = trial.suggest_uniform('feature_fraction', 0.0001, 1.0)\n",
    "    model = LGBMClassifier(\n",
    "        num_leaves=num_leaves,\n",
    "        n_estimators=n_estimators, \n",
    "        max_depth=max_depth, \n",
    "        min_child_samples=min_child_samples, \n",
    "        min_data_in_leaf=min_data_in_leaf,\n",
    "        learning_rate=learning_rate,\n",
    "        feature_fraction=feature_fraction,\n",
    "        random_state=SEED\n",
    "    )\n",
    "    return model\n",
    "\n",
    "def objective(trial):\n",
    "    model = create_model(trial)\n",
    "    model.fit(train_df[features], train_df[target])\n",
    "    score = roc_auc_score(test_df[target].values, model.predict_proba(test_df[features])[:,1])\n",
    "    return score\n",
    "\n",
    "# uncomment to use optuna\n",
    "study = optuna.create_study(direction=\"maximize\", sampler=sampler)\n",
    "study.optimize(objective, n_trials=70)\n",
    "\n",
    "params = study.best_params\n",
    "params['random_state'] = SEED\n",
    "# params = {\n",
    "#     bagging_fraction=0.7463373281938641,\n",
    "#     feature_fraction=0.820669839991336,\n",
    "#     learning_rate=0.09355696690242987, \n",
    "#     max_depth=8,\n",
    "#     min_child_samples=221, \n",
    "#     min_data_in_leaf=38, \n",
    "#     n_estimators=223,\n",
    "#     num_leaves=18, \n",
    "#     random_state=0\n",
    "# }\n",
    "model = LGBMClassifier(**params)\n",
    "model.fit(train_df[features], train_df[target])"
   ]
  },
  {
   "cell_type": "code",
   "execution_count": 30,
   "metadata": {},
   "outputs": [
    {
     "output_type": "stream",
     "name": "stdout",
     "text": [
      "LGB score:  0.72364968433117\n"
     ]
    }
   ],
   "source": [
    "print('LGB score: ', roc_auc_score(test_df[target].values, model.predict_proba(test_df[features])[:,1]))"
   ]
  },
  {
   "cell_type": "code",
   "execution_count": null,
   "metadata": {},
   "outputs": [],
   "source": [
    "'''\n",
    "import riiideducation\n",
    "env = riiideducation.make_env()\n",
    "iter_test = env.iter_test()\n",
    "for (test_df, sample_prediction_df) in iter_test:\n",
    "    test_df = test_df.merge(question_df, how='left', on='content_id')\n",
    "    test_df = test_df.merge(user_answers_df, how = 'left', on = 'user_id')\n",
    "    test_df = test_df.merge(user_question_part_df, how='left', on='user_id')\n",
    "    test_df = test_df.merge(content_answers_df, how = 'left', on = 'content_id')\n",
    "    test_df = test_df.merge(part_answers_df, how='left', on='part')\n",
    "    test_df = test_df.merge(user_lecture_part_df, how='left', on='user_id')\n",
    "    test_df['prior_question_had_explanation'] = test_df['prior_question_had_explanation'].fillna(value = False).astype(bool)\n",
    "    test_df.fillna(value = -1, inplace = True)\n",
    "\n",
    "    test_df['answered_correctly'] = model.predict_proba(test_df[features])[:,1]\n",
    "    env.predict(test_df.loc[test_df['content_type_id'] == 0, ['row_id', 'answered_correctly']])\n",
    "'''"
   ]
  }
 ]
}