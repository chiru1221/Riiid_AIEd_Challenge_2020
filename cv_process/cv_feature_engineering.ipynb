{
 "metadata": {
  "language_info": {
   "codemirror_mode": {
    "name": "ipython",
    "version": 3
   },
   "file_extension": ".py",
   "mimetype": "text/x-python",
   "name": "python",
   "nbconvert_exporter": "python",
   "pygments_lexer": "ipython3",
   "version": "3.7.7-final"
  },
  "orig_nbformat": 2,
  "kernelspec": {
   "name": "python3",
   "display_name": "Python 3",
   "language": "python"
  }
 },
 "nbformat": 4,
 "nbformat_minor": 2,
 "cells": [
  {
   "source": [
    "https://www.kaggle.com/its7171/lgbm-with-loop-feature-engineering"
   ],
   "cell_type": "markdown",
   "metadata": {}
  },
  {
   "cell_type": "code",
   "execution_count": 1,
   "metadata": {},
   "outputs": [],
   "source": [
    "import pandas as pd\n",
    "import numpy as np\n",
    "import gc\n",
    "from sklearn.metrics import roc_auc_score\n",
    "from collections import defaultdict\n",
    "from tqdm.notebook import tqdm"
   ]
  },
  {
   "cell_type": "code",
   "execution_count": 2,
   "metadata": {},
   "outputs": [],
   "source": [
    "train_pickle = '../cv_files/cv1_train.pickle'\n",
    "valid_pickle = '../cv_files/cv1_valid.pickle'\n",
    "question_file = '../data/questions.csv'\n",
    "debug = False\n",
    "validaten_flg = False"
   ]
  },
  {
   "cell_type": "code",
   "execution_count": 4,
   "metadata": {},
   "outputs": [],
   "source": [
    "# funcs for user stats with loop\n",
    "def add_user_feats(df, answered_correctly_sum_u_dict, count_u_dict):\n",
    "    acsu = np.zeros(len(df), dtype=np.int32)\n",
    "    cu = np.zeros(len(df), dtype=np.int32)\n",
    "    for cnt,row in enumerate(tqdm(df[['user_id','answered_correctly']].values)):\n",
    "        acsu[cnt] = answered_correctly_sum_u_dict[row[0]]\n",
    "        cu[cnt] = count_u_dict[row[0]]\n",
    "        answered_correctly_sum_u_dict[row[0]] += row[1]\n",
    "        count_u_dict[row[0]] += 1\n",
    "    user_feats_df = pd.DataFrame({'answered_correctly_sum_u':acsu, 'count_u':cu})\n",
    "    user_feats_df['answered_correctly_avg_u'] = user_feats_df['answered_correctly_sum_u'] / user_feats_df['count_u']\n",
    "    df = pd.concat([df, user_feats_df], axis=1)\n",
    "    return df\n",
    "\n",
    "def add_user_feats_without_update(df, answered_correctly_sum_u_dict, count_u_dict):\n",
    "    acsu = np.zeros(len(df), dtype=np.int32)\n",
    "    cu = np.zeros(len(df), dtype=np.int32)\n",
    "    for cnt,row in enumerate(df[['user_id']].values):\n",
    "        acsu[cnt] = answered_correctly_sum_u_dict[row[0]]\n",
    "        cu[cnt] = count_u_dict[row[0]]\n",
    "    user_feats_df = pd.DataFrame({'answered_correctly_sum_u':acsu, 'count_u':cu})\n",
    "    user_feats_df['answered_correctly_avg_u'] = user_feats_df['answered_correctly_sum_u'] / user_feats_df['count_u']\n",
    "    df = pd.concat([df, user_feats_df], axis=1)\n",
    "    return df\n",
    "\n",
    "def update_user_feats(df, answered_correctly_sum_u_dict, count_u_dict):\n",
    "    for row in df[['user_id','answered_correctly','content_type_id']].values:\n",
    "        if row[2] == 0:\n",
    "            answered_correctly_sum_u_dict[row[0]] += row[1]\n",
    "            count_u_dict[row[0]] += 1"
   ]
  },
  {
   "cell_type": "code",
   "execution_count": 4,
   "metadata": {},
   "outputs": [
    {
     "output_type": "display_data",
     "data": {
      "text/plain": "HBox(children=(FloatProgress(value=0.0, max=96817540.0), HTML(value='')))",
      "application/vnd.jupyter.widget-view+json": {
       "version_major": 2,
       "version_minor": 0,
       "model_id": "8701ffc7f9324dcbaa92ec64249ac731"
      }
     },
     "metadata": {}
    },
    {
     "output_type": "stream",
     "name": "stdout",
     "text": [
      "\n"
     ]
    },
    {
     "output_type": "display_data",
     "data": {
      "text/plain": "HBox(children=(FloatProgress(value=0.0, max=2453760.0), HTML(value='')))",
      "application/vnd.jupyter.widget-view+json": {
       "version_major": 2,
       "version_minor": 0,
       "model_id": "3b09410fc54741b6a030a5f1df80fdff"
      }
     },
     "metadata": {}
    },
    {
     "output_type": "stream",
     "name": "stdout",
     "text": [
      "\n"
     ]
    }
   ],
   "source": [
    "# read data\n",
    "feld_needed = ['row_id', 'user_id', 'content_id', 'content_type_id', 'answered_correctly', 'prior_question_elapsed_time', 'prior_question_had_explanation']\n",
    "train = pd.read_pickle(train_pickle)[feld_needed]\n",
    "valid = pd.read_pickle(valid_pickle)[feld_needed]\n",
    "if debug:\n",
    "    train = train[:1000000]\n",
    "    valid = valid[:10000]\n",
    "train = train.loc[train.content_type_id == False].reset_index(drop=True)\n",
    "valid = valid.loc[valid.content_type_id == False].reset_index(drop=True)\n",
    "\n",
    "# answered correctly average for each content\n",
    "content_df = train[['content_id','answered_correctly']].groupby(['content_id']).agg(['mean']).reset_index()\n",
    "content_df.columns = ['content_id', 'answered_correctly_avg_c']\n",
    "train = pd.merge(train, content_df, on=['content_id'], how=\"left\")\n",
    "valid = pd.merge(valid, content_df, on=['content_id'], how=\"left\")\n",
    "\n",
    "# user stats features with loops\n",
    "answered_correctly_sum_u_dict = defaultdict(int)\n",
    "count_u_dict = defaultdict(int)\n",
    "train = add_user_feats(train, answered_correctly_sum_u_dict, count_u_dict)\n",
    "valid = add_user_feats(valid, answered_correctly_sum_u_dict, count_u_dict)\n",
    "\n",
    "# fill with mean value for prior_question_elapsed_time\n",
    "# note that `train.prior_question_elapsed_time.mean()` dose not work!\n",
    "# please refer https://www.kaggle.com/its7171/can-we-trust-pandas-mean for detail.\n",
    "prior_question_elapsed_time_mean = train.prior_question_elapsed_time.dropna().values.mean()\n",
    "train['prior_question_elapsed_time_mean'] = train.prior_question_elapsed_time.fillna(prior_question_elapsed_time_mean)\n",
    "valid['prior_question_elapsed_time_mean'] = valid.prior_question_elapsed_time.fillna(prior_question_elapsed_time_mean)\n",
    "\n",
    "# use only last 30M training data for limited memory on kaggle env.\n",
    "#train = train[-30000000:]\n",
    "\n",
    "# part\n",
    "questions_df = pd.read_csv(question_file)\n",
    "train = pd.merge(train, questions_df[['question_id', 'part']], left_on = 'content_id', right_on = 'question_id', how = 'left')\n",
    "valid = pd.merge(valid, questions_df[['question_id', 'part']], left_on = 'content_id', right_on = 'question_id', how = 'left')\n",
    "\n",
    "# changing dtype to avoid lightgbm error\n",
    "train['prior_question_had_explanation'] = train.prior_question_had_explanation.fillna(False).astype('int8')\n",
    "valid['prior_question_had_explanation'] = valid.prior_question_had_explanation.fillna(False).astype('int8')"
   ]
  },
  {
   "cell_type": "code",
   "execution_count": 10,
   "metadata": {},
   "outputs": [
    {
     "output_type": "execute_result",
     "data": {
      "text/plain": [
       "     row_id    user_id  content_id  content_type_id  answered_correctly  \\\n",
       "0  32933156  705741139         128                0                   1   \n",
       "1  32933157  705741139        7860                0                   1   \n",
       "2  32933158  705741139        7922                0                   1   \n",
       "3  32933159  705741139         156                0                   1   \n",
       "4  32933160  705741139          51                0                   1   \n",
       "\n",
       "   prior_question_elapsed_time  prior_question_had_explanation  \\\n",
       "0                          NaN                               0   \n",
       "1                      16000.0                               0   \n",
       "2                      19000.0                               0   \n",
       "3                      17000.0                               0   \n",
       "4                      17000.0                               0   \n",
       "\n",
       "   answered_correctly_avg_c  answered_correctly_sum_u  count_u  \\\n",
       "0                  0.966933                         0        0   \n",
       "1                  0.955045                         1        1   \n",
       "2                  0.954340                         2        2   \n",
       "3                  0.932421                         3        3   \n",
       "4                  0.929977                         4        4   \n",
       "\n",
       "   answered_correctly_avg_u  prior_question_elapsed_time_mean  question_id  \\\n",
       "0                       NaN                      25439.917439          128   \n",
       "1                       1.0                      16000.000000         7860   \n",
       "2                       1.0                      19000.000000         7922   \n",
       "3                       1.0                      17000.000000          156   \n",
       "4                       1.0                      17000.000000           51   \n",
       "\n",
       "   part  \n",
       "0     1  \n",
       "1     1  \n",
       "2     1  \n",
       "3     1  \n",
       "4     1  "
      ],
      "text/html": "<div>\n<style scoped>\n    .dataframe tbody tr th:only-of-type {\n        vertical-align: middle;\n    }\n\n    .dataframe tbody tr th {\n        vertical-align: top;\n    }\n\n    .dataframe thead th {\n        text-align: right;\n    }\n</style>\n<table border=\"1\" class=\"dataframe\">\n  <thead>\n    <tr style=\"text-align: right;\">\n      <th></th>\n      <th>row_id</th>\n      <th>user_id</th>\n      <th>content_id</th>\n      <th>content_type_id</th>\n      <th>answered_correctly</th>\n      <th>prior_question_elapsed_time</th>\n      <th>prior_question_had_explanation</th>\n      <th>answered_correctly_avg_c</th>\n      <th>answered_correctly_sum_u</th>\n      <th>count_u</th>\n      <th>answered_correctly_avg_u</th>\n      <th>prior_question_elapsed_time_mean</th>\n      <th>question_id</th>\n      <th>part</th>\n    </tr>\n  </thead>\n  <tbody>\n    <tr>\n      <th>0</th>\n      <td>32933156</td>\n      <td>705741139</td>\n      <td>128</td>\n      <td>0</td>\n      <td>1</td>\n      <td>NaN</td>\n      <td>0</td>\n      <td>0.966933</td>\n      <td>0</td>\n      <td>0</td>\n      <td>NaN</td>\n      <td>25439.917439</td>\n      <td>128</td>\n      <td>1</td>\n    </tr>\n    <tr>\n      <th>1</th>\n      <td>32933157</td>\n      <td>705741139</td>\n      <td>7860</td>\n      <td>0</td>\n      <td>1</td>\n      <td>16000.0</td>\n      <td>0</td>\n      <td>0.955045</td>\n      <td>1</td>\n      <td>1</td>\n      <td>1.0</td>\n      <td>16000.000000</td>\n      <td>7860</td>\n      <td>1</td>\n    </tr>\n    <tr>\n      <th>2</th>\n      <td>32933158</td>\n      <td>705741139</td>\n      <td>7922</td>\n      <td>0</td>\n      <td>1</td>\n      <td>19000.0</td>\n      <td>0</td>\n      <td>0.954340</td>\n      <td>2</td>\n      <td>2</td>\n      <td>1.0</td>\n      <td>19000.000000</td>\n      <td>7922</td>\n      <td>1</td>\n    </tr>\n    <tr>\n      <th>3</th>\n      <td>32933159</td>\n      <td>705741139</td>\n      <td>156</td>\n      <td>0</td>\n      <td>1</td>\n      <td>17000.0</td>\n      <td>0</td>\n      <td>0.932421</td>\n      <td>3</td>\n      <td>3</td>\n      <td>1.0</td>\n      <td>17000.000000</td>\n      <td>156</td>\n      <td>1</td>\n    </tr>\n    <tr>\n      <th>4</th>\n      <td>32933160</td>\n      <td>705741139</td>\n      <td>51</td>\n      <td>0</td>\n      <td>1</td>\n      <td>17000.0</td>\n      <td>0</td>\n      <td>0.929977</td>\n      <td>4</td>\n      <td>4</td>\n      <td>1.0</td>\n      <td>17000.000000</td>\n      <td>51</td>\n      <td>1</td>\n    </tr>\n  </tbody>\n</table>\n</div>"
     },
     "metadata": {},
     "execution_count": 10
    }
   ],
   "source": [
    "train.head()"
   ]
  },
  {
   "cell_type": "code",
   "execution_count": 11,
   "metadata": {},
   "outputs": [
    {
     "output_type": "execute_result",
     "data": {
      "text/plain": [
       "     row_id     user_id  content_id  content_type_id  answered_correctly  \\\n",
       "0  15969594   342268703       11581                0                   0   \n",
       "1  15969595   342268703       11584                0                   1   \n",
       "2  59061988  1252813376        1155                0                   1   \n",
       "3  91336018  1939074725        9975                0                   1   \n",
       "4  30683822   658510304        8645                0                   0   \n",
       "\n",
       "   prior_question_elapsed_time  prior_question_had_explanation  \\\n",
       "0                      48400.0                               1   \n",
       "1                      48400.0                               1   \n",
       "2                      18000.0                               1   \n",
       "3                      21000.0                               1   \n",
       "4                      33000.0                               1   \n",
       "\n",
       "   answered_correctly_avg_c  answered_correctly_sum_u  count_u  \\\n",
       "0                  0.384876                       187      289   \n",
       "1                  0.486670                       187      290   \n",
       "2                  0.620722                       484      751   \n",
       "3                  0.469522                       884     1226   \n",
       "4                  0.369358                        76      165   \n",
       "\n",
       "   answered_correctly_avg_u  prior_question_elapsed_time_mean  question_id  \\\n",
       "0                  0.647059                           48400.0        11581   \n",
       "1                  0.644828                           48400.0        11584   \n",
       "2                  0.644474                           18000.0         1155   \n",
       "3                  0.721044                           21000.0         9975   \n",
       "4                  0.460606                           33000.0         8645   \n",
       "\n",
       "   part  \n",
       "0     7  \n",
       "1     7  \n",
       "2     2  \n",
       "3     5  \n",
       "4     5  "
      ],
      "text/html": "<div>\n<style scoped>\n    .dataframe tbody tr th:only-of-type {\n        vertical-align: middle;\n    }\n\n    .dataframe tbody tr th {\n        vertical-align: top;\n    }\n\n    .dataframe thead th {\n        text-align: right;\n    }\n</style>\n<table border=\"1\" class=\"dataframe\">\n  <thead>\n    <tr style=\"text-align: right;\">\n      <th></th>\n      <th>row_id</th>\n      <th>user_id</th>\n      <th>content_id</th>\n      <th>content_type_id</th>\n      <th>answered_correctly</th>\n      <th>prior_question_elapsed_time</th>\n      <th>prior_question_had_explanation</th>\n      <th>answered_correctly_avg_c</th>\n      <th>answered_correctly_sum_u</th>\n      <th>count_u</th>\n      <th>answered_correctly_avg_u</th>\n      <th>prior_question_elapsed_time_mean</th>\n      <th>question_id</th>\n      <th>part</th>\n    </tr>\n  </thead>\n  <tbody>\n    <tr>\n      <th>0</th>\n      <td>15969594</td>\n      <td>342268703</td>\n      <td>11581</td>\n      <td>0</td>\n      <td>0</td>\n      <td>48400.0</td>\n      <td>1</td>\n      <td>0.384876</td>\n      <td>187</td>\n      <td>289</td>\n      <td>0.647059</td>\n      <td>48400.0</td>\n      <td>11581</td>\n      <td>7</td>\n    </tr>\n    <tr>\n      <th>1</th>\n      <td>15969595</td>\n      <td>342268703</td>\n      <td>11584</td>\n      <td>0</td>\n      <td>1</td>\n      <td>48400.0</td>\n      <td>1</td>\n      <td>0.486670</td>\n      <td>187</td>\n      <td>290</td>\n      <td>0.644828</td>\n      <td>48400.0</td>\n      <td>11584</td>\n      <td>7</td>\n    </tr>\n    <tr>\n      <th>2</th>\n      <td>59061988</td>\n      <td>1252813376</td>\n      <td>1155</td>\n      <td>0</td>\n      <td>1</td>\n      <td>18000.0</td>\n      <td>1</td>\n      <td>0.620722</td>\n      <td>484</td>\n      <td>751</td>\n      <td>0.644474</td>\n      <td>18000.0</td>\n      <td>1155</td>\n      <td>2</td>\n    </tr>\n    <tr>\n      <th>3</th>\n      <td>91336018</td>\n      <td>1939074725</td>\n      <td>9975</td>\n      <td>0</td>\n      <td>1</td>\n      <td>21000.0</td>\n      <td>1</td>\n      <td>0.469522</td>\n      <td>884</td>\n      <td>1226</td>\n      <td>0.721044</td>\n      <td>21000.0</td>\n      <td>9975</td>\n      <td>5</td>\n    </tr>\n    <tr>\n      <th>4</th>\n      <td>30683822</td>\n      <td>658510304</td>\n      <td>8645</td>\n      <td>0</td>\n      <td>0</td>\n      <td>33000.0</td>\n      <td>1</td>\n      <td>0.369358</td>\n      <td>76</td>\n      <td>165</td>\n      <td>0.460606</td>\n      <td>33000.0</td>\n      <td>8645</td>\n      <td>5</td>\n    </tr>\n  </tbody>\n</table>\n</div>"
     },
     "metadata": {},
     "execution_count": 11
    }
   ],
   "source": [
    "valid.head()"
   ]
  },
  {
   "cell_type": "code",
   "execution_count": 12,
   "metadata": {},
   "outputs": [
    {
     "output_type": "execute_result",
     "data": {
      "text/plain": [
       "((96817540, 14), (2453760, 14))"
      ]
     },
     "metadata": {},
     "execution_count": 12
    }
   ],
   "source": [
    "train.shape, valid.shape"
   ]
  },
  {
   "cell_type": "code",
   "execution_count": 13,
   "metadata": {},
   "outputs": [],
   "source": [
    "np.save('../cv_files/cv{0}_train'.format(1), train.values)\n",
    "np.save('../cv_files/cv{0}_valid'.format(1), valid.values)"
   ]
  },
  {
   "cell_type": "code",
   "execution_count": 5,
   "metadata": {},
   "outputs": [],
   "source": [
    "np.save('../cv_files/features_all_cv', train.columns.values, allow_pickle=True)"
   ]
  },
  {
   "cell_type": "code",
   "execution_count": 5,
   "metadata": {},
   "outputs": [],
   "source": [
    "def main(cv_idx):\n",
    "    train_pickle = '../cv_files/cv{0}_train.pickle'.format(cv_idx)\n",
    "    valid_pickle = '../cv_files/cv{0}_valid.pickle'.format(cv_idx)\n",
    "    feld_needed = ['row_id', 'user_id', 'content_id', 'content_type_id', 'answered_correctly', 'prior_question_elapsed_time', 'prior_question_had_explanation']\n",
    "    train = pd.read_pickle(train_pickle)[feld_needed]\n",
    "    valid = pd.read_pickle(valid_pickle)[feld_needed]\n",
    "    if debug:\n",
    "        train = train[:1000000]\n",
    "        valid = valid[:10000]\n",
    "    train = train.loc[train.content_type_id == False].reset_index(drop=True)\n",
    "    valid = valid.loc[valid.content_type_id == False].reset_index(drop=True)\n",
    "\n",
    "    # answered correctly average for each content\n",
    "    content_df = train[['content_id','answered_correctly']].groupby(['content_id']).agg(['mean']).reset_index()\n",
    "    content_df.columns = ['content_id', 'answered_correctly_avg_c']\n",
    "    train = pd.merge(train, content_df, on=['content_id'], how=\"left\")\n",
    "    valid = pd.merge(valid, content_df, on=['content_id'], how=\"left\")\n",
    "\n",
    "    # user stats features with loops\n",
    "    answered_correctly_sum_u_dict = defaultdict(int)\n",
    "    count_u_dict = defaultdict(int)\n",
    "    train = add_user_feats(train, answered_correctly_sum_u_dict, count_u_dict)\n",
    "    valid = add_user_feats(valid, answered_correctly_sum_u_dict, count_u_dict)\n",
    "\n",
    "    # fill with mean value for prior_question_elapsed_time\n",
    "    # note that `train.prior_question_elapsed_time.mean()` dose not work!\n",
    "    # please refer https://www.kaggle.com/its7171/can-we-trust-pandas-mean for detail.\n",
    "    prior_question_elapsed_time_mean = train.prior_question_elapsed_time.dropna().values.mean()\n",
    "    train['prior_question_elapsed_time_mean'] = train.prior_question_elapsed_time.fillna(prior_question_elapsed_time_mean)\n",
    "    valid['prior_question_elapsed_time_mean'] = valid.prior_question_elapsed_time.fillna(prior_question_elapsed_time_mean)\n",
    "\n",
    "    # use only last 30M training data for limited memory on kaggle env.\n",
    "    #train = train[-30000000:]\n",
    "\n",
    "    # part\n",
    "    questions_df = pd.read_csv(question_file)\n",
    "    train = pd.merge(train, questions_df[['question_id', 'part']], left_on = 'content_id', right_on = 'question_id', how = 'left')\n",
    "    valid = pd.merge(valid, questions_df[['question_id', 'part']], left_on = 'content_id', right_on = 'question_id', how = 'left')\n",
    "\n",
    "    # changing dtype to avoid lightgbm error\n",
    "    train['prior_question_had_explanation'] = train.prior_question_had_explanation.fillna(False).astype('int8')\n",
    "    valid['prior_question_had_explanation'] = valid.prior_question_had_explanation.fillna(False).astype('int8')\n",
    "    np.save('../cv_files/cv{0}_train'.format(cv_idx), train.values)\n",
    "    np.save('../cv_files/cv{0}_valid'.format(cv_idx), valid.values)\n",
    "\n",
    "    pd.to_pickle(content_df, '../cv_files/cv{0}_content'.format(cv_idx))\n",
    "    ans, count = dict(), dict()\n",
    "    for key, value in answered_correctly_sum_u_dict.items():\n",
    "        ans[key] = value\n",
    "    for key, value in count_u_dict.items():\n",
    "        count[key] = value\n",
    "    pd.to_pickle(ans, '../cv_files/cv{0}_answered_correctly_sum_u_dict'.format(cv_idx))\n",
    "    pd.to_pickle(count, '../cv_files/cv{0}_count_u_dict'.format(cv_idx))"
   ]
  },
  {
   "cell_type": "code",
   "execution_count": 6,
   "metadata": {},
   "outputs": [
    {
     "output_type": "display_data",
     "data": {
      "text/plain": "HBox(children=(FloatProgress(value=0.0, max=96817540.0), HTML(value='')))",
      "application/vnd.jupyter.widget-view+json": {
       "version_major": 2,
       "version_minor": 0,
       "model_id": "e53a8681d5524898ad9f499f8523ddb5"
      }
     },
     "metadata": {}
    },
    {
     "output_type": "stream",
     "name": "stdout",
     "text": [
      "\n"
     ]
    },
    {
     "output_type": "display_data",
     "data": {
      "text/plain": "HBox(children=(FloatProgress(value=0.0, max=2453760.0), HTML(value='')))",
      "application/vnd.jupyter.widget-view+json": {
       "version_major": 2,
       "version_minor": 0,
       "model_id": "c8dd795275de4fd481f4517b6ea13536"
      }
     },
     "metadata": {}
    },
    {
     "output_type": "stream",
     "name": "stdout",
     "text": [
      "\n"
     ]
    },
    {
     "output_type": "display_data",
     "data": {
      "text/plain": "HBox(children=(FloatProgress(value=0.0, max=94366861.0), HTML(value='')))",
      "application/vnd.jupyter.widget-view+json": {
       "version_major": 2,
       "version_minor": 0,
       "model_id": "3011878867a444baa3542055f2ea6607"
      }
     },
     "metadata": {}
    },
    {
     "output_type": "stream",
     "name": "stdout",
     "text": [
      "\n"
     ]
    },
    {
     "output_type": "display_data",
     "data": {
      "text/plain": "HBox(children=(FloatProgress(value=0.0, max=2450679.0), HTML(value='')))",
      "application/vnd.jupyter.widget-view+json": {
       "version_major": 2,
       "version_minor": 0,
       "model_id": "75e3eb483bf44e9f9a7140040424f6d0"
      }
     },
     "metadata": {}
    },
    {
     "output_type": "stream",
     "name": "stdout",
     "text": [
      "\n"
     ]
    },
    {
     "output_type": "display_data",
     "data": {
      "text/plain": "HBox(children=(FloatProgress(value=0.0, max=91916930.0), HTML(value='')))",
      "application/vnd.jupyter.widget-view+json": {
       "version_major": 2,
       "version_minor": 0,
       "model_id": "ba7380c0d6d44adfab563a256a92bdb4"
      }
     },
     "metadata": {}
    },
    {
     "output_type": "stream",
     "name": "stdout",
     "text": [
      "\n"
     ]
    },
    {
     "output_type": "display_data",
     "data": {
      "text/plain": "HBox(children=(FloatProgress(value=0.0, max=2449931.0), HTML(value='')))",
      "application/vnd.jupyter.widget-view+json": {
       "version_major": 2,
       "version_minor": 0,
       "model_id": "22e31cc66dc443e0b7603849a1a16e81"
      }
     },
     "metadata": {}
    },
    {
     "output_type": "stream",
     "name": "stdout",
     "text": [
      "\n"
     ]
    },
    {
     "output_type": "display_data",
     "data": {
      "text/plain": "HBox(children=(FloatProgress(value=0.0, max=89466829.0), HTML(value='')))",
      "application/vnd.jupyter.widget-view+json": {
       "version_major": 2,
       "version_minor": 0,
       "model_id": "2a6962df7a5247ea8edb21072dbe78bb"
      }
     },
     "metadata": {}
    },
    {
     "output_type": "stream",
     "name": "stdout",
     "text": [
      "\n"
     ]
    },
    {
     "output_type": "display_data",
     "data": {
      "text/plain": "HBox(children=(FloatProgress(value=0.0, max=2450101.0), HTML(value='')))",
      "application/vnd.jupyter.widget-view+json": {
       "version_major": 2,
       "version_minor": 0,
       "model_id": "f6185dbafc4043188ef9a7aa88de80a6"
      }
     },
     "metadata": {}
    },
    {
     "output_type": "stream",
     "name": "stdout",
     "text": [
      "\n"
     ]
    },
    {
     "output_type": "display_data",
     "data": {
      "text/plain": "HBox(children=(FloatProgress(value=0.0, max=87017064.0), HTML(value='')))",
      "application/vnd.jupyter.widget-view+json": {
       "version_major": 2,
       "version_minor": 0,
       "model_id": "298ed572cb24490187f9dbb97a9c2297"
      }
     },
     "metadata": {}
    },
    {
     "output_type": "stream",
     "name": "stdout",
     "text": [
      "\n"
     ]
    },
    {
     "output_type": "display_data",
     "data": {
      "text/plain": "HBox(children=(FloatProgress(value=0.0, max=2449765.0), HTML(value='')))",
      "application/vnd.jupyter.widget-view+json": {
       "version_major": 2,
       "version_minor": 0,
       "model_id": "303de167a573419b8fb4ee1b08bd99fd"
      }
     },
     "metadata": {}
    },
    {
     "output_type": "stream",
     "name": "stdout",
     "text": [
      "\n"
     ]
    }
   ],
   "source": [
    "for i in range(1, 6):\n",
    "    main(i)"
   ]
  },
  {
   "cell_type": "code",
   "execution_count": null,
   "metadata": {},
   "outputs": [],
   "source": []
  }
 ]
}