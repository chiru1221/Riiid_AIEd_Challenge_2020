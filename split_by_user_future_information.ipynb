{
 "metadata": {
  "language_info": {
   "codemirror_mode": {
    "name": "ipython",
    "version": 3
   },
   "file_extension": ".py",
   "mimetype": "text/x-python",
   "name": "python",
   "nbconvert_exporter": "python",
   "pygments_lexer": "ipython3",
   "version": "3.7.7-final"
  },
  "orig_nbformat": 2,
  "kernelspec": {
   "name": "Python 3.7.7 64-bit ('kaggle': conda)",
   "display_name": "Python 3.7.7 64-bit ('kaggle': conda)",
   "metadata": {
    "interpreter": {
     "hash": "f15a31bade87f703e513ad3072b10c6f06d3ccd96b6d16858f67eed0f22e28ac"
    }
   }
  }
 },
 "nbformat": 4,
 "nbformat_minor": 2,
 "cells": [
  {
   "cell_type": "code",
   "execution_count": 1,
   "metadata": {},
   "outputs": [],
   "source": [
    "import numpy as np\n",
    "import pandas as pd\n",
    "from lightgbm import LGBMClassifier\n",
    "import gc\n",
    "from sklearn.model_selection import train_test_split\n",
    "from sklearn.metrics import roc_auc_score\n",
    "import optuna\n",
    "from optuna.samplers import TPESampler"
   ]
  },
  {
   "cell_type": "code",
   "execution_count": 2,
   "metadata": {},
   "outputs": [
    {
     "output_type": "error",
     "ename": "KeyboardInterrupt",
     "evalue": "",
     "traceback": [
      "\u001b[1;31m---------------------------------------------------------------------------\u001b[0m",
      "\u001b[1;31mKeyboardInterrupt\u001b[0m                         Traceback (most recent call last)",
      "\u001b[1;32m<ipython-input-2-9e83c3d20870>\u001b[0m in \u001b[0;36m<module>\u001b[1;34m\u001b[0m\n\u001b[0;32m     12\u001b[0m     \u001b[0musecols\u001b[0m\u001b[1;33m=\u001b[0m\u001b[0mtypes_dict\u001b[0m\u001b[1;33m.\u001b[0m\u001b[0mkeys\u001b[0m\u001b[1;33m(\u001b[0m\u001b[1;33m)\u001b[0m\u001b[1;33m,\u001b[0m\u001b[1;33m\u001b[0m\u001b[1;33m\u001b[0m\u001b[0m\n\u001b[0;32m     13\u001b[0m     \u001b[0mdtype\u001b[0m\u001b[1;33m=\u001b[0m\u001b[0mtypes_dict\u001b[0m\u001b[1;33m,\u001b[0m\u001b[1;33m\u001b[0m\u001b[1;33m\u001b[0m\u001b[0m\n\u001b[1;32m---> 14\u001b[1;33m     \u001b[0mindex_col\u001b[0m\u001b[1;33m=\u001b[0m\u001b[1;36m0\u001b[0m\u001b[1;33m\u001b[0m\u001b[1;33m\u001b[0m\u001b[0m\n\u001b[0m\u001b[0;32m     15\u001b[0m )\n",
      "\u001b[1;32m~\\anaconda_rap\\anaconda3\\envs\\kaggle\\lib\\site-packages\\pandas\\io\\parsers.py\u001b[0m in \u001b[0;36mparser_f\u001b[1;34m(filepath_or_buffer, sep, delimiter, header, names, index_col, usecols, squeeze, prefix, mangle_dupe_cols, dtype, engine, converters, true_values, false_values, skipinitialspace, skiprows, skipfooter, nrows, na_values, keep_default_na, na_filter, verbose, skip_blank_lines, parse_dates, infer_datetime_format, keep_date_col, date_parser, dayfirst, cache_dates, iterator, chunksize, compression, thousands, decimal, lineterminator, quotechar, quoting, doublequote, escapechar, comment, encoding, dialect, error_bad_lines, warn_bad_lines, delim_whitespace, low_memory, memory_map, float_precision)\u001b[0m\n\u001b[0;32m    674\u001b[0m         )\n\u001b[0;32m    675\u001b[0m \u001b[1;33m\u001b[0m\u001b[0m\n\u001b[1;32m--> 676\u001b[1;33m         \u001b[1;32mreturn\u001b[0m \u001b[0m_read\u001b[0m\u001b[1;33m(\u001b[0m\u001b[0mfilepath_or_buffer\u001b[0m\u001b[1;33m,\u001b[0m \u001b[0mkwds\u001b[0m\u001b[1;33m)\u001b[0m\u001b[1;33m\u001b[0m\u001b[1;33m\u001b[0m\u001b[0m\n\u001b[0m\u001b[0;32m    677\u001b[0m \u001b[1;33m\u001b[0m\u001b[0m\n\u001b[0;32m    678\u001b[0m     \u001b[0mparser_f\u001b[0m\u001b[1;33m.\u001b[0m\u001b[0m__name__\u001b[0m \u001b[1;33m=\u001b[0m \u001b[0mname\u001b[0m\u001b[1;33m\u001b[0m\u001b[1;33m\u001b[0m\u001b[0m\n",
      "\u001b[1;32m~\\anaconda_rap\\anaconda3\\envs\\kaggle\\lib\\site-packages\\pandas\\io\\parsers.py\u001b[0m in \u001b[0;36m_read\u001b[1;34m(filepath_or_buffer, kwds)\u001b[0m\n\u001b[0;32m    452\u001b[0m \u001b[1;33m\u001b[0m\u001b[0m\n\u001b[0;32m    453\u001b[0m     \u001b[1;32mtry\u001b[0m\u001b[1;33m:\u001b[0m\u001b[1;33m\u001b[0m\u001b[1;33m\u001b[0m\u001b[0m\n\u001b[1;32m--> 454\u001b[1;33m         \u001b[0mdata\u001b[0m \u001b[1;33m=\u001b[0m \u001b[0mparser\u001b[0m\u001b[1;33m.\u001b[0m\u001b[0mread\u001b[0m\u001b[1;33m(\u001b[0m\u001b[0mnrows\u001b[0m\u001b[1;33m)\u001b[0m\u001b[1;33m\u001b[0m\u001b[1;33m\u001b[0m\u001b[0m\n\u001b[0m\u001b[0;32m    455\u001b[0m     \u001b[1;32mfinally\u001b[0m\u001b[1;33m:\u001b[0m\u001b[1;33m\u001b[0m\u001b[1;33m\u001b[0m\u001b[0m\n\u001b[0;32m    456\u001b[0m         \u001b[0mparser\u001b[0m\u001b[1;33m.\u001b[0m\u001b[0mclose\u001b[0m\u001b[1;33m(\u001b[0m\u001b[1;33m)\u001b[0m\u001b[1;33m\u001b[0m\u001b[1;33m\u001b[0m\u001b[0m\n",
      "\u001b[1;32m~\\anaconda_rap\\anaconda3\\envs\\kaggle\\lib\\site-packages\\pandas\\io\\parsers.py\u001b[0m in \u001b[0;36mread\u001b[1;34m(self, nrows)\u001b[0m\n\u001b[0;32m   1131\u001b[0m     \u001b[1;32mdef\u001b[0m \u001b[0mread\u001b[0m\u001b[1;33m(\u001b[0m\u001b[0mself\u001b[0m\u001b[1;33m,\u001b[0m \u001b[0mnrows\u001b[0m\u001b[1;33m=\u001b[0m\u001b[1;32mNone\u001b[0m\u001b[1;33m)\u001b[0m\u001b[1;33m:\u001b[0m\u001b[1;33m\u001b[0m\u001b[1;33m\u001b[0m\u001b[0m\n\u001b[0;32m   1132\u001b[0m         \u001b[0mnrows\u001b[0m \u001b[1;33m=\u001b[0m \u001b[0m_validate_integer\u001b[0m\u001b[1;33m(\u001b[0m\u001b[1;34m\"nrows\"\u001b[0m\u001b[1;33m,\u001b[0m \u001b[0mnrows\u001b[0m\u001b[1;33m)\u001b[0m\u001b[1;33m\u001b[0m\u001b[1;33m\u001b[0m\u001b[0m\n\u001b[1;32m-> 1133\u001b[1;33m         \u001b[0mret\u001b[0m \u001b[1;33m=\u001b[0m \u001b[0mself\u001b[0m\u001b[1;33m.\u001b[0m\u001b[0m_engine\u001b[0m\u001b[1;33m.\u001b[0m\u001b[0mread\u001b[0m\u001b[1;33m(\u001b[0m\u001b[0mnrows\u001b[0m\u001b[1;33m)\u001b[0m\u001b[1;33m\u001b[0m\u001b[1;33m\u001b[0m\u001b[0m\n\u001b[0m\u001b[0;32m   1134\u001b[0m \u001b[1;33m\u001b[0m\u001b[0m\n\u001b[0;32m   1135\u001b[0m         \u001b[1;31m# May alter columns / col_dict\u001b[0m\u001b[1;33m\u001b[0m\u001b[1;33m\u001b[0m\u001b[1;33m\u001b[0m\u001b[0m\n",
      "\u001b[1;32m~\\anaconda_rap\\anaconda3\\envs\\kaggle\\lib\\site-packages\\pandas\\io\\parsers.py\u001b[0m in \u001b[0;36mread\u001b[1;34m(self, nrows)\u001b[0m\n\u001b[0;32m   2035\u001b[0m     \u001b[1;32mdef\u001b[0m \u001b[0mread\u001b[0m\u001b[1;33m(\u001b[0m\u001b[0mself\u001b[0m\u001b[1;33m,\u001b[0m \u001b[0mnrows\u001b[0m\u001b[1;33m=\u001b[0m\u001b[1;32mNone\u001b[0m\u001b[1;33m)\u001b[0m\u001b[1;33m:\u001b[0m\u001b[1;33m\u001b[0m\u001b[1;33m\u001b[0m\u001b[0m\n\u001b[0;32m   2036\u001b[0m         \u001b[1;32mtry\u001b[0m\u001b[1;33m:\u001b[0m\u001b[1;33m\u001b[0m\u001b[1;33m\u001b[0m\u001b[0m\n\u001b[1;32m-> 2037\u001b[1;33m             \u001b[0mdata\u001b[0m \u001b[1;33m=\u001b[0m \u001b[0mself\u001b[0m\u001b[1;33m.\u001b[0m\u001b[0m_reader\u001b[0m\u001b[1;33m.\u001b[0m\u001b[0mread\u001b[0m\u001b[1;33m(\u001b[0m\u001b[0mnrows\u001b[0m\u001b[1;33m)\u001b[0m\u001b[1;33m\u001b[0m\u001b[1;33m\u001b[0m\u001b[0m\n\u001b[0m\u001b[0;32m   2038\u001b[0m         \u001b[1;32mexcept\u001b[0m \u001b[0mStopIteration\u001b[0m\u001b[1;33m:\u001b[0m\u001b[1;33m\u001b[0m\u001b[1;33m\u001b[0m\u001b[0m\n\u001b[0;32m   2039\u001b[0m             \u001b[1;32mif\u001b[0m \u001b[0mself\u001b[0m\u001b[1;33m.\u001b[0m\u001b[0m_first_chunk\u001b[0m\u001b[1;33m:\u001b[0m\u001b[1;33m\u001b[0m\u001b[1;33m\u001b[0m\u001b[0m\n",
      "\u001b[1;32mpandas\\_libs\\parsers.pyx\u001b[0m in \u001b[0;36mpandas._libs.parsers.TextReader.read\u001b[1;34m()\u001b[0m\n",
      "\u001b[1;32mpandas\\_libs\\parsers.pyx\u001b[0m in \u001b[0;36mpandas._libs.parsers.TextReader._read_low_memory\u001b[1;34m()\u001b[0m\n",
      "\u001b[1;32mpandas\\_libs\\parsers.pyx\u001b[0m in \u001b[0;36mpandas._libs.parsers.TextReader._read_rows\u001b[1;34m()\u001b[0m\n",
      "\u001b[1;32mpandas\\_libs\\parsers.pyx\u001b[0m in \u001b[0;36mpandas._libs.parsers.TextReader._convert_column_data\u001b[1;34m()\u001b[0m\n",
      "\u001b[1;32mpandas\\_libs\\parsers.pyx\u001b[0m in \u001b[0;36mpandas._libs.parsers.TextReader._convert_tokens\u001b[1;34m()\u001b[0m\n",
      "\u001b[1;32mpandas\\_libs\\parsers.pyx\u001b[0m in \u001b[0;36mpandas._libs.parsers.TextReader._convert_with_dtype\u001b[1;34m()\u001b[0m\n",
      "\u001b[1;32m~\\anaconda_rap\\anaconda3\\envs\\kaggle\\lib\\site-packages\\pandas\\core\\arrays\\boolean.py\u001b[0m in \u001b[0;36m_from_sequence_of_strings\u001b[1;34m(cls, strings, dtype, copy)\u001b[0m\n\u001b[0;32m    302\u001b[0m                 \u001b[1;32mraise\u001b[0m \u001b[0mValueError\u001b[0m\u001b[1;33m(\u001b[0m\u001b[1;34mf\"{s} cannot be cast to bool\"\u001b[0m\u001b[1;33m)\u001b[0m\u001b[1;33m\u001b[0m\u001b[1;33m\u001b[0m\u001b[0m\n\u001b[0;32m    303\u001b[0m \u001b[1;33m\u001b[0m\u001b[0m\n\u001b[1;32m--> 304\u001b[1;33m         \u001b[0mscalars\u001b[0m \u001b[1;33m=\u001b[0m \u001b[1;33m[\u001b[0m\u001b[0mmap_string\u001b[0m\u001b[1;33m(\u001b[0m\u001b[0mx\u001b[0m\u001b[1;33m)\u001b[0m \u001b[1;32mfor\u001b[0m \u001b[0mx\u001b[0m \u001b[1;32min\u001b[0m \u001b[0mstrings\u001b[0m\u001b[1;33m]\u001b[0m\u001b[1;33m\u001b[0m\u001b[1;33m\u001b[0m\u001b[0m\n\u001b[0m\u001b[0;32m    305\u001b[0m         \u001b[1;32mreturn\u001b[0m \u001b[0mcls\u001b[0m\u001b[1;33m.\u001b[0m\u001b[0m_from_sequence\u001b[0m\u001b[1;33m(\u001b[0m\u001b[0mscalars\u001b[0m\u001b[1;33m,\u001b[0m \u001b[0mdtype\u001b[0m\u001b[1;33m,\u001b[0m \u001b[0mcopy\u001b[0m\u001b[1;33m)\u001b[0m\u001b[1;33m\u001b[0m\u001b[1;33m\u001b[0m\u001b[0m\n\u001b[0;32m    306\u001b[0m \u001b[1;33m\u001b[0m\u001b[0m\n",
      "\u001b[1;32m~\\anaconda_rap\\anaconda3\\envs\\kaggle\\lib\\site-packages\\pandas\\core\\arrays\\boolean.py\u001b[0m in \u001b[0;36m<listcomp>\u001b[1;34m(.0)\u001b[0m\n\u001b[0;32m    302\u001b[0m                 \u001b[1;32mraise\u001b[0m \u001b[0mValueError\u001b[0m\u001b[1;33m(\u001b[0m\u001b[1;34mf\"{s} cannot be cast to bool\"\u001b[0m\u001b[1;33m)\u001b[0m\u001b[1;33m\u001b[0m\u001b[1;33m\u001b[0m\u001b[0m\n\u001b[0;32m    303\u001b[0m \u001b[1;33m\u001b[0m\u001b[0m\n\u001b[1;32m--> 304\u001b[1;33m         \u001b[0mscalars\u001b[0m \u001b[1;33m=\u001b[0m \u001b[1;33m[\u001b[0m\u001b[0mmap_string\u001b[0m\u001b[1;33m(\u001b[0m\u001b[0mx\u001b[0m\u001b[1;33m)\u001b[0m \u001b[1;32mfor\u001b[0m \u001b[0mx\u001b[0m \u001b[1;32min\u001b[0m \u001b[0mstrings\u001b[0m\u001b[1;33m]\u001b[0m\u001b[1;33m\u001b[0m\u001b[1;33m\u001b[0m\u001b[0m\n\u001b[0m\u001b[0;32m    305\u001b[0m         \u001b[1;32mreturn\u001b[0m \u001b[0mcls\u001b[0m\u001b[1;33m.\u001b[0m\u001b[0m_from_sequence\u001b[0m\u001b[1;33m(\u001b[0m\u001b[0mscalars\u001b[0m\u001b[1;33m,\u001b[0m \u001b[0mdtype\u001b[0m\u001b[1;33m,\u001b[0m \u001b[0mcopy\u001b[0m\u001b[1;33m)\u001b[0m\u001b[1;33m\u001b[0m\u001b[1;33m\u001b[0m\u001b[0m\n\u001b[0;32m    306\u001b[0m \u001b[1;33m\u001b[0m\u001b[0m\n",
      "\u001b[1;31mKeyboardInterrupt\u001b[0m: "
     ]
    }
   ],
   "source": [
    "types_dict = {\n",
    "    'row_id': 'int64',\n",
    "    'timestamp': 'int64',\n",
    "    'user_id': 'int32',\n",
    "    'content_id': 'int16',\n",
    "    'answered_correctly': 'int8',\n",
    "    'prior_question_elapsed_time': 'float16',\n",
    "    'prior_question_had_explanation': 'boolean'\n",
    "}\n",
    "train_df = pd.read_csv(\n",
    "    'data/train.csv',\n",
    "    usecols=types_dict.keys(),\n",
    "    dtype=types_dict,\n",
    "    index_col=0\n",
    ")"
   ]
  },
  {
   "cell_type": "code",
   "execution_count": 6,
   "metadata": {},
   "outputs": [
    {
     "output_type": "stream",
     "name": "stdout",
     "text": [
      "(91107298, 6) (10123034, 6)\n"
     ]
    }
   ],
   "source": [
    "features_df = train_df.iloc[:int(9 /10 * len(train_df))]\n",
    "train_df = train_df.iloc[int(9 /10 * len(train_df)):]\n",
    "print(features_df.shape, train_df.shape)"
   ]
  },
  {
   "cell_type": "code",
   "execution_count": 7,
   "metadata": {},
   "outputs": [],
   "source": [
    "train_questions_only_df = features_df[features_df['answered_correctly']!=-1]\n",
    "grouped_by_user_df = train_questions_only_df.groupby('user_id')\n",
    "user_answers_df = grouped_by_user_df.agg({'answered_correctly': ['mean', 'count', 'std', 'median', 'skew']}).copy()\n",
    "user_answers_df.columns = ['mean_user_accuracy', 'questions_answered', 'std_user_accuracy', 'median_user_accuracy', 'skew_user_accuracy']\n",
    "\n",
    "grouped_by_content_df = train_questions_only_df.groupby('content_id')\n",
    "content_answers_df = grouped_by_content_df.agg({'answered_correctly': ['mean', 'count', 'std', 'median', 'skew'] }).copy()\n",
    "content_answers_df.columns = ['mean_accuracy', 'question_asked', 'std_accuracy', 'median_accuracy', 'skew_accuracy']"
   ]
  },
  {
   "cell_type": "code",
   "execution_count": 8,
   "metadata": {},
   "outputs": [
    {
     "output_type": "execute_result",
     "data": {
      "text/plain": [
       "         mean_user_accuracy  ...  skew_user_accuracy\n",
       "user_id                      ...                    \n",
       "115                0.695652  ...           -0.879359\n",
       "124                0.233333  ...            1.328338\n",
       "2746               0.578947  ...           -0.347892\n",
       "5382               0.672000  ...           -0.741648\n",
       "8623               0.642202  ...           -0.601619\n",
       "\n",
       "[5 rows x 5 columns]"
      ],
      "text/html": "<div>\n<style scoped>\n    .dataframe tbody tr th:only-of-type {\n        vertical-align: middle;\n    }\n\n    .dataframe tbody tr th {\n        vertical-align: top;\n    }\n\n    .dataframe thead th {\n        text-align: right;\n    }\n</style>\n<table border=\"1\" class=\"dataframe\">\n  <thead>\n    <tr style=\"text-align: right;\">\n      <th></th>\n      <th>mean_user_accuracy</th>\n      <th>questions_answered</th>\n      <th>std_user_accuracy</th>\n      <th>median_user_accuracy</th>\n      <th>skew_user_accuracy</th>\n    </tr>\n    <tr>\n      <th>user_id</th>\n      <th></th>\n      <th></th>\n      <th></th>\n      <th></th>\n      <th></th>\n    </tr>\n  </thead>\n  <tbody>\n    <tr>\n      <th>115</th>\n      <td>0.695652</td>\n      <td>46</td>\n      <td>0.465215</td>\n      <td>1.0</td>\n      <td>-0.879359</td>\n    </tr>\n    <tr>\n      <th>124</th>\n      <td>0.233333</td>\n      <td>30</td>\n      <td>0.430183</td>\n      <td>0.0</td>\n      <td>1.328338</td>\n    </tr>\n    <tr>\n      <th>2746</th>\n      <td>0.578947</td>\n      <td>19</td>\n      <td>0.507257</td>\n      <td>1.0</td>\n      <td>-0.347892</td>\n    </tr>\n    <tr>\n      <th>5382</th>\n      <td>0.672000</td>\n      <td>125</td>\n      <td>0.471374</td>\n      <td>1.0</td>\n      <td>-0.741648</td>\n    </tr>\n    <tr>\n      <th>8623</th>\n      <td>0.642202</td>\n      <td>109</td>\n      <td>0.481566</td>\n      <td>1.0</td>\n      <td>-0.601619</td>\n    </tr>\n  </tbody>\n</table>\n</div>"
     },
     "metadata": {},
     "execution_count": 8
    }
   ],
   "source": [
    "user_answers_df.head()"
   ]
  },
  {
   "cell_type": "code",
   "execution_count": 9,
   "metadata": {},
   "outputs": [
    {
     "output_type": "execute_result",
     "data": {
      "text/plain": [
       "            mean_accuracy  question_asked  ...  median_accuracy  skew_accuracy\n",
       "content_id                                 ...                                \n",
       "0                0.908595            6236  ...              1.0      -2.836339\n",
       "1                0.891682            6684  ...              1.0      -2.521185\n",
       "2                0.554656           40499  ...              1.0      -0.219949\n",
       "3                0.779348           20734  ...              1.0      -1.347371\n",
       "4                0.613226           28549  ...              1.0      -0.465009\n",
       "\n",
       "[5 rows x 5 columns]"
      ],
      "text/html": "<div>\n<style scoped>\n    .dataframe tbody tr th:only-of-type {\n        vertical-align: middle;\n    }\n\n    .dataframe tbody tr th {\n        vertical-align: top;\n    }\n\n    .dataframe thead th {\n        text-align: right;\n    }\n</style>\n<table border=\"1\" class=\"dataframe\">\n  <thead>\n    <tr style=\"text-align: right;\">\n      <th></th>\n      <th>mean_accuracy</th>\n      <th>question_asked</th>\n      <th>std_accuracy</th>\n      <th>median_accuracy</th>\n      <th>skew_accuracy</th>\n    </tr>\n    <tr>\n      <th>content_id</th>\n      <th></th>\n      <th></th>\n      <th></th>\n      <th></th>\n      <th></th>\n    </tr>\n  </thead>\n  <tbody>\n    <tr>\n      <th>0</th>\n      <td>0.908595</td>\n      <td>6236</td>\n      <td>0.288207</td>\n      <td>1.0</td>\n      <td>-2.836339</td>\n    </tr>\n    <tr>\n      <th>1</th>\n      <td>0.891682</td>\n      <td>6684</td>\n      <td>0.310805</td>\n      <td>1.0</td>\n      <td>-2.521185</td>\n    </tr>\n    <tr>\n      <th>2</th>\n      <td>0.554656</td>\n      <td>40499</td>\n      <td>0.497010</td>\n      <td>1.0</td>\n      <td>-0.219949</td>\n    </tr>\n    <tr>\n      <th>3</th>\n      <td>0.779348</td>\n      <td>20734</td>\n      <td>0.414696</td>\n      <td>1.0</td>\n      <td>-1.347371</td>\n    </tr>\n    <tr>\n      <th>4</th>\n      <td>0.613226</td>\n      <td>28549</td>\n      <td>0.487020</td>\n      <td>1.0</td>\n      <td>-0.465009</td>\n    </tr>\n  </tbody>\n</table>\n</div>"
     },
     "metadata": {},
     "execution_count": 9
    }
   ],
   "source": [
    "content_answers_df.head()"
   ]
  },
  {
   "cell_type": "code",
   "execution_count": 12,
   "metadata": {},
   "outputs": [
    {
     "output_type": "execute_result",
     "data": {
      "text/plain": [
       "14686"
      ]
     },
     "metadata": {},
     "execution_count": 12
    }
   ],
   "source": [
    "del features_df\n",
    "del grouped_by_user_df\n",
    "del grouped_by_content_df\n",
    "\n",
    "gc.collect()"
   ]
  },
  {
   "cell_type": "code",
   "execution_count": 14,
   "metadata": {},
   "outputs": [],
   "source": [
    "features = [\n",
    "    'mean_user_accuracy', \n",
    "    'questions_answered',\n",
    "    'std_user_accuracy', \n",
    "    'median_user_accuracy',\n",
    "    'skew_user_accuracy',\n",
    "    'mean_accuracy', \n",
    "    'question_asked',\n",
    "    'std_accuracy', \n",
    "    'median_accuracy',\n",
    "    'prior_question_elapsed_time', \n",
    "    'prior_question_had_explanation',\n",
    "    'skew_accuracy'\n",
    "]\n",
    "target = 'answered_correctly'\n",
    "train_df = train_df[train_df[target] != -1]"
   ]
  },
  {
   "cell_type": "code",
   "execution_count": 15,
   "metadata": {},
   "outputs": [],
   "source": [
    "train_df = train_df.merge(user_answers_df, how='left', on='user_id')\n",
    "train_df = train_df.merge(content_answers_df, how='left', on='content_id')"
   ]
  },
  {
   "cell_type": "code",
   "execution_count": 16,
   "metadata": {},
   "outputs": [
    {
     "output_type": "execute_result",
     "data": {
      "text/plain": [
       "    timestamp     user_id  ...  median_accuracy  skew_accuracy\n",
       "0  8231964660  1933715875  ...              1.0      -0.128999\n",
       "1  8232002976  1933715875  ...              1.0      -0.344273\n",
       "2  8232096407  1933715875  ...              1.0      -0.423795\n",
       "3  8232119872  1933715875  ...              1.0      -0.847011\n",
       "4  8232142930  1933715875  ...              1.0      -1.256695\n",
       "\n",
       "[5 rows x 16 columns]"
      ],
      "text/html": "<div>\n<style scoped>\n    .dataframe tbody tr th:only-of-type {\n        vertical-align: middle;\n    }\n\n    .dataframe tbody tr th {\n        vertical-align: top;\n    }\n\n    .dataframe thead th {\n        text-align: right;\n    }\n</style>\n<table border=\"1\" class=\"dataframe\">\n  <thead>\n    <tr style=\"text-align: right;\">\n      <th></th>\n      <th>timestamp</th>\n      <th>user_id</th>\n      <th>content_id</th>\n      <th>answered_correctly</th>\n      <th>prior_question_elapsed_time</th>\n      <th>prior_question_had_explanation</th>\n      <th>mean_user_accuracy</th>\n      <th>questions_answered</th>\n      <th>std_user_accuracy</th>\n      <th>median_user_accuracy</th>\n      <th>skew_user_accuracy</th>\n      <th>mean_accuracy</th>\n      <th>question_asked</th>\n      <th>std_accuracy</th>\n      <th>median_accuracy</th>\n      <th>skew_accuracy</th>\n    </tr>\n  </thead>\n  <tbody>\n    <tr>\n      <th>0</th>\n      <td>8231964660</td>\n      <td>1933715875</td>\n      <td>11259</td>\n      <td>0</td>\n      <td>13000.0</td>\n      <td>True</td>\n      <td>0.779843</td>\n      <td>5219.0</td>\n      <td>0.414392</td>\n      <td>1.0</td>\n      <td>-1.351136</td>\n      <td>0.532146</td>\n      <td>1291.0</td>\n      <td>0.499159</td>\n      <td>1.0</td>\n      <td>-0.128999</td>\n    </tr>\n    <tr>\n      <th>1</th>\n      <td>8232002976</td>\n      <td>1933715875</td>\n      <td>4957</td>\n      <td>1</td>\n      <td>44000.0</td>\n      <td>True</td>\n      <td>0.779843</td>\n      <td>5219.0</td>\n      <td>0.414392</td>\n      <td>1.0</td>\n      <td>-1.351136</td>\n      <td>0.584772</td>\n      <td>2548.0</td>\n      <td>0.492858</td>\n      <td>1.0</td>\n      <td>-0.344273</td>\n    </tr>\n    <tr>\n      <th>2</th>\n      <td>8232096407</td>\n      <td>1933715875</td>\n      <td>5113</td>\n      <td>1</td>\n      <td>22000.0</td>\n      <td>True</td>\n      <td>0.779843</td>\n      <td>5219.0</td>\n      <td>0.414392</td>\n      <td>1.0</td>\n      <td>-1.351136</td>\n      <td>0.603571</td>\n      <td>1960.0</td>\n      <td>0.489280</td>\n      <td>1.0</td>\n      <td>-0.423795</td>\n    </tr>\n    <tr>\n      <th>3</th>\n      <td>8232119872</td>\n      <td>1933715875</td>\n      <td>4699</td>\n      <td>1</td>\n      <td>inf</td>\n      <td>True</td>\n      <td>0.779843</td>\n      <td>5219.0</td>\n      <td>0.414392</td>\n      <td>1.0</td>\n      <td>-1.351136</td>\n      <td>0.694888</td>\n      <td>2504.0</td>\n      <td>0.460547</td>\n      <td>1.0</td>\n      <td>-0.847011</td>\n    </tr>\n    <tr>\n      <th>4</th>\n      <td>8232142930</td>\n      <td>1933715875</td>\n      <td>11430</td>\n      <td>1</td>\n      <td>9000.0</td>\n      <td>True</td>\n      <td>0.779843</td>\n      <td>5219.0</td>\n      <td>0.414392</td>\n      <td>1.0</td>\n      <td>-1.351136</td>\n      <td>0.765869</td>\n      <td>1922.0</td>\n      <td>0.423565</td>\n      <td>1.0</td>\n      <td>-1.256695</td>\n    </tr>\n  </tbody>\n</table>\n</div>"
     },
     "metadata": {},
     "execution_count": 16
    }
   ],
   "source": [
    "train_df.head()"
   ]
  },
  {
   "cell_type": "code",
   "execution_count": 17,
   "metadata": {},
   "outputs": [],
   "source": [
    "train_df['prior_question_had_explanation'] = train_df['prior_question_had_explanation'].fillna(value = False).astype(bool)\n",
    "train_df = train_df.fillna(value = -1)\n",
    "train_df = train_df[features + [target]]\n",
    "train_df = train_df.replace([np.inf, -np.inf], np.nan)\n",
    "train_df = train_df.fillna(0)"
   ]
  },
  {
   "cell_type": "code",
   "execution_count": 18,
   "metadata": {},
   "outputs": [
    {
     "output_type": "execute_result",
     "data": {
      "text/plain": [
       "   mean_user_accuracy  questions_answered  ...  skew_accuracy  answered_correctly\n",
       "0            0.779843              5219.0  ...      -0.128999                   0\n",
       "1            0.779843              5219.0  ...      -0.344273                   1\n",
       "2            0.779843              5219.0  ...      -0.423795                   1\n",
       "3            0.779843              5219.0  ...      -0.847011                   1\n",
       "4            0.779843              5219.0  ...      -1.256695                   1\n",
       "\n",
       "[5 rows x 13 columns]"
      ],
      "text/html": "<div>\n<style scoped>\n    .dataframe tbody tr th:only-of-type {\n        vertical-align: middle;\n    }\n\n    .dataframe tbody tr th {\n        vertical-align: top;\n    }\n\n    .dataframe thead th {\n        text-align: right;\n    }\n</style>\n<table border=\"1\" class=\"dataframe\">\n  <thead>\n    <tr style=\"text-align: right;\">\n      <th></th>\n      <th>mean_user_accuracy</th>\n      <th>questions_answered</th>\n      <th>std_user_accuracy</th>\n      <th>median_user_accuracy</th>\n      <th>skew_user_accuracy</th>\n      <th>mean_accuracy</th>\n      <th>question_asked</th>\n      <th>std_accuracy</th>\n      <th>median_accuracy</th>\n      <th>prior_question_elapsed_time</th>\n      <th>prior_question_had_explanation</th>\n      <th>skew_accuracy</th>\n      <th>answered_correctly</th>\n    </tr>\n  </thead>\n  <tbody>\n    <tr>\n      <th>0</th>\n      <td>0.779843</td>\n      <td>5219.0</td>\n      <td>0.414392</td>\n      <td>1.0</td>\n      <td>-1.351136</td>\n      <td>0.532146</td>\n      <td>1291.0</td>\n      <td>0.499159</td>\n      <td>1.0</td>\n      <td>13000.0</td>\n      <td>True</td>\n      <td>-0.128999</td>\n      <td>0</td>\n    </tr>\n    <tr>\n      <th>1</th>\n      <td>0.779843</td>\n      <td>5219.0</td>\n      <td>0.414392</td>\n      <td>1.0</td>\n      <td>-1.351136</td>\n      <td>0.584772</td>\n      <td>2548.0</td>\n      <td>0.492858</td>\n      <td>1.0</td>\n      <td>44000.0</td>\n      <td>True</td>\n      <td>-0.344273</td>\n      <td>1</td>\n    </tr>\n    <tr>\n      <th>2</th>\n      <td>0.779843</td>\n      <td>5219.0</td>\n      <td>0.414392</td>\n      <td>1.0</td>\n      <td>-1.351136</td>\n      <td>0.603571</td>\n      <td>1960.0</td>\n      <td>0.489280</td>\n      <td>1.0</td>\n      <td>22000.0</td>\n      <td>True</td>\n      <td>-0.423795</td>\n      <td>1</td>\n    </tr>\n    <tr>\n      <th>3</th>\n      <td>0.779843</td>\n      <td>5219.0</td>\n      <td>0.414392</td>\n      <td>1.0</td>\n      <td>-1.351136</td>\n      <td>0.694888</td>\n      <td>2504.0</td>\n      <td>0.460547</td>\n      <td>1.0</td>\n      <td>0.0</td>\n      <td>True</td>\n      <td>-0.847011</td>\n      <td>1</td>\n    </tr>\n    <tr>\n      <th>4</th>\n      <td>0.779843</td>\n      <td>5219.0</td>\n      <td>0.414392</td>\n      <td>1.0</td>\n      <td>-1.351136</td>\n      <td>0.765869</td>\n      <td>1922.0</td>\n      <td>0.423565</td>\n      <td>1.0</td>\n      <td>9000.0</td>\n      <td>True</td>\n      <td>-1.256695</td>\n      <td>1</td>\n    </tr>\n  </tbody>\n</table>\n</div>"
     },
     "metadata": {},
     "execution_count": 18
    }
   ],
   "source": [
    "train_df.head()"
   ]
  },
  {
   "cell_type": "code",
   "execution_count": 20,
   "metadata": {},
   "outputs": [],
   "source": [
    "train_df, test_df = train_test_split(train_df, random_state=666, test_size=0.2)"
   ]
  },
  {
   "cell_type": "code",
   "execution_count": 23,
   "metadata": {},
   "outputs": [
    {
     "output_type": "stream",
     "name": "stdout",
     "text": [
      "[LightGBM] [Warning] feature_fraction is set=0.6884588361650144, colsample_bytree=1.0 will be ignored. Current value: feature_fraction=0.6884588361650144\n[LightGBM] [Warning] min_data_in_leaf is set=47, min_child_samples=946 will be ignored. Current value: min_data_in_leaf=47\n[LightGBM] [Warning] bagging_fraction is set=0.5817242323514327, subsample=1.0 will be ignored. Current value: bagging_fraction=0.5817242323514327\n"
     ]
    },
    {
     "output_type": "execute_result",
     "data": {
      "text/plain": [
       "LGBMClassifier(bagging_fraction=0.5817242323514327,\n",
       "               feature_fraction=0.6884588361650144,\n",
       "               learning_rate=0.42887924851375825, max_depth=6,\n",
       "               min_child_samples=946, min_data_in_leaf=47, n_estimators=169,\n",
       "               num_leaves=29, random_state=666)"
      ]
     },
     "metadata": {},
     "execution_count": 23
    }
   ],
   "source": [
    "sampler = TPESampler(seed=666)\n",
    "\n",
    "def create_model(trial):\n",
    "    num_leaves = trial.suggest_int(\"num_leaves\", 2, 31)\n",
    "    n_estimators = trial.suggest_int(\"n_estimators\", 50, 300)\n",
    "    max_depth = trial.suggest_int('max_depth', 3, 8)\n",
    "    min_child_samples = trial.suggest_int('min_child_samples', 100, 1200)\n",
    "    learning_rate = trial.suggest_uniform('learning_rate', 0.0001, 0.99)\n",
    "    min_data_in_leaf = trial.suggest_int('min_data_in_leaf', 5, 90)\n",
    "    bagging_fraction = trial.suggest_uniform('bagging_fraction', 0.0001, 1.0)\n",
    "    feature_fraction = trial.suggest_uniform('feature_fraction', 0.0001, 1.0)\n",
    "    model = LGBMClassifier(\n",
    "        num_leaves=num_leaves,\n",
    "        n_estimators=n_estimators, \n",
    "        max_depth=max_depth, \n",
    "        min_child_samples=min_child_samples, \n",
    "        min_data_in_leaf=min_data_in_leaf,\n",
    "        learning_rate=learning_rate,\n",
    "        feature_fraction=feature_fraction,\n",
    "        random_state=666\n",
    "    )\n",
    "    return model\n",
    "\n",
    "def objective(trial):\n",
    "    model = create_model(trial)\n",
    "    model.fit(train_df[features], train_df[target])\n",
    "    score = roc_auc_score(test_df[target].values, model.predict_proba(test_df[features])[:,1])\n",
    "    return score\n",
    "\n",
    "# uncomment to use optuna\n",
    "# study = optuna.create_study(direction=\"maximize\", sampler=sampler)\n",
    "# study.optimize(objective, n_trials=70)\n",
    "\n",
    "# params = study.best_params\n",
    "# params['random_state'] = 666\n",
    "params = {\n",
    "    'bagging_fraction': 0.5817242323514327,\n",
    "    'feature_fraction': 0.6884588361650144,\n",
    "    'learning_rate': 0.42887924851375825, \n",
    "    'max_depth': 6,\n",
    "    'min_child_samples': 946, \n",
    "    'min_data_in_leaf': 47, \n",
    "    'n_estimators': 169,\n",
    "    'num_leaves': 29,\n",
    "    'random_state': 666\n",
    "}\n",
    "model = LGBMClassifier(**params)\n",
    "model.fit(train_df[features], train_df[target])"
   ]
  },
  {
   "cell_type": "code",
   "execution_count": 24,
   "metadata": {},
   "outputs": [
    {
     "output_type": "stream",
     "name": "stdout",
     "text": [
      "LGB score:  0.7217108293658651\n"
     ]
    }
   ],
   "source": [
    "print('LGB score: ', roc_auc_score(test_df[target].values, model.predict_proba(test_df[features])[:,1]))"
   ]
  },
  {
   "cell_type": "code",
   "execution_count": null,
   "metadata": {},
   "outputs": [],
   "source": [
    "'''\n",
    "import riiideducation\n",
    "env = riiideducation.make_env()\n",
    "iter_test = env.iter_test()\n",
    "for (test_df, sample_prediction_df) in iter_test:\n",
    "    test_df = test_df.merge(user_answers_df, how = 'left', on = 'user_id')\n",
    "    test_df = test_df.merge(content_answers_df, how = 'left', on = 'content_id')\n",
    "    test_df['prior_question_had_explanation'] = test_df['prior_question_had_explanation'].fillna(value = False).astype(bool)\n",
    "    test_df.fillna(value = -1, inplace = True)\n",
    "\n",
    "    test_df['answered_correctly'] = model.predict_proba(test_df[features])[:,1]\n",
    "    env.predict(test_df.loc[test_df['content_type_id'] == 0, ['row_id', 'answered_correctly']])\n",
    "'''"
   ]
  }
 ]
}